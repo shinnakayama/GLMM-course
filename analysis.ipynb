{
  "cells": [
    {
      "cell_type": "markdown",
      "metadata": {
        "id": "view-in-github",
        "colab_type": "text"
      },
      "source": [
        "<a href=\"https://colab.research.google.com/github/shinnakayama/GLMM-course/blob/master/analysis.ipynb\" target=\"_parent\"><img src=\"https://colab.research.google.com/assets/colab-badge.svg\" alt=\"Open In Colab\"/></a>"
      ]
    },
    {
      "cell_type": "code",
      "execution_count": null,
      "metadata": {
        "id": "Or3hOaH57qrj",
        "vscode": {
          "languageId": "r"
        }
      },
      "outputs": [],
      "source": [
        "install.packages('ComplexUpset')\n",
        "install.packages('reshape2')    # takes a few minutes"
      ]
    },
    {
      "cell_type": "code",
      "execution_count": null,
      "metadata": {
        "id": "Ksko8unrkSgf",
        "vscode": {
          "languageId": "r"
        }
      },
      "outputs": [],
      "source": [
        "library(dplyr)\n",
        "library(ggplot2)\n",
        "library(reshape2)\n",
        "library(ComplexUpset)\n",
        "library(RColorBrewer)\n",
        "library(purrr)"
      ]
    },
    {
      "cell_type": "code",
      "execution_count": 6,
      "metadata": {
        "id": "0rrTR9Hv7Ejy",
        "vscode": {
          "languageId": "r"
        }
      },
      "outputs": [],
      "source": [
        "load('ConflictEvents_all.RData')"
      ]
    },
    {
      "cell_type": "markdown",
      "metadata": {
        "id": "oKTTJ4zjBFmj"
      },
      "source": [
        "# Clean up"
      ]
    },
    {
      "cell_type": "code",
      "execution_count": 8,
      "metadata": {
        "id": "CfUOSp1K7LKx",
        "vscode": {
          "languageId": "r"
        }
      },
      "outputs": [],
      "source": [
        "data <- ce\n",
        "\n",
        "# rename some columns\n",
        "data <- data %>%\n",
        "  rename(deaths = ...80) %>%\n",
        "  rename(violence = ...79)\n",
        "\n",
        "# Extract the text within the first set of parentheses from the original column names\n",
        "new_colnames <- sub(\"^[^(]*\\\\(([^)]+)\\\\).*\", \"\\\\1\", colnames(data))\n",
        "colname_table <- data.frame('colname' = new_colnames, 'original' = colnames(data))\n",
        "\n",
        "# when more than one \"()\", get the last one\n",
        "\n",
        "# Function to count occurrences of \"(\"\n",
        "count_occurrences <- function(name) {\n",
        "  matches <- gregexpr(\"\\\\(\", name)\n",
        "  count <- sum(unlist(matches) != -1)\n",
        "  return(count)\n",
        "}\n",
        "\n",
        "# Count occurrences for all column names\n",
        "counts <- sapply(colnames(data), count_occurrences)\n",
        "\n",
        "# Get the indices where count > 1\n",
        "indices <- unname(which(counts > 1))\n",
        "indices <- indices[indices != 14]       # 14 is the first parenthesis\n",
        "\n",
        "# get the text in the last parentheses\n",
        "colname_table$colname[indices] <- sub(\".*\\\\(([^)]+)\\\\)$\", \"\\\\1\", colnames(data)[indices])\n",
        "\n",
        "# add description\n",
        "colname_table$description <- sapply(strsplit(colname_table$original, colname_table$colname), function(x) x[[1]])\n",
        "colname_table$description <- sub(\" \\\\($\", \"\", colname_table$description)\n",
        "\n",
        "colname_table$description[colname_table$colname == 'access_space'] <- 'Access to space'\n",
        "\n",
        "# rename columns\n",
        "colnames(data) <- colname_table$colname\n",
        "\n",
        "# change country name\n",
        "data$country[data$iso3_code=='COG'] <- 'Republic of the Congo'\n",
        "data$country[data$iso3_code=='MYT'] <- 'Mayotte & Îles Éparses'\n",
        "data$country[data$iso3_code=='STP'] <- 'São Tomé & Príncipe'\n",
        "data$country[data$iso3_code=='GNB'] <- 'Guinea-Bissau'\n",
        "data$country[data$iso3_code=='STP'] <- 'São Tomé & Príncipe'\n",
        "data$country[data$iso3_code=='CPV'] <- 'Cabo Verde'\n",
        "data$country[data$iso3_code=='REU'] <- 'Réunion'\n",
        "data$country[data$iso3_code=='CIV'] <- 'Côte d\\'Ivoire'\n",
        "\n",
        "\n",
        "# drop conf_event_id\n",
        "data <- subset(data, select = -c(conf_event_id))\n",
        "\n",
        "# drop conflict event pre-2008 & > 2018\n",
        "data <- data[data$star_yr != 'pre-2008',]\n",
        "data$star_yr <- as.integer(data$star_yr)\n",
        "data <- data[data$star_yr <= 2018,]"
      ]
    },
    {
      "cell_type": "markdown",
      "metadata": {
        "id": "8HoRNPTQFQn3"
      },
      "source": [
        "Aggregate NGO, government, and industrial non-fisher"
      ]
    },
    {
      "cell_type": "code",
      "execution_count": 9,
      "metadata": {
        "id": "r-_g9baiGCoF",
        "vscode": {
          "languageId": "r"
        }
      },
      "outputs": [],
      "source": [
        "# convert to 0/1\n",
        "x <- c('intl_ngo', 'local_ngo', 'natl_ngo', 'intl_govt', 'loc_govt', 'ind_non_liv', 'ind_living_res')\n",
        "data <-  data %>%\n",
        "  mutate(across(all_of(x), ~ifelse(is.na(.x) | .x != 1, 0, .x)))\n",
        "\n",
        "# aggregate\n",
        "data$ngo <- rowSums(data[, c('intl_ngo', 'local_ngo', 'natl_ngo')])\n",
        "data$govt <- rowSums(data[, c('intl_govt', 'loc_govt')])\n",
        "data$ind_non_fish <- rowSums(data[, c('ind_non_liv', 'ind_living_res')])\n",
        "\n",
        "# convert to 0/1 based on the sum\n",
        "data <- data %>%\n",
        "  mutate(across(all_of(c('ngo', 'govt', 'ind_non_fish')), ~ifelse(.x > 0, 1, 0)))"
      ]
    },
    {
      "cell_type": "markdown",
      "metadata": {
        "id": "3OK8LHnPBK-Q"
      },
      "source": [
        "Convert to 0 / 1"
      ]
    },
    {
      "cell_type": "code",
      "execution_count": 10,
      "metadata": {
        "id": "eboZAYM39NK8",
        "vscode": {
          "languageId": "r"
        }
      },
      "outputs": [],
      "source": [
        "# convert to 0 / 1\n",
        "conflict_type <- c('access_space', 'use_space', 'access_res', 'use_res', 'benef_dist_type', 'piracy')\n",
        "\n",
        "actor_type_original <- c(\"subs_fisher\", \"ind_fishers\", \"fish_trad\",\n",
        "             \"subs_living_res\", \"develop\", \"comm_org\", \"worker_union\",\n",
        "              \"pirates\", \"state_enf\", \"intl_multi_bod\",\n",
        "              'intl_ngo', 'local_ngo', 'natl_ngo', 'intl_govt', 'loc_govt', 'ind_non_liv', 'ind_living_res')\n",
        "\n",
        "actor_type_aggregated <- c(\"ngo\", \"govt\", \"subs_fisher\", \"ind_fishers\", \"fish_trad\",\n",
        "             \"subs_living_res\", \"ind_non_fish\", \"develop\", \"comm_org\", \"worker_union\",\n",
        "              \"pirates\", \"state_enf\", \"intl_multi_bod\")\n",
        "\n",
        "stakeholder_type <- c('same_sec', 'diff_sec', 'btw_users_gov', 'btw_gov')\n",
        "\n",
        "resolution_type <- c('ev_stalemate', 'ev_res', 'ev_unres')\n",
        "\n",
        "prox_driver_type <- c('benef_dist_driv', 'acut_food_short', 'nat_dis', 'trad_v_new', 'bord_disp_prox',\n",
        "               'inad_gov_prox', 'lack_reg_prox', 'pol_insta_prox', 'res_cond_hum_prox',\n",
        "               'res_cond_nonhum_prox', 'ill_res_use_prox', 'iuu_fish_prox', 'piracy_prox', 'plan_dev')\n",
        "\n",
        "dist_driver_type <- c('poverty', 'soc_eco_ineq', 'food_insec_dist', 'clim_chang',\n",
        "                    'bord_disp_dist', 'ethnic_div_dist', 'cons_dem', 'pop_inc',\n",
        "                    'inad_gov_dist', 'pol_insta_dist', 'poor_res_hum_dist',\n",
        "                    'poor_res_no_hum_dist', 'marit_crime_dist', 'ill_res_use_dist',\n",
        "                    'iuu_fish_dist', 'piracy_dist')\n",
        "\n",
        "\n",
        "data$ev_stalemate <- ifelse(data$ev_stalemate == 'Y', 1, 0)\n",
        "data$ev_res <- ifelse(data$ev_res == 'Y', 1, 0)\n",
        "data$ev_unres <- ifelse(data$ev_unres == 'Y', 1, 0)\n",
        "\n",
        "x <- c(conflict_type, actor_type_original, actor_type_aggregated, resolution_type, prox_driver_type, dist_driver_type)\n",
        "\n",
        "data <- data %>%\n",
        "  mutate(across(all_of(x), ~ifelse(is.na(.x) | .x != 1, 0, .x)))\n",
        "\n",
        "# total conflict events\n",
        "data$total_conflict <- rowSums(data[conflict_type])"
      ]
    },
    {
      "cell_type": "markdown",
      "metadata": {
        "id": "yF0fygD_jDZ4"
      },
      "source": [
        "# Plot occurrences by conflict type"
      ]
    },
    {
      "cell_type": "code",
      "execution_count": null,
      "metadata": {
        "colab": {
          "base_uri": "https://localhost:8080/",
          "height": 34
        },
        "id": "BP28xTNcjD_3",
        "outputId": "cebe25f0-068f-4356-98f8-919802050ee7",
        "vscode": {
          "languageId": "r"
        }
      },
      "outputs": [
        {
          "data": {
            "text/html": [
              "<strong>png:</strong> 2"
            ],
            "text/latex": [
              "\\textbf{png:} 2"
            ],
            "text/markdown": [
              "**png:** 2"
            ],
            "text/plain": [
              "png \n",
              "  2 "
            ]
          },
          "metadata": {},
          "output_type": "display_data"
        }
      ],
      "source": [
        "# all conflicts including piracy-only\n",
        "foo <- data %>%\n",
        "    select(all_of(conflict_type)) %>%\n",
        "    filter(rowSums(.) != 0) # remove conflict without conflict types\n",
        "\n",
        "pdf('upset_plot.pdf', width=12, height=5)\n",
        "upset(foo, conflict_type, name='Conflict type(s)', width_ratio=0.15)\n",
        "dev.off()"
      ]
    },
    {
      "cell_type": "code",
      "execution_count": null,
      "metadata": {
        "colab": {
          "base_uri": "https://localhost:8080/",
          "height": 283
        },
        "id": "-5KuXMHBG59n",
        "outputId": "17eeda16-de45-4ff4-86b9-5a0650f3d436",
        "vscode": {
          "languageId": "r"
        }
      },
      "outputs": [
        {
          "data": {
            "text/html": [
              "<table class=\"dataframe\">\n",
              "<caption>A tibble: 6 × 4</caption>\n",
              "<thead>\n",
              "\t<tr><th scope=col>conflict</th><th scope=col>count</th><th scope=col>total</th><th scope=col>prop</th></tr>\n",
              "\t<tr><th scope=col>&lt;chr&gt;</th><th scope=col>&lt;dbl&gt;</th><th scope=col>&lt;int&gt;</th><th scope=col>&lt;dbl&gt;</th></tr>\n",
              "</thead>\n",
              "<tbody>\n",
              "\t<tr><td>access_space   </td><td>456</td><td>1082</td><td>0.4214418</td></tr>\n",
              "\t<tr><td>use_space      </td><td>193</td><td>1082</td><td>0.1783734</td></tr>\n",
              "\t<tr><td>access_res     </td><td>423</td><td>1082</td><td>0.3909427</td></tr>\n",
              "\t<tr><td>use_res        </td><td>231</td><td>1082</td><td>0.2134935</td></tr>\n",
              "\t<tr><td>benef_dist_type</td><td>134</td><td>1082</td><td>0.1238447</td></tr>\n",
              "\t<tr><td>piracy         </td><td>137</td><td>1082</td><td>0.1266174</td></tr>\n",
              "</tbody>\n",
              "</table>\n"
            ],
            "text/latex": [
              "A tibble: 6 × 4\n",
              "\\begin{tabular}{llll}\n",
              " conflict & count & total & prop\\\\\n",
              " <chr> & <dbl> & <int> & <dbl>\\\\\n",
              "\\hline\n",
              "\t access\\_space    & 456 & 1082 & 0.4214418\\\\\n",
              "\t use\\_space       & 193 & 1082 & 0.1783734\\\\\n",
              "\t access\\_res      & 423 & 1082 & 0.3909427\\\\\n",
              "\t use\\_res         & 231 & 1082 & 0.2134935\\\\\n",
              "\t benef\\_dist\\_type & 134 & 1082 & 0.1238447\\\\\n",
              "\t piracy          & 137 & 1082 & 0.1266174\\\\\n",
              "\\end{tabular}\n"
            ],
            "text/markdown": [
              "\n",
              "A tibble: 6 × 4\n",
              "\n",
              "| conflict &lt;chr&gt; | count &lt;dbl&gt; | total &lt;int&gt; | prop &lt;dbl&gt; |\n",
              "|---|---|---|---|\n",
              "| access_space    | 456 | 1082 | 0.4214418 |\n",
              "| use_space       | 193 | 1082 | 0.1783734 |\n",
              "| access_res      | 423 | 1082 | 0.3909427 |\n",
              "| use_res         | 231 | 1082 | 0.2134935 |\n",
              "| benef_dist_type | 134 | 1082 | 0.1238447 |\n",
              "| piracy          | 137 | 1082 | 0.1266174 |\n",
              "\n"
            ],
            "text/plain": [
              "  conflict        count total prop     \n",
              "1 access_space    456   1082  0.4214418\n",
              "2 use_space       193   1082  0.1783734\n",
              "3 access_res      423   1082  0.3909427\n",
              "4 use_res         231   1082  0.2134935\n",
              "5 benef_dist_type 134   1082  0.1238447\n",
              "6 piracy          137   1082  0.1266174"
            ]
          },
          "metadata": {},
          "output_type": "display_data"
        }
      ],
      "source": [
        "data %>%\n",
        "  select(all_of(conflict_type)) %>%\n",
        "  reframe(conflict = conflict_type, count = colSums(.), total = nrow(.)) %>%\n",
        "  mutate(prop = count/total)"
      ]
    },
    {
      "cell_type": "markdown",
      "metadata": {
        "id": "ESAgzSHlmjO-"
      },
      "source": [
        "# Plot occurrences by country"
      ]
    },
    {
      "cell_type": "code",
      "execution_count": null,
      "metadata": {
        "colab": {
          "base_uri": "https://localhost:8080/",
          "height": 34
        },
        "id": "7GurLQbfZW-l",
        "outputId": "4b74805e-e112-4f72-8277-384c93611b9b",
        "vscode": {
          "languageId": "r"
        }
      },
      "outputs": [
        {
          "data": {
            "text/html": [
              "<strong>png:</strong> 2"
            ],
            "text/latex": [
              "\\textbf{png:} 2"
            ],
            "text/markdown": [
              "**png:** 2"
            ],
            "text/plain": [
              "png \n",
              "  2 "
            ]
          },
          "metadata": {},
          "output_type": "display_data"
        }
      ],
      "source": [
        "# count by country x conflict type, including piracy-only conflicts\n",
        "foo <- data %>%\n",
        "    group_by(iso3_code, country) %>%\n",
        "    summarize(across(all_of(conflict_type), ~sum(. == 1), .names = \"{.col}\"), .groups = 'drop')\n",
        "\n",
        "# add Mauritius (no conflict observation)\n",
        "foo <- rbind(foo, c('MAU', 'Mauritius',0,0,0,0,0,0))\n",
        "foo <- foo %>% mutate_at(conflict_type, as.integer)\n",
        "\n",
        "# add total conflict\n",
        "bar <- data %>%\n",
        "    group_by(country) %>%\n",
        "    summarize(total_conflict = sum(total_conflict))\n",
        "\n",
        "summary <- bar %>%\n",
        "    full_join(foo, by='country') %>%\n",
        "    mutate(total_conflict = coalesce(total_conflict, 0)) %>%\n",
        "    mutate(country2 = paste(country, ' (', total_conflict, ')', sep=''))\n",
        "\n",
        "# wide to long\n",
        "summary <- melt(summary, id.vars=c('iso3_code', 'country2'), measure.vars=conflict_type,\n",
        "    variable.name='conflict_type', value.name='count')\n",
        "\n",
        "\n",
        "# reorder conflict type\n",
        "summary$conflict_type <- factor(summary$conflict_type, levels = rev(c('access_space', 'access_res', 'use_res', 'use_space', 'piracy', 'benef_dist_type')))\n",
        "\n",
        "# reorder country2\n",
        "iso3_order <- c('MRT', 'SEN', 'CPV', 'GMB', 'GNB', 'GUI', 'SLE', 'LBR', 'CIV', 'GHA',\n",
        "    'TGO', 'BEN', 'NGA', 'CMR', 'GNQ', 'STP', 'GAB', 'COG', 'ANG', 'NAM', 'ZAF',\n",
        "    'MOZ', 'MAG', 'REU', 'MUS', 'MYT', 'COM', 'TZA', 'KEN', 'SOM', 'SYC', 'DJI', 'ERI', 'SDN')\n",
        "\n",
        "summary$iso3_code <- factor(summary$iso3_code, levels = iso3_order)\n",
        "\n",
        "country_order <- summary$country2[order(match(summary$iso3_code, iso3_order))]\n",
        "country_order <- country_order[!duplicated(country_order)]\n",
        "summary$country2 <- factor(summary$country2, levels = country_order)\n",
        "\n",
        "\n",
        "# plot\n",
        "plot <- ggplot(summary, aes(y = conflict_type, x = country2, fill = as.integer(count))) +\n",
        "    geom_tile(width = 0.9, height = 0.9) +\n",
        "    labs(y = 'Conflict type', x = 'County/territory') +\n",
        "    scale_fill_gradient(low = '#ffffff', high = '#ff0000', name = 'Count') +\n",
        "    theme_minimal() +\n",
        "    theme(axis.text.x = element_text(angle = 90, hjust = 1),\n",
        "        panel.grid.major = element_blank(),\n",
        "        panel.grid.minor = element_blank(),\n",
        "        legend.key.size = unit(0.2, \"inch\"))\n",
        "\n",
        "\n",
        "pdf('country.pdf', width=9, height=3.1)\n",
        "plot\n",
        "dev.off()"
      ]
    },
    {
      "cell_type": "markdown",
      "metadata": {
        "id": "XdHnUQsq7tc_"
      },
      "source": [
        "Number of conflicts and countries"
      ]
    },
    {
      "cell_type": "code",
      "execution_count": null,
      "metadata": {
        "colab": {
          "base_uri": "https://localhost:8080/",
          "height": 51
        },
        "id": "Ruu-DQnE7zt8",
        "outputId": "0d888061-8d14-4b53-b1bc-0c7866d9c157",
        "vscode": {
          "languageId": "r"
        }
      },
      "outputs": [
        {
          "data": {
            "text/html": [
              "1082"
            ],
            "text/latex": [
              "1082"
            ],
            "text/markdown": [
              "1082"
            ],
            "text/plain": [
              "[1] 1082"
            ]
          },
          "metadata": {},
          "output_type": "display_data"
        },
        {
          "data": {
            "text/html": [
              "33"
            ],
            "text/latex": [
              "33"
            ],
            "text/markdown": [
              "33"
            ],
            "text/plain": [
              "[1] 33"
            ]
          },
          "metadata": {},
          "output_type": "display_data"
        }
      ],
      "source": [
        "nrow(data)\n",
        "length(unique(data$country))"
      ]
    },
    {
      "cell_type": "markdown",
      "metadata": {
        "id": "eshdd3pNQudu"
      },
      "source": [
        "Number of conflicts per country"
      ]
    },
    {
      "cell_type": "code",
      "execution_count": null,
      "metadata": {
        "colab": {
          "base_uri": "https://localhost:8080/",
          "height": 34
        },
        "id": "wy0poVEROi1i",
        "outputId": "39d83864-b6d4-4461-f264-ae770e9650a7",
        "vscode": {
          "languageId": "r"
        }
      },
      "outputs": [
        {
          "data": {
            "text/html": [
              "<style>\n",
              ".list-inline {list-style: none; margin:0; padding: 0}\n",
              ".list-inline>li {display: inline-block}\n",
              ".list-inline>li:not(:last-child)::after {content: \"\\00b7\"; padding: 0 .5ex}\n",
              "</style>\n",
              "<ol class=list-inline><li>1</li><li>140</li></ol>\n"
            ],
            "text/latex": [
              "\\begin{enumerate*}\n",
              "\\item 1\n",
              "\\item 140\n",
              "\\end{enumerate*}\n"
            ],
            "text/markdown": [
              "1. 1\n",
              "2. 140\n",
              "\n",
              "\n"
            ],
            "text/plain": [
              "[1]   1 140"
            ]
          },
          "metadata": {},
          "output_type": "display_data"
        }
      ],
      "source": [
        "foo <- data %>%\n",
        "  group_by(country) %>%\n",
        "  summarize(count = n())\n",
        "\n",
        "range(foo$count)"
      ]
    },
    {
      "cell_type": "markdown",
      "metadata": {
        "id": "k6PMFVGHQyFt"
      },
      "source": [
        "Number of combination"
      ]
    },
    {
      "cell_type": "code",
      "execution_count": null,
      "metadata": {
        "colab": {
          "base_uri": "https://localhost:8080/",
          "height": 51
        },
        "id": "2bj5h6QdQxTs",
        "outputId": "e32a1e24-4e72-4e5b-f66d-452660af86d7",
        "vscode": {
          "languageId": "r"
        }
      },
      "outputs": [
        {
          "data": {
            "text/html": [
              "856"
            ],
            "text/latex": [
              "856"
            ],
            "text/markdown": [
              "856"
            ],
            "text/plain": [
              "[1] 856"
            ]
          },
          "metadata": {},
          "output_type": "display_data"
        },
        {
          "data": {
            "text/html": [
              "0.791127541589649"
            ],
            "text/latex": [
              "0.791127541589649"
            ],
            "text/markdown": [
              "0.791127541589649"
            ],
            "text/plain": [
              "[1] 0.7911275"
            ]
          },
          "metadata": {},
          "output_type": "display_data"
        }
      ],
      "source": [
        "foo <- data %>%\n",
        "    group_by(across(all_of(x))) %>%\n",
        "    summarize(count = n(), .groups = 'drop')\n",
        "\n",
        "nrow(foo)\n",
        "nrow(foo)/nrow(data)"
      ]
    },
    {
      "cell_type": "markdown",
      "metadata": {
        "id": "E3_IsoFke2-M"
      },
      "source": [
        "Time series by country"
      ]
    },
    {
      "cell_type": "code",
      "execution_count": null,
      "metadata": {
        "id": "fSi_--OdCzhu",
        "vscode": {
          "languageId": "r"
        }
      },
      "outputs": [],
      "source": [
        "install.packages(\"car\")    # takes several minutes\n",
        "library(car)\n",
        "library(lme4)"
      ]
    },
    {
      "cell_type": "code",
      "execution_count": null,
      "metadata": {
        "colab": {
          "base_uri": "https://localhost:8080/",
          "height": 159
        },
        "id": "dDPITGfQhs7v",
        "outputId": "0700b896-b905-4650-8ef6-690ef69817fd",
        "vscode": {
          "languageId": "r"
        }
      },
      "outputs": [
        {
          "data": {
            "text/html": [
              "<table class=\"dataframe\">\n",
              "<caption>A anova: 2 × 3</caption>\n",
              "<thead>\n",
              "\t<tr><th></th><th scope=col>Chisq</th><th scope=col>Df</th><th scope=col>Pr(&gt;Chisq)</th></tr>\n",
              "\t<tr><th></th><th scope=col>&lt;dbl&gt;</th><th scope=col>&lt;dbl&gt;</th><th scope=col>&lt;dbl&gt;</th></tr>\n",
              "</thead>\n",
              "<tbody>\n",
              "\t<tr><th scope=row>(Intercept)</th><td>8.818582</td><td>1</td><td>0.002981784</td></tr>\n",
              "\t<tr><th scope=row>yr2</th><td>1.544066</td><td>1</td><td>0.214013608</td></tr>\n",
              "</tbody>\n",
              "</table>\n"
            ],
            "text/latex": [
              "A anova: 2 × 3\n",
              "\\begin{tabular}{r|lll}\n",
              "  & Chisq & Df & Pr(>Chisq)\\\\\n",
              "  & <dbl> & <dbl> & <dbl>\\\\\n",
              "\\hline\n",
              "\t(Intercept) & 8.818582 & 1 & 0.002981784\\\\\n",
              "\tyr2 & 1.544066 & 1 & 0.214013608\\\\\n",
              "\\end{tabular}\n"
            ],
            "text/markdown": [
              "\n",
              "A anova: 2 × 3\n",
              "\n",
              "| <!--/--> | Chisq &lt;dbl&gt; | Df &lt;dbl&gt; | Pr(&gt;Chisq) &lt;dbl&gt; |\n",
              "|---|---|---|---|\n",
              "| (Intercept) | 8.818582 | 1 | 0.002981784 |\n",
              "| yr2 | 1.544066 | 1 | 0.214013608 |\n",
              "\n"
            ],
            "text/plain": [
              "            Chisq    Df Pr(>Chisq) \n",
              "(Intercept) 8.818582 1  0.002981784\n",
              "yr2         1.544066 1  0.214013608"
            ]
          },
          "metadata": {},
          "output_type": "display_data"
        }
      ],
      "source": [
        "# total conflict events by country x year\n",
        "foo <- data %>%\n",
        "    filter(!(piracy == 1 & total_conflict == 1)) %>%\n",
        "    group_by(country, star_yr) %>%\n",
        "    summarize(count = n(), .groups = 'drop')\n",
        "\n",
        "# Create a template for all combinations of country and year\n",
        "template <- expand.grid(\n",
        "  country = unique(foo$country),\n",
        "  star_yr = seq(2008, 2018)\n",
        ")\n",
        "\n",
        "# Merge the template with the original data and fill missing counts with 0\n",
        "bar <- template %>%\n",
        "  left_join(foo, by = c(\"country\", \"star_yr\")) %>%\n",
        "  mutate(count = coalesce(count, 0))\n",
        "\n",
        "# fit and test\n",
        "bar$yr2 <- bar$star_yr - mean(bar$star_yr)\n",
        "fit <- glmer(count ~ yr2 + (1|country), data=bar, family=poisson)\n",
        "\n",
        "Anova(fit, type = 3)"
      ]
    },
    {
      "cell_type": "markdown",
      "metadata": {
        "id": "Tmq4gt2AlZYf"
      },
      "source": [
        "Individual country"
      ]
    },
    {
      "cell_type": "code",
      "execution_count": null,
      "metadata": {
        "id": "QXBsfsnFHFW8",
        "vscode": {
          "languageId": "r"
        }
      },
      "outputs": [],
      "source": [
        "install.packages(\"emmeans\")\n",
        "install.packages(\"broom\")\n",
        "library(emmeans)\n",
        "library(broom)"
      ]
    },
    {
      "cell_type": "code",
      "execution_count": null,
      "metadata": {
        "colab": {
          "base_uri": "https://localhost:8080/",
          "height": 586
        },
        "id": "8U-zNILYlyBr",
        "outputId": "a8c2609e-4c20-4605-fa5d-6e293f81f63f",
        "vscode": {
          "languageId": "r"
        }
      },
      "outputs": [
        {
          "data": {
            "text/html": [
              "<table class=\"dataframe\">\n",
              "<caption>A summary_emm: 8 × 9</caption>\n",
              "<thead>\n",
              "\t<tr><th></th><th scope=col>country</th><th scope=col>yr2.trend</th><th scope=col>SE</th><th scope=col>df</th><th scope=col>asymp.LCL</th><th scope=col>asymp.UCL</th><th scope=col>z.ratio</th><th scope=col>p.value</th><th scope=col>rate</th></tr>\n",
              "\t<tr><th></th><th scope=col>&lt;fct&gt;</th><th scope=col>&lt;dbl&gt;</th><th scope=col>&lt;dbl&gt;</th><th scope=col>&lt;dbl&gt;</th><th scope=col>&lt;dbl&gt;</th><th scope=col>&lt;dbl&gt;</th><th scope=col>&lt;dbl&gt;</th><th scope=col>&lt;dbl&gt;</th><th scope=col>&lt;dbl&gt;</th></tr>\n",
              "</thead>\n",
              "<tbody>\n",
              "\t<tr><th scope=row>24</th><td>Réunion     </td><td>0.1069539</td><td>0.04027883</td><td>Inf</td><td>0.028008848</td><td>0.1858990</td><td>2.655338</td><td>0.007922901</td><td>0.1128830</td></tr>\n",
              "\t<tr><th scope=row>15</th><td>Kenya       </td><td>0.1244410</td><td>0.06148555</td><td>Inf</td><td>0.003931498</td><td>0.2449504</td><td>2.023906</td><td>0.042979844</td><td>0.1325152</td></tr>\n",
              "\t<tr><th scope=row>30</th><td>South Africa</td><td>0.1263725</td><td>0.04736766</td><td>Inf</td><td>0.033533563</td><td>0.2192114</td><td>2.667906</td><td>0.007632558</td><td>0.1347047</td></tr>\n",
              "\t<tr><th scope=row>16</th><td>Liberia     </td><td>0.1532896</td><td>0.04526954</td><td>Inf</td><td>0.064562917</td><td>0.2420163</td><td>3.386153</td><td>0.000708799</td><td>0.1656625</td></tr>\n",
              "\t<tr><th scope=row>20</th><td>Mozambique  </td><td>0.1990080</td><td>0.09819923</td><td>Inf</td><td>0.006541039</td><td>0.3914750</td><td>2.026574</td><td>0.042706012</td><td>0.2201917</td></tr>\n",
              "\t<tr><th scope=row>3</th><td>Cabo Verde  </td><td>0.2457316</td><td>0.11814461</td><td>Inf</td><td>0.014172427</td><td>0.4772908</td><td>2.079922</td><td>0.037532661</td><td>0.2785564</td></tr>\n",
              "\t<tr><th scope=row>13</th><td>Guinea      </td><td>0.2829635</td><td>0.11816477</td><td>Inf</td><td>0.051364817</td><td>0.5145622</td><td>2.394652</td><td>0.016636143</td><td>0.3270567</td></tr>\n",
              "\t<tr><th scope=row>11</th><td>Gambia      </td><td>0.3101201</td><td>0.14379947</td><td>Inf</td><td>0.028278307</td><td>0.5919619</td><td>2.156615</td><td>0.031035677</td><td>0.3635888</td></tr>\n",
              "</tbody>\n",
              "</table>\n"
            ],
            "text/latex": [
              "A summary\\_emm: 8 × 9\n",
              "\\begin{tabular}{r|lllllllll}\n",
              "  & country & yr2.trend & SE & df & asymp.LCL & asymp.UCL & z.ratio & p.value & rate\\\\\n",
              "  & <fct> & <dbl> & <dbl> & <dbl> & <dbl> & <dbl> & <dbl> & <dbl> & <dbl>\\\\\n",
              "\\hline\n",
              "\t24 & Réunion      & 0.1069539 & 0.04027883 & Inf & 0.028008848 & 0.1858990 & 2.655338 & 0.007922901 & 0.1128830\\\\\n",
              "\t15 & Kenya        & 0.1244410 & 0.06148555 & Inf & 0.003931498 & 0.2449504 & 2.023906 & 0.042979844 & 0.1325152\\\\\n",
              "\t30 & South Africa & 0.1263725 & 0.04736766 & Inf & 0.033533563 & 0.2192114 & 2.667906 & 0.007632558 & 0.1347047\\\\\n",
              "\t16 & Liberia      & 0.1532896 & 0.04526954 & Inf & 0.064562917 & 0.2420163 & 3.386153 & 0.000708799 & 0.1656625\\\\\n",
              "\t20 & Mozambique   & 0.1990080 & 0.09819923 & Inf & 0.006541039 & 0.3914750 & 2.026574 & 0.042706012 & 0.2201917\\\\\n",
              "\t3 & Cabo Verde   & 0.2457316 & 0.11814461 & Inf & 0.014172427 & 0.4772908 & 2.079922 & 0.037532661 & 0.2785564\\\\\n",
              "\t13 & Guinea       & 0.2829635 & 0.11816477 & Inf & 0.051364817 & 0.5145622 & 2.394652 & 0.016636143 & 0.3270567\\\\\n",
              "\t11 & Gambia       & 0.3101201 & 0.14379947 & Inf & 0.028278307 & 0.5919619 & 2.156615 & 0.031035677 & 0.3635888\\\\\n",
              "\\end{tabular}\n"
            ],
            "text/markdown": [
              "\n",
              "A summary_emm: 8 × 9\n",
              "\n",
              "| <!--/--> | country &lt;fct&gt; | yr2.trend &lt;dbl&gt; | SE &lt;dbl&gt; | df &lt;dbl&gt; | asymp.LCL &lt;dbl&gt; | asymp.UCL &lt;dbl&gt; | z.ratio &lt;dbl&gt; | p.value &lt;dbl&gt; | rate &lt;dbl&gt; |\n",
              "|---|---|---|---|---|---|---|---|---|---|\n",
              "| 24 | Réunion      | 0.1069539 | 0.04027883 | Inf | 0.028008848 | 0.1858990 | 2.655338 | 0.007922901 | 0.1128830 |\n",
              "| 15 | Kenya        | 0.1244410 | 0.06148555 | Inf | 0.003931498 | 0.2449504 | 2.023906 | 0.042979844 | 0.1325152 |\n",
              "| 30 | South Africa | 0.1263725 | 0.04736766 | Inf | 0.033533563 | 0.2192114 | 2.667906 | 0.007632558 | 0.1347047 |\n",
              "| 16 | Liberia      | 0.1532896 | 0.04526954 | Inf | 0.064562917 | 0.2420163 | 3.386153 | 0.000708799 | 0.1656625 |\n",
              "| 20 | Mozambique   | 0.1990080 | 0.09819923 | Inf | 0.006541039 | 0.3914750 | 2.026574 | 0.042706012 | 0.2201917 |\n",
              "| 3 | Cabo Verde   | 0.2457316 | 0.11814461 | Inf | 0.014172427 | 0.4772908 | 2.079922 | 0.037532661 | 0.2785564 |\n",
              "| 13 | Guinea       | 0.2829635 | 0.11816477 | Inf | 0.051364817 | 0.5145622 | 2.394652 | 0.016636143 | 0.3270567 |\n",
              "| 11 | Gambia       | 0.3101201 | 0.14379947 | Inf | 0.028278307 | 0.5919619 | 2.156615 | 0.031035677 | 0.3635888 |\n",
              "\n"
            ],
            "text/plain": [
              "   country      yr2.trend SE         df  asymp.LCL   asymp.UCL z.ratio \n",
              "24 Réunion      0.1069539 0.04027883 Inf 0.028008848 0.1858990 2.655338\n",
              "15 Kenya        0.1244410 0.06148555 Inf 0.003931498 0.2449504 2.023906\n",
              "30 South Africa 0.1263725 0.04736766 Inf 0.033533563 0.2192114 2.667906\n",
              "16 Liberia      0.1532896 0.04526954 Inf 0.064562917 0.2420163 3.386153\n",
              "20 Mozambique   0.1990080 0.09819923 Inf 0.006541039 0.3914750 2.026574\n",
              "3  Cabo Verde   0.2457316 0.11814461 Inf 0.014172427 0.4772908 2.079922\n",
              "13 Guinea       0.2829635 0.11816477 Inf 0.051364817 0.5145622 2.394652\n",
              "11 Gambia       0.3101201 0.14379947 Inf 0.028278307 0.5919619 2.156615\n",
              "   p.value     rate     \n",
              "24 0.007922901 0.1128830\n",
              "15 0.042979844 0.1325152\n",
              "30 0.007632558 0.1347047\n",
              "16 0.000708799 0.1656625\n",
              "20 0.042706012 0.2201917\n",
              "3  0.037532661 0.2785564\n",
              "13 0.016636143 0.3270567\n",
              "11 0.031035677 0.3635888"
            ]
          },
          "metadata": {},
          "output_type": "display_data"
        },
        {
          "data": {
            "text/html": [
              "<table class=\"dataframe\">\n",
              "<caption>A summary_emm: 4 × 9</caption>\n",
              "<thead>\n",
              "\t<tr><th></th><th scope=col>country</th><th scope=col>yr2.trend</th><th scope=col>SE</th><th scope=col>df</th><th scope=col>asymp.LCL</th><th scope=col>asymp.UCL</th><th scope=col>z.ratio</th><th scope=col>p.value</th><th scope=col>rate</th></tr>\n",
              "\t<tr><th></th><th scope=col>&lt;fct&gt;</th><th scope=col>&lt;dbl&gt;</th><th scope=col>&lt;dbl&gt;</th><th scope=col>&lt;dbl&gt;</th><th scope=col>&lt;dbl&gt;</th><th scope=col>&lt;dbl&gt;</th><th scope=col>&lt;dbl&gt;</th><th scope=col>&lt;dbl&gt;</th><th scope=col>&lt;dbl&gt;</th></tr>\n",
              "</thead>\n",
              "<tbody>\n",
              "\t<tr><th scope=row>6</th><td>Côte d'Ivore</td><td>-0.20212907</td><td>0.06380430</td><td>Inf</td><td>-0.3271832</td><td>-0.07707493</td><td>-3.167954</td><td>0.001535160</td><td>-0.18301053</td></tr>\n",
              "\t<tr><th scope=row>29</th><td>Somalia     </td><td>-0.11171076</td><td>0.03716465</td><td>Inf</td><td>-0.1845521</td><td>-0.03886939</td><td>-3.005834</td><td>0.002648535</td><td>-0.10569711</td></tr>\n",
              "\t<tr><th scope=row>22</th><td>Nigeria     </td><td>-0.09809398</td><td>0.04470921</td><td>Inf</td><td>-0.1857224</td><td>-0.01046553</td><td>-2.194044</td><td>0.028232254</td><td>-0.09343630</td></tr>\n",
              "\t<tr><th scope=row>26</th><td>Senegal     </td><td>-0.07875352</td><td>0.02773066</td><td>Inf</td><td>-0.1331046</td><td>-0.02440242</td><td>-2.839944</td><td>0.004512151</td><td>-0.07573229</td></tr>\n",
              "</tbody>\n",
              "</table>\n"
            ],
            "text/latex": [
              "A summary\\_emm: 4 × 9\n",
              "\\begin{tabular}{r|lllllllll}\n",
              "  & country & yr2.trend & SE & df & asymp.LCL & asymp.UCL & z.ratio & p.value & rate\\\\\n",
              "  & <fct> & <dbl> & <dbl> & <dbl> & <dbl> & <dbl> & <dbl> & <dbl> & <dbl>\\\\\n",
              "\\hline\n",
              "\t6 & Côte d'Ivore & -0.20212907 & 0.06380430 & Inf & -0.3271832 & -0.07707493 & -3.167954 & 0.001535160 & -0.18301053\\\\\n",
              "\t29 & Somalia      & -0.11171076 & 0.03716465 & Inf & -0.1845521 & -0.03886939 & -3.005834 & 0.002648535 & -0.10569711\\\\\n",
              "\t22 & Nigeria      & -0.09809398 & 0.04470921 & Inf & -0.1857224 & -0.01046553 & -2.194044 & 0.028232254 & -0.09343630\\\\\n",
              "\t26 & Senegal      & -0.07875352 & 0.02773066 & Inf & -0.1331046 & -0.02440242 & -2.839944 & 0.004512151 & -0.07573229\\\\\n",
              "\\end{tabular}\n"
            ],
            "text/markdown": [
              "\n",
              "A summary_emm: 4 × 9\n",
              "\n",
              "| <!--/--> | country &lt;fct&gt; | yr2.trend &lt;dbl&gt; | SE &lt;dbl&gt; | df &lt;dbl&gt; | asymp.LCL &lt;dbl&gt; | asymp.UCL &lt;dbl&gt; | z.ratio &lt;dbl&gt; | p.value &lt;dbl&gt; | rate &lt;dbl&gt; |\n",
              "|---|---|---|---|---|---|---|---|---|---|\n",
              "| 6 | Côte d'Ivore | -0.20212907 | 0.06380430 | Inf | -0.3271832 | -0.07707493 | -3.167954 | 0.001535160 | -0.18301053 |\n",
              "| 29 | Somalia      | -0.11171076 | 0.03716465 | Inf | -0.1845521 | -0.03886939 | -3.005834 | 0.002648535 | -0.10569711 |\n",
              "| 22 | Nigeria      | -0.09809398 | 0.04470921 | Inf | -0.1857224 | -0.01046553 | -2.194044 | 0.028232254 | -0.09343630 |\n",
              "| 26 | Senegal      | -0.07875352 | 0.02773066 | Inf | -0.1331046 | -0.02440242 | -2.839944 | 0.004512151 | -0.07573229 |\n",
              "\n"
            ],
            "text/plain": [
              "   country      yr2.trend   SE         df  asymp.LCL  asymp.UCL   z.ratio  \n",
              "6  Côte d'Ivore -0.20212907 0.06380430 Inf -0.3271832 -0.07707493 -3.167954\n",
              "29 Somalia      -0.11171076 0.03716465 Inf -0.1845521 -0.03886939 -3.005834\n",
              "22 Nigeria      -0.09809398 0.04470921 Inf -0.1857224 -0.01046553 -2.194044\n",
              "26 Senegal      -0.07875352 0.02773066 Inf -0.1331046 -0.02440242 -2.839944\n",
              "   p.value     rate       \n",
              "6  0.001535160 -0.18301053\n",
              "29 0.002648535 -0.10569711\n",
              "22 0.028232254 -0.09343630\n",
              "26 0.004512151 -0.07573229"
            ]
          },
          "metadata": {},
          "output_type": "display_data"
        }
      ],
      "source": [
        "fit <- glm(count ~ yr2 * country, data=bar, family=poisson)\n",
        "emt <- emtrends(fit, ~country, var = \"yr2\")\n",
        "\n",
        "# Display the summary of the tests\n",
        "out <- summary(emt, infer = TRUE)\n",
        "\n",
        "increase <- out[out$p.value < 0.05 & out$yr2.trend > 0,]\n",
        "increase$rate <- exp(increase$yr2.trend) - 1\n",
        "increase[order(increase$yr2.trend),]\n",
        "\n",
        "decrease <- out[out$p.value < 0.05 & out$yr2.trend < 0,]\n",
        "decrease$rate <- exp(decrease$yr2.trend) - 1\n",
        "decrease[order(decrease$yr2.trend),]"
      ]
    },
    {
      "cell_type": "markdown",
      "metadata": {
        "id": "KcbJczDOV9P_"
      },
      "source": [
        "% Access to resource or space"
      ]
    },
    {
      "cell_type": "code",
      "execution_count": null,
      "metadata": {
        "colab": {
          "base_uri": "https://localhost:8080/",
          "height": 68
        },
        "id": "QAnrH2-EV_zr",
        "outputId": "d5282f7f-cd59-473d-8e3b-5b765917b17b",
        "vscode": {
          "languageId": "r"
        }
      },
      "outputs": [
        {
          "data": {
            "text/html": [
              "64.3253234750462"
            ],
            "text/latex": [
              "64.3253234750462"
            ],
            "text/markdown": [
              "64.3253234750462"
            ],
            "text/plain": [
              "[1] 64.32532"
            ]
          },
          "metadata": {},
          "output_type": "display_data"
        },
        {
          "data": {
            "text/html": [
              "42.1441774491682"
            ],
            "text/latex": [
              "42.1441774491682"
            ],
            "text/markdown": [
              "42.1441774491682"
            ],
            "text/plain": [
              "[1] 42.14418"
            ]
          },
          "metadata": {},
          "output_type": "display_data"
        },
        {
          "data": {
            "text/html": [
              "39.09426987061"
            ],
            "text/latex": [
              "39.09426987061"
            ],
            "text/markdown": [
              "39.09426987061"
            ],
            "text/plain": [
              "[1] 39.09427"
            ]
          },
          "metadata": {},
          "output_type": "display_data"
        }
      ],
      "source": [
        "nrow(data[data$access_res == 1 | data$access_space == 1,])/nrow(data) * 100\n",
        "nrow(data[data$access_space == 1,])/nrow(data) * 100\n",
        "nrow(data[data$access_res == 1,])/nrow(data) * 100"
      ]
    },
    {
      "cell_type": "markdown",
      "metadata": {
        "id": "rmeRIyutWoZH"
      },
      "source": [
        "Purely piracy conflict"
      ]
    },
    {
      "cell_type": "code",
      "execution_count": null,
      "metadata": {
        "colab": {
          "base_uri": "https://localhost:8080/",
          "height": 51
        },
        "id": "EI6-8v4eWp_9",
        "outputId": "462b0082-b682-44ed-a61e-998702757ed8",
        "vscode": {
          "languageId": "r"
        }
      },
      "outputs": [
        {
          "data": {
            "text/html": [
              "120"
            ],
            "text/latex": [
              "120"
            ],
            "text/markdown": [
              "120"
            ],
            "text/plain": [
              "[1] 120"
            ]
          },
          "metadata": {},
          "output_type": "display_data"
        },
        {
          "data": {
            "text/html": [
              "11.090573012939"
            ],
            "text/latex": [
              "11.090573012939"
            ],
            "text/markdown": [
              "11.090573012939"
            ],
            "text/plain": [
              "[1] 11.09057"
            ]
          },
          "metadata": {},
          "output_type": "display_data"
        }
      ],
      "source": [
        "nrow(data[data$total_conflict==1 & data$piracy==1,])\n",
        "nrow(data[data$total_conflict==1 & data$piracy==1,])/nrow(data) * 100"
      ]
    },
    {
      "cell_type": "markdown",
      "metadata": {
        "id": "XoqKYfoXVD48"
      },
      "source": [
        "Piracy-only by country"
      ]
    },
    {
      "cell_type": "code",
      "execution_count": null,
      "metadata": {
        "colab": {
          "base_uri": "https://localhost:8080/",
          "height": 469
        },
        "id": "wCyP_PfsVFIh",
        "outputId": "4e70aad8-7bfd-4254-bced-6dd2cce699f3",
        "vscode": {
          "languageId": "r"
        }
      },
      "outputs": [
        {
          "data": {
            "text/html": [
              "<table class=\"dataframe\">\n",
              "<caption>A tibble: 12 × 2</caption>\n",
              "<thead>\n",
              "\t<tr><th scope=col>country</th><th scope=col>n_piracy_only</th></tr>\n",
              "\t<tr><th scope=col>&lt;chr&gt;</th><th scope=col>&lt;int&gt;</th></tr>\n",
              "</thead>\n",
              "<tbody>\n",
              "\t<tr><td>Somalia     </td><td>62</td></tr>\n",
              "\t<tr><td>Nigeria     </td><td>19</td></tr>\n",
              "\t<tr><td>Seychelles  </td><td>12</td></tr>\n",
              "\t<tr><td>Cameroon    </td><td> 9</td></tr>\n",
              "\t<tr><td>Kenya       </td><td> 5</td></tr>\n",
              "\t<tr><td>Ghana       </td><td> 4</td></tr>\n",
              "\t<tr><td>Madagascar  </td><td> 4</td></tr>\n",
              "\t<tr><td>Guinea      </td><td> 1</td></tr>\n",
              "\t<tr><td>Mauritania  </td><td> 1</td></tr>\n",
              "\t<tr><td>Mozambique  </td><td> 1</td></tr>\n",
              "\t<tr><td>Sierra Leone</td><td> 1</td></tr>\n",
              "\t<tr><td>Sudan       </td><td> 1</td></tr>\n",
              "</tbody>\n",
              "</table>\n"
            ],
            "text/latex": [
              "A tibble: 12 × 2\n",
              "\\begin{tabular}{ll}\n",
              " country & n\\_piracy\\_only\\\\\n",
              " <chr> & <int>\\\\\n",
              "\\hline\n",
              "\t Somalia      & 62\\\\\n",
              "\t Nigeria      & 19\\\\\n",
              "\t Seychelles   & 12\\\\\n",
              "\t Cameroon     &  9\\\\\n",
              "\t Kenya        &  5\\\\\n",
              "\t Ghana        &  4\\\\\n",
              "\t Madagascar   &  4\\\\\n",
              "\t Guinea       &  1\\\\\n",
              "\t Mauritania   &  1\\\\\n",
              "\t Mozambique   &  1\\\\\n",
              "\t Sierra Leone &  1\\\\\n",
              "\t Sudan        &  1\\\\\n",
              "\\end{tabular}\n"
            ],
            "text/markdown": [
              "\n",
              "A tibble: 12 × 2\n",
              "\n",
              "| country &lt;chr&gt; | n_piracy_only &lt;int&gt; |\n",
              "|---|---|\n",
              "| Somalia      | 62 |\n",
              "| Nigeria      | 19 |\n",
              "| Seychelles   | 12 |\n",
              "| Cameroon     |  9 |\n",
              "| Kenya        |  5 |\n",
              "| Ghana        |  4 |\n",
              "| Madagascar   |  4 |\n",
              "| Guinea       |  1 |\n",
              "| Mauritania   |  1 |\n",
              "| Mozambique   |  1 |\n",
              "| Sierra Leone |  1 |\n",
              "| Sudan        |  1 |\n",
              "\n"
            ],
            "text/plain": [
              "   country      n_piracy_only\n",
              "1  Somalia      62           \n",
              "2  Nigeria      19           \n",
              "3  Seychelles   12           \n",
              "4  Cameroon      9           \n",
              "5  Kenya         5           \n",
              "6  Ghana         4           \n",
              "7  Madagascar    4           \n",
              "8  Guinea        1           \n",
              "9  Mauritania    1           \n",
              "10 Mozambique    1           \n",
              "11 Sierra Leone  1           \n",
              "12 Sudan         1           "
            ]
          },
          "metadata": {},
          "output_type": "display_data"
        }
      ],
      "source": [
        "data %>%\n",
        "    filter(piracy == 1 & total_conflict == 1) %>%\n",
        "    group_by(country) %>%\n",
        "    summarize(n_piracy_only = n()) %>%\n",
        "    arrange(desc(n_piracy_only))"
      ]
    },
    {
      "cell_type": "markdown",
      "metadata": {
        "id": "bi9gJ8JuIjqt"
      },
      "source": [
        "Any piracy by country"
      ]
    },
    {
      "cell_type": "code",
      "execution_count": null,
      "metadata": {
        "colab": {
          "base_uri": "https://localhost:8080/",
          "height": 500
        },
        "id": "39nzU-anIhwm",
        "outputId": "3b4cad76-30c9-43f5-acd8-61b194d80e7e",
        "vscode": {
          "languageId": "r"
        }
      },
      "outputs": [
        {
          "data": {
            "text/html": [
              "<table class=\"dataframe\">\n",
              "<caption>A tibble: 13 × 2</caption>\n",
              "<thead>\n",
              "\t<tr><th scope=col>country</th><th scope=col>n_piracy</th></tr>\n",
              "\t<tr><th scope=col>&lt;chr&gt;</th><th scope=col>&lt;int&gt;</th></tr>\n",
              "</thead>\n",
              "<tbody>\n",
              "\t<tr><td>Somalia     </td><td>70</td></tr>\n",
              "\t<tr><td>Nigeria     </td><td>25</td></tr>\n",
              "\t<tr><td>Seychelles  </td><td>13</td></tr>\n",
              "\t<tr><td>Cameroon    </td><td> 9</td></tr>\n",
              "\t<tr><td>Ghana       </td><td> 5</td></tr>\n",
              "\t<tr><td>Kenya       </td><td> 5</td></tr>\n",
              "\t<tr><td>Madagascar  </td><td> 4</td></tr>\n",
              "\t<tr><td>Eritrea     </td><td> 1</td></tr>\n",
              "\t<tr><td>Guinea      </td><td> 1</td></tr>\n",
              "\t<tr><td>Mauritania  </td><td> 1</td></tr>\n",
              "\t<tr><td>Mozambique  </td><td> 1</td></tr>\n",
              "\t<tr><td>Sierra Leone</td><td> 1</td></tr>\n",
              "\t<tr><td>Sudan       </td><td> 1</td></tr>\n",
              "</tbody>\n",
              "</table>\n"
            ],
            "text/latex": [
              "A tibble: 13 × 2\n",
              "\\begin{tabular}{ll}\n",
              " country & n\\_piracy\\\\\n",
              " <chr> & <int>\\\\\n",
              "\\hline\n",
              "\t Somalia      & 70\\\\\n",
              "\t Nigeria      & 25\\\\\n",
              "\t Seychelles   & 13\\\\\n",
              "\t Cameroon     &  9\\\\\n",
              "\t Ghana        &  5\\\\\n",
              "\t Kenya        &  5\\\\\n",
              "\t Madagascar   &  4\\\\\n",
              "\t Eritrea      &  1\\\\\n",
              "\t Guinea       &  1\\\\\n",
              "\t Mauritania   &  1\\\\\n",
              "\t Mozambique   &  1\\\\\n",
              "\t Sierra Leone &  1\\\\\n",
              "\t Sudan        &  1\\\\\n",
              "\\end{tabular}\n"
            ],
            "text/markdown": [
              "\n",
              "A tibble: 13 × 2\n",
              "\n",
              "| country &lt;chr&gt; | n_piracy &lt;int&gt; |\n",
              "|---|---|\n",
              "| Somalia      | 70 |\n",
              "| Nigeria      | 25 |\n",
              "| Seychelles   | 13 |\n",
              "| Cameroon     |  9 |\n",
              "| Ghana        |  5 |\n",
              "| Kenya        |  5 |\n",
              "| Madagascar   |  4 |\n",
              "| Eritrea      |  1 |\n",
              "| Guinea       |  1 |\n",
              "| Mauritania   |  1 |\n",
              "| Mozambique   |  1 |\n",
              "| Sierra Leone |  1 |\n",
              "| Sudan        |  1 |\n",
              "\n"
            ],
            "text/plain": [
              "   country      n_piracy\n",
              "1  Somalia      70      \n",
              "2  Nigeria      25      \n",
              "3  Seychelles   13      \n",
              "4  Cameroon      9      \n",
              "5  Ghana         5      \n",
              "6  Kenya         5      \n",
              "7  Madagascar    4      \n",
              "8  Eritrea       1      \n",
              "9  Guinea        1      \n",
              "10 Mauritania    1      \n",
              "11 Mozambique    1      \n",
              "12 Sierra Leone  1      \n",
              "13 Sudan         1      "
            ]
          },
          "metadata": {},
          "output_type": "display_data"
        }
      ],
      "source": [
        "data %>%\n",
        "    filter(piracy == 1) %>%\n",
        "    group_by(country) %>%\n",
        "    summarize(n_piracy = n()) %>%\n",
        "    arrange(desc(n_piracy))"
      ]
    },
    {
      "cell_type": "markdown",
      "metadata": {
        "id": "p2HX_YstwVJ9"
      },
      "source": [
        "Countries that stand out"
      ]
    },
    {
      "cell_type": "code",
      "execution_count": null,
      "metadata": {
        "colab": {
          "base_uri": "https://localhost:8080/",
          "height": 1000
        },
        "id": "lJ_Eq44w7rJw",
        "outputId": "18ad443e-6e6d-4c80-b3b3-5e0030633dd2",
        "vscode": {
          "languageId": "r"
        }
      },
      "outputs": [
        {
          "data": {
            "text/html": [
              "<table class=\"dataframe\">\n",
              "<caption>A tibble: 33 × 4</caption>\n",
              "<thead>\n",
              "\t<tr><th scope=col>country</th><th scope=col>count</th><th scope=col>total</th><th scope=col>percent</th></tr>\n",
              "\t<tr><th scope=col>&lt;chr&gt;</th><th scope=col>&lt;dbl&gt;</th><th scope=col>&lt;dbl&gt;</th><th scope=col>&lt;dbl&gt;</th></tr>\n",
              "</thead>\n",
              "<tbody>\n",
              "\t<tr><td>Senegal               </td><td>116</td><td>133</td><td> 87</td></tr>\n",
              "\t<tr><td>Somalia               </td><td> 66</td><td> 68</td><td> 97</td></tr>\n",
              "\t<tr><td>Mauritania            </td><td> 59</td><td> 65</td><td> 91</td></tr>\n",
              "\t<tr><td>Ghana                 </td><td> 46</td><td> 48</td><td> 96</td></tr>\n",
              "\t<tr><td>Liberia               </td><td> 46</td><td> 56</td><td> 82</td></tr>\n",
              "\t<tr><td>South Africa          </td><td> 37</td><td> 49</td><td> 76</td></tr>\n",
              "\t<tr><td>Namibia               </td><td> 35</td><td> 59</td><td> 59</td></tr>\n",
              "\t<tr><td>Madagascar            </td><td> 28</td><td> 31</td><td> 90</td></tr>\n",
              "\t<tr><td>Réunion               </td><td> 27</td><td> 66</td><td> 41</td></tr>\n",
              "\t<tr><td>Seychelles            </td><td> 25</td><td> 35</td><td> 71</td></tr>\n",
              "\t<tr><td>Côte d'Ivore          </td><td> 23</td><td> 31</td><td> 74</td></tr>\n",
              "\t<tr><td>Tanzania              </td><td> 23</td><td> 25</td><td> 92</td></tr>\n",
              "\t<tr><td>Kenya                 </td><td> 21</td><td> 29</td><td> 72</td></tr>\n",
              "\t<tr><td>Nigeria               </td><td> 19</td><td> 53</td><td> 36</td></tr>\n",
              "\t<tr><td>Cameroon              </td><td> 17</td><td> 21</td><td> 81</td></tr>\n",
              "\t<tr><td>Sierra Leone          </td><td> 17</td><td> 19</td><td> 89</td></tr>\n",
              "\t<tr><td>Sudan                 </td><td> 15</td><td> 16</td><td> 94</td></tr>\n",
              "\t<tr><td>Gabon                 </td><td> 11</td><td> 14</td><td> 79</td></tr>\n",
              "\t<tr><td>Djibouti              </td><td>  9</td><td> 10</td><td> 90</td></tr>\n",
              "\t<tr><td>Angola                </td><td>  8</td><td> 12</td><td> 67</td></tr>\n",
              "\t<tr><td>Guinea                </td><td>  8</td><td> 11</td><td> 73</td></tr>\n",
              "\t<tr><td>Eritrea               </td><td>  6</td><td>  6</td><td>100</td></tr>\n",
              "\t<tr><td>Gambia                </td><td>  5</td><td>  8</td><td> 62</td></tr>\n",
              "\t<tr><td>Guinea-Bissau         </td><td>  5</td><td> 16</td><td> 31</td></tr>\n",
              "\t<tr><td>Republic of the Congo </td><td>  5</td><td>  8</td><td> 62</td></tr>\n",
              "\t<tr><td>Benin                 </td><td>  4</td><td>  5</td><td> 80</td></tr>\n",
              "\t<tr><td>Comoros               </td><td>  4</td><td>  6</td><td> 67</td></tr>\n",
              "\t<tr><td>Mayotte &amp; Îles Éparses</td><td><span style=white-space:pre-wrap>  4</span></td><td><span style=white-space:pre-wrap>  5</span></td><td> 80</td></tr>\n",
              "\t<tr><td>Togo                  </td><td>  3</td><td>  5</td><td> 60</td></tr>\n",
              "\t<tr><td>Cabo Verde            </td><td>  2</td><td> 10</td><td> 20</td></tr>\n",
              "\t<tr><td>Equatorial Guinea     </td><td>  1</td><td>  1</td><td>100</td></tr>\n",
              "\t<tr><td>Mozambique            </td><td>  1</td><td> 13</td><td>  8</td></tr>\n",
              "\t<tr><td><span style=white-space:pre-wrap>São Tomé &amp; Príncipe   </span></td><td><span style=white-space:pre-wrap>  0</span></td><td><span style=white-space:pre-wrap>  5</span></td><td><span style=white-space:pre-wrap>  0</span></td></tr>\n",
              "</tbody>\n",
              "</table>\n"
            ],
            "text/latex": [
              "A tibble: 33 × 4\n",
              "\\begin{tabular}{llll}\n",
              " country & count & total & percent\\\\\n",
              " <chr> & <dbl> & <dbl> & <dbl>\\\\\n",
              "\\hline\n",
              "\t Senegal                & 116 & 133 &  87\\\\\n",
              "\t Somalia                &  66 &  68 &  97\\\\\n",
              "\t Mauritania             &  59 &  65 &  91\\\\\n",
              "\t Ghana                  &  46 &  48 &  96\\\\\n",
              "\t Liberia                &  46 &  56 &  82\\\\\n",
              "\t South Africa           &  37 &  49 &  76\\\\\n",
              "\t Namibia                &  35 &  59 &  59\\\\\n",
              "\t Madagascar             &  28 &  31 &  90\\\\\n",
              "\t Réunion                &  27 &  66 &  41\\\\\n",
              "\t Seychelles             &  25 &  35 &  71\\\\\n",
              "\t Côte d'Ivore           &  23 &  31 &  74\\\\\n",
              "\t Tanzania               &  23 &  25 &  92\\\\\n",
              "\t Kenya                  &  21 &  29 &  72\\\\\n",
              "\t Nigeria                &  19 &  53 &  36\\\\\n",
              "\t Cameroon               &  17 &  21 &  81\\\\\n",
              "\t Sierra Leone           &  17 &  19 &  89\\\\\n",
              "\t Sudan                  &  15 &  16 &  94\\\\\n",
              "\t Gabon                  &  11 &  14 &  79\\\\\n",
              "\t Djibouti               &   9 &  10 &  90\\\\\n",
              "\t Angola                 &   8 &  12 &  67\\\\\n",
              "\t Guinea                 &   8 &  11 &  73\\\\\n",
              "\t Eritrea                &   6 &   6 & 100\\\\\n",
              "\t Gambia                 &   5 &   8 &  62\\\\\n",
              "\t Guinea-Bissau          &   5 &  16 &  31\\\\\n",
              "\t Republic of the Congo  &   5 &   8 &  62\\\\\n",
              "\t Benin                  &   4 &   5 &  80\\\\\n",
              "\t Comoros                &   4 &   6 &  67\\\\\n",
              "\t Mayotte \\& Îles Éparses &   4 &   5 &  80\\\\\n",
              "\t Togo                   &   3 &   5 &  60\\\\\n",
              "\t Cabo Verde             &   2 &  10 &  20\\\\\n",
              "\t Equatorial Guinea      &   1 &   1 & 100\\\\\n",
              "\t Mozambique             &   1 &  13 &   8\\\\\n",
              "\t São Tomé \\& Príncipe    &   0 &   5 &   0\\\\\n",
              "\\end{tabular}\n"
            ],
            "text/markdown": [
              "\n",
              "A tibble: 33 × 4\n",
              "\n",
              "| country &lt;chr&gt; | count &lt;dbl&gt; | total &lt;dbl&gt; | percent &lt;dbl&gt; |\n",
              "|---|---|---|---|\n",
              "| Senegal                | 116 | 133 |  87 |\n",
              "| Somalia                |  66 |  68 |  97 |\n",
              "| Mauritania             |  59 |  65 |  91 |\n",
              "| Ghana                  |  46 |  48 |  96 |\n",
              "| Liberia                |  46 |  56 |  82 |\n",
              "| South Africa           |  37 |  49 |  76 |\n",
              "| Namibia                |  35 |  59 |  59 |\n",
              "| Madagascar             |  28 |  31 |  90 |\n",
              "| Réunion                |  27 |  66 |  41 |\n",
              "| Seychelles             |  25 |  35 |  71 |\n",
              "| Côte d'Ivore           |  23 |  31 |  74 |\n",
              "| Tanzania               |  23 |  25 |  92 |\n",
              "| Kenya                  |  21 |  29 |  72 |\n",
              "| Nigeria                |  19 |  53 |  36 |\n",
              "| Cameroon               |  17 |  21 |  81 |\n",
              "| Sierra Leone           |  17 |  19 |  89 |\n",
              "| Sudan                  |  15 |  16 |  94 |\n",
              "| Gabon                  |  11 |  14 |  79 |\n",
              "| Djibouti               |   9 |  10 |  90 |\n",
              "| Angola                 |   8 |  12 |  67 |\n",
              "| Guinea                 |   8 |  11 |  73 |\n",
              "| Eritrea                |   6 |   6 | 100 |\n",
              "| Gambia                 |   5 |   8 |  62 |\n",
              "| Guinea-Bissau          |   5 |  16 |  31 |\n",
              "| Republic of the Congo  |   5 |   8 |  62 |\n",
              "| Benin                  |   4 |   5 |  80 |\n",
              "| Comoros                |   4 |   6 |  67 |\n",
              "| Mayotte &amp; Îles Éparses |   4 |   5 |  80 |\n",
              "| Togo                   |   3 |   5 |  60 |\n",
              "| Cabo Verde             |   2 |  10 |  20 |\n",
              "| Equatorial Guinea      |   1 |   1 | 100 |\n",
              "| Mozambique             |   1 |  13 |   8 |\n",
              "| São Tomé &amp; Príncipe    |   0 |   5 |   0 |\n",
              "\n"
            ],
            "text/plain": [
              "   country                count total percent\n",
              "1  Senegal                116   133    87    \n",
              "2  Somalia                 66    68    97    \n",
              "3  Mauritania              59    65    91    \n",
              "4  Ghana                   46    48    96    \n",
              "5  Liberia                 46    56    82    \n",
              "6  South Africa            37    49    76    \n",
              "7  Namibia                 35    59    59    \n",
              "8  Madagascar              28    31    90    \n",
              "9  Réunion                 27    66    41    \n",
              "10 Seychelles              25    35    71    \n",
              "11 Côte d'Ivore            23    31    74    \n",
              "12 Tanzania                23    25    92    \n",
              "13 Kenya                   21    29    72    \n",
              "14 Nigeria                 19    53    36    \n",
              "15 Cameroon                17    21    81    \n",
              "16 Sierra Leone            17    19    89    \n",
              "17 Sudan                   15    16    94    \n",
              "18 Gabon                   11    14    79    \n",
              "19 Djibouti                 9    10    90    \n",
              "20 Angola                   8    12    67    \n",
              "21 Guinea                   8    11    73    \n",
              "22 Eritrea                  6     6   100    \n",
              "23 Gambia                   5     8    62    \n",
              "24 Guinea-Bissau            5    16    31    \n",
              "25 Republic of the Congo    5     8    62    \n",
              "26 Benin                    4     5    80    \n",
              "27 Comoros                  4     6    67    \n",
              "28 Mayotte & Îles Éparses   4     5    80    \n",
              "29 Togo                     3     5    60    \n",
              "30 Cabo Verde               2    10    20    \n",
              "31 Equatorial Guinea        1     1   100    \n",
              "32 Mozambique               1    13     8    \n",
              "33 São Tomé & Príncipe      0     5     0    "
            ]
          },
          "metadata": {},
          "output_type": "display_data"
        }
      ],
      "source": [
        "data %>%\n",
        "    filter(!(piracy==1 & total_conflict==1)) %>%\n",
        "    mutate(total_conflict = ifelse(total_conflict > 1, 1, total_conflict)) %>%\n",
        "    mutate(access = ifelse(access_res == 1 | access_space == 1, 1, 0)) %>%\n",
        "    mutate(use = ifelse(use_res == 1 | use_space == 1, 1, 0)) %>%\n",
        "    group_by(country) %>%\n",
        "    summarize(count = sum(access), total = sum(total_conflict)) %>%    # change\n",
        "    mutate(percent = round(count/total * 100)) %>%\n",
        "    arrange(desc(count))"
      ]
    },
    {
      "cell_type": "markdown",
      "metadata": {
        "id": "PwKFcolhFk0V"
      },
      "source": [
        "Access to resource vs. access to space"
      ]
    },
    {
      "cell_type": "code",
      "execution_count": null,
      "metadata": {
        "colab": {
          "base_uri": "https://localhost:8080/",
          "height": 283
        },
        "id": "5X5KUSg2Fng1",
        "outputId": "383f184f-ace5-4b95-de11-f9795de9a848",
        "vscode": {
          "languageId": "r"
        }
      },
      "outputs": [
        {
          "data": {
            "text/html": [
              "<table class=\"dataframe\">\n",
              "<caption>A tibble: 6 × 5</caption>\n",
              "<thead>\n",
              "\t<tr><th scope=col>country</th><th scope=col>n_access</th><th scope=col>n_access_res</th><th scope=col>n_access_space</th><th scope=col>ratio</th></tr>\n",
              "\t<tr><th scope=col>&lt;chr&gt;</th><th scope=col>&lt;dbl&gt;</th><th scope=col>&lt;dbl&gt;</th><th scope=col>&lt;dbl&gt;</th><th scope=col>&lt;dbl&gt;</th></tr>\n",
              "</thead>\n",
              "<tbody>\n",
              "\t<tr><td>Liberia   </td><td>46</td><td> 6</td><td>44</td><td>0.88000000</td></tr>\n",
              "\t<tr><td>Namibia   </td><td>35</td><td>35</td><td> 4</td><td>0.10256410</td></tr>\n",
              "\t<tr><td>Nigeria   </td><td>19</td><td>18</td><td> 2</td><td>0.10000000</td></tr>\n",
              "\t<tr><td>Seychelles</td><td>25</td><td> 5</td><td>21</td><td>0.80769231</td></tr>\n",
              "\t<tr><td>Sudan     </td><td>15</td><td> 0</td><td>15</td><td>1.00000000</td></tr>\n",
              "\t<tr><td>Tanzania  </td><td>23</td><td>23</td><td> 1</td><td>0.04166667</td></tr>\n",
              "</tbody>\n",
              "</table>\n"
            ],
            "text/latex": [
              "A tibble: 6 × 5\n",
              "\\begin{tabular}{lllll}\n",
              " country & n\\_access & n\\_access\\_res & n\\_access\\_space & ratio\\\\\n",
              " <chr> & <dbl> & <dbl> & <dbl> & <dbl>\\\\\n",
              "\\hline\n",
              "\t Liberia    & 46 &  6 & 44 & 0.88000000\\\\\n",
              "\t Namibia    & 35 & 35 &  4 & 0.10256410\\\\\n",
              "\t Nigeria    & 19 & 18 &  2 & 0.10000000\\\\\n",
              "\t Seychelles & 25 &  5 & 21 & 0.80769231\\\\\n",
              "\t Sudan      & 15 &  0 & 15 & 1.00000000\\\\\n",
              "\t Tanzania   & 23 & 23 &  1 & 0.04166667\\\\\n",
              "\\end{tabular}\n"
            ],
            "text/markdown": [
              "\n",
              "A tibble: 6 × 5\n",
              "\n",
              "| country &lt;chr&gt; | n_access &lt;dbl&gt; | n_access_res &lt;dbl&gt; | n_access_space &lt;dbl&gt; | ratio &lt;dbl&gt; |\n",
              "|---|---|---|---|---|\n",
              "| Liberia    | 46 |  6 | 44 | 0.88000000 |\n",
              "| Namibia    | 35 | 35 |  4 | 0.10256410 |\n",
              "| Nigeria    | 19 | 18 |  2 | 0.10000000 |\n",
              "| Seychelles | 25 |  5 | 21 | 0.80769231 |\n",
              "| Sudan      | 15 |  0 | 15 | 1.00000000 |\n",
              "| Tanzania   | 23 | 23 |  1 | 0.04166667 |\n",
              "\n"
            ],
            "text/plain": [
              "  country    n_access n_access_res n_access_space ratio     \n",
              "1 Liberia    46        6           44             0.88000000\n",
              "2 Namibia    35       35            4             0.10256410\n",
              "3 Nigeria    19       18            2             0.10000000\n",
              "4 Seychelles 25        5           21             0.80769231\n",
              "5 Sudan      15        0           15             1.00000000\n",
              "6 Tanzania   23       23            1             0.04166667"
            ]
          },
          "metadata": {},
          "output_type": "display_data"
        }
      ],
      "source": [
        "# any access-related\n",
        "foo <- data %>%\n",
        "    filter(!(piracy==1 & total_conflict==1)) %>%\n",
        "    mutate(access = ifelse(access_res == 1 | access_space == 1, 1, 0)) %>%\n",
        "    group_by(country) %>%\n",
        "    summarize(n_access = sum(access))\n",
        "\n",
        "# access to resource\n",
        "bar <- data %>%\n",
        "    filter(!(piracy==1 & total_conflict==1)) %>%\n",
        "    group_by(country) %>%\n",
        "    summarize(n_access_res = sum(access_res))\n",
        "\n",
        "# access to space\n",
        "baz <- data %>%\n",
        "    filter(!(piracy==1 & total_conflict==1)) %>%\n",
        "    group_by(country) %>%\n",
        "    summarize(n_access_space = sum(access_space))\n",
        "\n",
        "# merge\n",
        "foo %>%\n",
        "    left_join(bar, by='country') %>%\n",
        "    left_join(baz, by='country') %>%\n",
        "    mutate(ratio = n_access_space/(n_access_res + n_access_space)) %>%\n",
        "    filter(n_access >= 10) %>%\n",
        "    filter(ratio <=0.2 | ratio >= 0.8)"
      ]
    },
    {
      "cell_type": "markdown",
      "metadata": {
        "id": "vMdiv06oTO34"
      },
      "source": [
        "change of each conflict type over year"
      ]
    },
    {
      "cell_type": "code",
      "execution_count": null,
      "metadata": {
        "colab": {
          "base_uri": "https://localhost:8080/",
          "height": 176
        },
        "id": "gaeNiFr88bxP",
        "outputId": "ff4d2a74-3403-488d-c12a-03bb4762c731",
        "vscode": {
          "languageId": "r"
        }
      },
      "outputs": [
        {
          "data": {
            "text/html": [
              "<table class=\"dataframe\">\n",
              "<caption>A anova: 2 × 3</caption>\n",
              "<thead>\n",
              "\t<tr><th></th><th scope=col>Chisq</th><th scope=col>Df</th><th scope=col>Pr(&gt;Chisq)</th></tr>\n",
              "\t<tr><th></th><th scope=col>&lt;dbl&gt;</th><th scope=col>&lt;dbl&gt;</th><th scope=col>&lt;dbl&gt;</th></tr>\n",
              "</thead>\n",
              "<tbody>\n",
              "\t<tr><th scope=row>(Intercept)</th><td>18.147887</td><td>1</td><td>0.0000204396</td></tr>\n",
              "\t<tr><th scope=row>yr2</th><td> 1.247334</td><td>1</td><td>0.2640623061</td></tr>\n",
              "</tbody>\n",
              "</table>\n"
            ],
            "text/latex": [
              "A anova: 2 × 3\n",
              "\\begin{tabular}{r|lll}\n",
              "  & Chisq & Df & Pr(>Chisq)\\\\\n",
              "  & <dbl> & <dbl> & <dbl>\\\\\n",
              "\\hline\n",
              "\t(Intercept) & 18.147887 & 1 & 0.0000204396\\\\\n",
              "\tyr2 &  1.247334 & 1 & 0.2640623061\\\\\n",
              "\\end{tabular}\n"
            ],
            "text/markdown": [
              "\n",
              "A anova: 2 × 3\n",
              "\n",
              "| <!--/--> | Chisq &lt;dbl&gt; | Df &lt;dbl&gt; | Pr(&gt;Chisq) &lt;dbl&gt; |\n",
              "|---|---|---|---|\n",
              "| (Intercept) | 18.147887 | 1 | 0.0000204396 |\n",
              "| yr2 |  1.247334 | 1 | 0.2640623061 |\n",
              "\n"
            ],
            "text/plain": [
              "            Chisq     Df Pr(>Chisq)  \n",
              "(Intercept) 18.147887 1  0.0000204396\n",
              "yr2          1.247334 1  0.2640623061"
            ]
          },
          "metadata": {},
          "output_type": "display_data"
        },
        {
          "data": {
            "text/html": [
              "<strong>yr2:</strong> 0.970537659152382"
            ],
            "text/latex": [
              "\\textbf{yr2:} 0.970537659152382"
            ],
            "text/markdown": [
              "**yr2:** 0.970537659152382"
            ],
            "text/plain": [
              "      yr2 \n",
              "0.9705377 "
            ]
          },
          "metadata": {},
          "output_type": "display_data"
        }
      ],
      "source": [
        "# variable of interest\n",
        "foo <- data %>%\n",
        "    filter(!(piracy == 1 & total_conflict == 1)) %>%\n",
        "    filter(benef_dist_type == 1) %>%      # variable of interest\n",
        "    group_by(country, star_yr) %>%\n",
        "    summarize(n_x = n(), .groups = 'drop')\n",
        "\n",
        "# Create a template for all combinations of country and year\n",
        "template <- expand.grid(\n",
        "  country = unique(foo$country),\n",
        "  star_yr = seq(2008, 2018)\n",
        ")\n",
        "\n",
        "# Merge the template with the original data and fill missing counts with 0\n",
        "bar <- template %>%\n",
        "  left_join(foo, by = c(\"country\", \"star_yr\")) %>%\n",
        "  mutate(n_x = coalesce(n_x, 0))\n",
        "\n",
        "# fit the model and test\n",
        "bar$yr2 <- bar$star_yr - mean(bar$star_yr)\n",
        "fit <- glmer(n_x ~ yr2 + (1|country), data=bar, family=poisson)\n",
        "Anova(fit, type = 3)\n",
        "\n",
        "# multiplicative rate of change\n",
        "exp(fixef(fit)[2])"
      ]
    },
    {
      "cell_type": "markdown",
      "metadata": {
        "id": "5HPEX-1d0B52"
      },
      "source": [
        "Change of conflict events over time by conflict type, for each country"
      ]
    },
    {
      "cell_type": "code",
      "execution_count": null,
      "metadata": {
        "colab": {
          "base_uri": "https://localhost:8080/",
          "height": 244
        },
        "id": "5mklNkoLKasx",
        "outputId": "b1610d68-9176-4b53-dae6-d365784245cb",
        "vscode": {
          "languageId": "r"
        }
      },
      "outputs": [
        {
          "name": "stderr",
          "output_type": "stream",
          "text": [
            "Warning message:\n",
            "“glm.fit: fitted rates numerically 0 occurred”\n"
          ]
        },
        {
          "data": {
            "text/html": [
              "<table class=\"dataframe\">\n",
              "<caption>A summary_emm: 3 × 9</caption>\n",
              "<thead>\n",
              "\t<tr><th></th><th scope=col>country</th><th scope=col>yr2.trend</th><th scope=col>SE</th><th scope=col>df</th><th scope=col>asymp.LCL</th><th scope=col>asymp.UCL</th><th scope=col>z.ratio</th><th scope=col>p.value</th><th scope=col>rate</th></tr>\n",
              "\t<tr><th></th><th scope=col>&lt;fct&gt;</th><th scope=col>&lt;dbl&gt;</th><th scope=col>&lt;dbl&gt;</th><th scope=col>&lt;dbl&gt;</th><th scope=col>&lt;dbl&gt;</th><th scope=col>&lt;dbl&gt;</th><th scope=col>&lt;dbl&gt;</th><th scope=col>&lt;dbl&gt;</th><th scope=col>&lt;dbl&gt;</th></tr>\n",
              "</thead>\n",
              "<tbody>\n",
              "\t<tr><th scope=row>7</th><td>Ghana  </td><td>-0.4710139</td><td>0.2313373</td><td>Inf</td><td>-0.92442675</td><td>-0.01760109</td><td>-2.036048</td><td>0.04174553</td><td>-0.3756311</td></tr>\n",
              "\t<tr><th scope=row>14</th><td>Nigeria</td><td> 0.3784371</td><td>0.1833727</td><td>Inf</td><td> 0.01903327</td><td> 0.73784097</td><td> 2.063760</td><td>0.03904052</td><td> 0.4600010</td></tr>\n",
              "\t<tr><th scope=row>18</th><td>Senegal</td><td>-0.1423890</td><td>0.0544561</td><td>Inf</td><td>-0.24912101</td><td>-0.03565703</td><td>-2.614749</td><td>0.00892931</td><td>-0.1327162</td></tr>\n",
              "</tbody>\n",
              "</table>\n"
            ],
            "text/latex": [
              "A summary\\_emm: 3 × 9\n",
              "\\begin{tabular}{r|lllllllll}\n",
              "  & country & yr2.trend & SE & df & asymp.LCL & asymp.UCL & z.ratio & p.value & rate\\\\\n",
              "  & <fct> & <dbl> & <dbl> & <dbl> & <dbl> & <dbl> & <dbl> & <dbl> & <dbl>\\\\\n",
              "\\hline\n",
              "\t7 & Ghana   & -0.4710139 & 0.2313373 & Inf & -0.92442675 & -0.01760109 & -2.036048 & 0.04174553 & -0.3756311\\\\\n",
              "\t14 & Nigeria &  0.3784371 & 0.1833727 & Inf &  0.01903327 &  0.73784097 &  2.063760 & 0.03904052 &  0.4600010\\\\\n",
              "\t18 & Senegal & -0.1423890 & 0.0544561 & Inf & -0.24912101 & -0.03565703 & -2.614749 & 0.00892931 & -0.1327162\\\\\n",
              "\\end{tabular}\n"
            ],
            "text/markdown": [
              "\n",
              "A summary_emm: 3 × 9\n",
              "\n",
              "| <!--/--> | country &lt;fct&gt; | yr2.trend &lt;dbl&gt; | SE &lt;dbl&gt; | df &lt;dbl&gt; | asymp.LCL &lt;dbl&gt; | asymp.UCL &lt;dbl&gt; | z.ratio &lt;dbl&gt; | p.value &lt;dbl&gt; | rate &lt;dbl&gt; |\n",
              "|---|---|---|---|---|---|---|---|---|---|\n",
              "| 7 | Ghana   | -0.4710139 | 0.2313373 | Inf | -0.92442675 | -0.01760109 | -2.036048 | 0.04174553 | -0.3756311 |\n",
              "| 14 | Nigeria |  0.3784371 | 0.1833727 | Inf |  0.01903327 |  0.73784097 |  2.063760 | 0.03904052 |  0.4600010 |\n",
              "| 18 | Senegal | -0.1423890 | 0.0544561 | Inf | -0.24912101 | -0.03565703 | -2.614749 | 0.00892931 | -0.1327162 |\n",
              "\n"
            ],
            "text/plain": [
              "   country yr2.trend  SE        df  asymp.LCL   asymp.UCL   z.ratio  \n",
              "7  Ghana   -0.4710139 0.2313373 Inf -0.92442675 -0.01760109 -2.036048\n",
              "14 Nigeria  0.3784371 0.1833727 Inf  0.01903327  0.73784097  2.063760\n",
              "18 Senegal -0.1423890 0.0544561 Inf -0.24912101 -0.03565703 -2.614749\n",
              "   p.value    rate      \n",
              "7  0.04174553 -0.3756311\n",
              "14 0.03904052  0.4600010\n",
              "18 0.00892931 -0.1327162"
            ]
          },
          "metadata": {},
          "output_type": "display_data"
        }
      ],
      "source": [
        "fit <- glm(n_x ~ yr2 * country, data=bar, family=poisson)\n",
        "emt <- emtrends(fit, ~country, var = \"yr2\")\n",
        "\n",
        "# Display the summary of the tests\n",
        "out <- summary(emt, infer = TRUE)\n",
        "out <- out[out$p.value < 0.05 & !is.na(out$p.value),]\n",
        "out$rate <- exp(out$yr2.trend) - 1\n",
        "out"
      ]
    },
    {
      "cell_type": "markdown",
      "metadata": {
        "id": "I78BXRoGMjwq"
      },
      "source": [
        "# Illegal actvities"
      ]
    },
    {
      "cell_type": "code",
      "execution_count": null,
      "metadata": {
        "colab": {
          "base_uri": "https://localhost:8080/",
          "height": 34
        },
        "id": "mpcwZE3HoFla",
        "outputId": "eaf5c73d-5465-4f71-de2e-4df100d4ef89",
        "vscode": {
          "languageId": "r"
        }
      },
      "outputs": [
        {
          "data": {
            "text/html": [
              "0.502079002079002"
            ],
            "text/latex": [
              "0.502079002079002"
            ],
            "text/markdown": [
              "0.502079002079002"
            ],
            "text/plain": [
              "[1] 0.502079"
            ]
          },
          "metadata": {},
          "output_type": "display_data"
        }
      ],
      "source": [
        "foo <- data\n",
        "foo <- data[!(data$piracy==1 & data$total_conflict==1),]\n",
        "nrow(foo[foo$illegal_act == 'Y', ])/nrow(foo)"
      ]
    },
    {
      "cell_type": "markdown",
      "metadata": {
        "id": "MXC06lY1pzyD"
      },
      "source": [
        "IUU fishing"
      ]
    },
    {
      "cell_type": "code",
      "execution_count": 51,
      "metadata": {
        "colab": {
          "base_uri": "https://localhost:8080/",
          "height": 34
        },
        "id": "6dxnCPRduhpw",
        "outputId": "39f273b0-55ba-4232-d3e2-daf671d5df8d",
        "vscode": {
          "languageId": "r"
        }
      },
      "outputs": [
        {
          "output_type": "display_data",
          "data": {
            "text/html": [
              "0.381496881496881"
            ],
            "text/markdown": "0.381496881496881",
            "text/latex": "0.381496881496881",
            "text/plain": [
              "[1] 0.3814969"
            ]
          },
          "metadata": {}
        }
      ],
      "source": [
        "illegal_type <- c('iuu_fish', 'ill_spa_acc', 'ill_spa_use', 'ill_res_acc', 'ill_res_use', 'gear_destr', 'infrast_destr')\n",
        "\n",
        "foo <- data %>%\n",
        "    filter(!(piracy == 1 & total_conflict == 1)) %>%\n",
        "    mutate_at(illegal_type, ~ifelse(is.na(.) | . != 1, 0, .)) %>%\n",
        "    mutate(illegal_all = rowSums(across(all_of(illegal_type))))\n",
        "\n",
        "nrow(foo[foo$iuu_fish > 0, ])/nrow(foo)"
      ]
    },
    {
      "cell_type": "markdown",
      "metadata": {
        "id": "CbGJyDVhQicm"
      },
      "source": [
        "Country with IUU fishing"
      ]
    },
    {
      "cell_type": "code",
      "execution_count": null,
      "metadata": {
        "colab": {
          "base_uri": "https://localhost:8080/",
          "height": 1000
        },
        "id": "G7UHwcwbPots",
        "outputId": "e5078a71-61c2-4093-e297-8a7f151ff790",
        "vscode": {
          "languageId": "r"
        }
      },
      "outputs": [
        {
          "data": {
            "text/html": [
              "<table class=\"dataframe\">\n",
              "<caption>A tibble: 33 × 2</caption>\n",
              "<thead>\n",
              "\t<tr><th scope=col>country</th><th scope=col>count</th></tr>\n",
              "\t<tr><th scope=col>&lt;chr&gt;</th><th scope=col>&lt;dbl&gt;</th></tr>\n",
              "</thead>\n",
              "<tbody>\n",
              "\t<tr><td>Senegal               </td><td>46</td></tr>\n",
              "\t<tr><td>Somalia               </td><td>36</td></tr>\n",
              "\t<tr><td>Liberia               </td><td>30</td></tr>\n",
              "\t<tr><td>Madagascar            </td><td>24</td></tr>\n",
              "\t<tr><td>Mauritania            </td><td>23</td></tr>\n",
              "\t<tr><td>Ghana                 </td><td>22</td></tr>\n",
              "\t<tr><td>Tanzania              </td><td>20</td></tr>\n",
              "\t<tr><td>Sierra Leone          </td><td>16</td></tr>\n",
              "\t<tr><td>Cameroon              </td><td>14</td></tr>\n",
              "\t<tr><td>Côte d'Ivoire         </td><td>14</td></tr>\n",
              "\t<tr><td>Seychelles            </td><td>12</td></tr>\n",
              "\t<tr><td>Nigeria               </td><td>10</td></tr>\n",
              "\t<tr><td>Gabon                 </td><td> 9</td></tr>\n",
              "\t<tr><td>Guinea                </td><td> 9</td></tr>\n",
              "\t<tr><td>South Africa          </td><td> 9</td></tr>\n",
              "\t<tr><td>Djibouti              </td><td> 8</td></tr>\n",
              "\t<tr><td>Guinea-Bissau         </td><td> 7</td></tr>\n",
              "\t<tr><td>Mozambique            </td><td> 7</td></tr>\n",
              "\t<tr><td>Namibia               </td><td> 7</td></tr>\n",
              "\t<tr><td>Cabo Verde            </td><td> 6</td></tr>\n",
              "\t<tr><td>Kenya                 </td><td> 6</td></tr>\n",
              "\t<tr><td>Gambia                </td><td> 5</td></tr>\n",
              "\t<tr><td>Sudan                 </td><td> 5</td></tr>\n",
              "\t<tr><td>Angola                </td><td> 4</td></tr>\n",
              "\t<tr><td>Mayotte &amp; Îles Éparses</td><td> 4</td></tr>\n",
              "\t<tr><td>Republic of the Congo </td><td> 4</td></tr>\n",
              "\t<tr><td>Réunion               </td><td> 3</td></tr>\n",
              "\t<tr><td>Comoros               </td><td> 2</td></tr>\n",
              "\t<tr><td>Togo                  </td><td> 2</td></tr>\n",
              "\t<tr><td>Benin                 </td><td> 1</td></tr>\n",
              "\t<tr><td>Equatorial Guinea     </td><td> 1</td></tr>\n",
              "\t<tr><td><span style=white-space:pre-wrap>São Tomé &amp; Príncipe   </span></td><td> 1</td></tr>\n",
              "\t<tr><td>Eritrea               </td><td> 0</td></tr>\n",
              "</tbody>\n",
              "</table>\n"
            ],
            "text/latex": [
              "A tibble: 33 × 2\n",
              "\\begin{tabular}{ll}\n",
              " country & count\\\\\n",
              " <chr> & <dbl>\\\\\n",
              "\\hline\n",
              "\t Senegal                & 46\\\\\n",
              "\t Somalia                & 36\\\\\n",
              "\t Liberia                & 30\\\\\n",
              "\t Madagascar             & 24\\\\\n",
              "\t Mauritania             & 23\\\\\n",
              "\t Ghana                  & 22\\\\\n",
              "\t Tanzania               & 20\\\\\n",
              "\t Sierra Leone           & 16\\\\\n",
              "\t Cameroon               & 14\\\\\n",
              "\t Côte d'Ivoire          & 14\\\\\n",
              "\t Seychelles             & 12\\\\\n",
              "\t Nigeria                & 10\\\\\n",
              "\t Gabon                  &  9\\\\\n",
              "\t Guinea                 &  9\\\\\n",
              "\t South Africa           &  9\\\\\n",
              "\t Djibouti               &  8\\\\\n",
              "\t Guinea-Bissau          &  7\\\\\n",
              "\t Mozambique             &  7\\\\\n",
              "\t Namibia                &  7\\\\\n",
              "\t Cabo Verde             &  6\\\\\n",
              "\t Kenya                  &  6\\\\\n",
              "\t Gambia                 &  5\\\\\n",
              "\t Sudan                  &  5\\\\\n",
              "\t Angola                 &  4\\\\\n",
              "\t Mayotte \\& Îles Éparses &  4\\\\\n",
              "\t Republic of the Congo  &  4\\\\\n",
              "\t Réunion                &  3\\\\\n",
              "\t Comoros                &  2\\\\\n",
              "\t Togo                   &  2\\\\\n",
              "\t Benin                  &  1\\\\\n",
              "\t Equatorial Guinea      &  1\\\\\n",
              "\t São Tomé \\& Príncipe    &  1\\\\\n",
              "\t Eritrea                &  0\\\\\n",
              "\\end{tabular}\n"
            ],
            "text/markdown": [
              "\n",
              "A tibble: 33 × 2\n",
              "\n",
              "| country &lt;chr&gt; | count &lt;dbl&gt; |\n",
              "|---|---|\n",
              "| Senegal                | 46 |\n",
              "| Somalia                | 36 |\n",
              "| Liberia                | 30 |\n",
              "| Madagascar             | 24 |\n",
              "| Mauritania             | 23 |\n",
              "| Ghana                  | 22 |\n",
              "| Tanzania               | 20 |\n",
              "| Sierra Leone           | 16 |\n",
              "| Cameroon               | 14 |\n",
              "| Côte d'Ivoire          | 14 |\n",
              "| Seychelles             | 12 |\n",
              "| Nigeria                | 10 |\n",
              "| Gabon                  |  9 |\n",
              "| Guinea                 |  9 |\n",
              "| South Africa           |  9 |\n",
              "| Djibouti               |  8 |\n",
              "| Guinea-Bissau          |  7 |\n",
              "| Mozambique             |  7 |\n",
              "| Namibia                |  7 |\n",
              "| Cabo Verde             |  6 |\n",
              "| Kenya                  |  6 |\n",
              "| Gambia                 |  5 |\n",
              "| Sudan                  |  5 |\n",
              "| Angola                 |  4 |\n",
              "| Mayotte &amp; Îles Éparses |  4 |\n",
              "| Republic of the Congo  |  4 |\n",
              "| Réunion                |  3 |\n",
              "| Comoros                |  2 |\n",
              "| Togo                   |  2 |\n",
              "| Benin                  |  1 |\n",
              "| Equatorial Guinea      |  1 |\n",
              "| São Tomé &amp; Príncipe    |  1 |\n",
              "| Eritrea                |  0 |\n",
              "\n"
            ],
            "text/plain": [
              "   country                count\n",
              "1  Senegal                46   \n",
              "2  Somalia                36   \n",
              "3  Liberia                30   \n",
              "4  Madagascar             24   \n",
              "5  Mauritania             23   \n",
              "6  Ghana                  22   \n",
              "7  Tanzania               20   \n",
              "8  Sierra Leone           16   \n",
              "9  Cameroon               14   \n",
              "10 Côte d'Ivoire          14   \n",
              "11 Seychelles             12   \n",
              "12 Nigeria                10   \n",
              "13 Gabon                   9   \n",
              "14 Guinea                  9   \n",
              "15 South Africa            9   \n",
              "16 Djibouti                8   \n",
              "17 Guinea-Bissau           7   \n",
              "18 Mozambique              7   \n",
              "19 Namibia                 7   \n",
              "20 Cabo Verde              6   \n",
              "21 Kenya                   6   \n",
              "22 Gambia                  5   \n",
              "23 Sudan                   5   \n",
              "24 Angola                  4   \n",
              "25 Mayotte & Îles Éparses  4   \n",
              "26 Republic of the Congo   4   \n",
              "27 Réunion                 3   \n",
              "28 Comoros                 2   \n",
              "29 Togo                    2   \n",
              "30 Benin                   1   \n",
              "31 Equatorial Guinea       1   \n",
              "32 São Tomé & Príncipe     1   \n",
              "33 Eritrea                 0   "
            ]
          },
          "metadata": {},
          "output_type": "display_data"
        }
      ],
      "source": [
        "foo <- data %>%\n",
        "    filter(!(piracy == 1 & total_conflict == 1)) %>%\n",
        "    mutate_at(illegal_type, ~ifelse(is.na(.) | . != 1, 0, .)) %>%\n",
        "    mutate(illegal_all = rowSums(across(all_of(illegal_type))))\n",
        "\n",
        "foo %>%\n",
        "    group_by(country) %>%\n",
        "    summarize(count = sum(iuu_fish)) %>%\n",
        "    arrange(desc(count))"
      ]
    },
    {
      "cell_type": "markdown",
      "metadata": {
        "id": "dLauUsI_TADD"
      },
      "source": [
        "Time series of IUU fishing in Senegal"
      ]
    },
    {
      "cell_type": "code",
      "execution_count": null,
      "metadata": {
        "colab": {
          "base_uri": "https://localhost:8080/",
          "height": 438
        },
        "id": "kmsEzB8qRnyt",
        "outputId": "8c355cfd-1601-4d2a-e354-e76f5ecbc502",
        "vscode": {
          "languageId": "r"
        }
      },
      "outputs": [
        {
          "data": {
            "text/html": [
              "<table class=\"dataframe\">\n",
              "<caption>A tibble: 11 × 2</caption>\n",
              "<thead>\n",
              "\t<tr><th scope=col>star_yr</th><th scope=col>count</th></tr>\n",
              "\t<tr><th scope=col>&lt;int&gt;</th><th scope=col>&lt;int&gt;</th></tr>\n",
              "</thead>\n",
              "<tbody>\n",
              "\t<tr><td>2008</td><td>17</td></tr>\n",
              "\t<tr><td>2009</td><td> 8</td></tr>\n",
              "\t<tr><td>2010</td><td>10</td></tr>\n",
              "\t<tr><td>2011</td><td>26</td></tr>\n",
              "\t<tr><td>2012</td><td>15</td></tr>\n",
              "\t<tr><td>2013</td><td>13</td></tr>\n",
              "\t<tr><td>2014</td><td>22</td></tr>\n",
              "\t<tr><td>2015</td><td> 5</td></tr>\n",
              "\t<tr><td>2016</td><td> 5</td></tr>\n",
              "\t<tr><td>2017</td><td> 8</td></tr>\n",
              "\t<tr><td>2018</td><td> 6</td></tr>\n",
              "</tbody>\n",
              "</table>\n"
            ],
            "text/latex": [
              "A tibble: 11 × 2\n",
              "\\begin{tabular}{ll}\n",
              " star\\_yr & count\\\\\n",
              " <int> & <int>\\\\\n",
              "\\hline\n",
              "\t 2008 & 17\\\\\n",
              "\t 2009 &  8\\\\\n",
              "\t 2010 & 10\\\\\n",
              "\t 2011 & 26\\\\\n",
              "\t 2012 & 15\\\\\n",
              "\t 2013 & 13\\\\\n",
              "\t 2014 & 22\\\\\n",
              "\t 2015 &  5\\\\\n",
              "\t 2016 &  5\\\\\n",
              "\t 2017 &  8\\\\\n",
              "\t 2018 &  6\\\\\n",
              "\\end{tabular}\n"
            ],
            "text/markdown": [
              "\n",
              "A tibble: 11 × 2\n",
              "\n",
              "| star_yr &lt;int&gt; | count &lt;int&gt; |\n",
              "|---|---|\n",
              "| 2008 | 17 |\n",
              "| 2009 |  8 |\n",
              "| 2010 | 10 |\n",
              "| 2011 | 26 |\n",
              "| 2012 | 15 |\n",
              "| 2013 | 13 |\n",
              "| 2014 | 22 |\n",
              "| 2015 |  5 |\n",
              "| 2016 |  5 |\n",
              "| 2017 |  8 |\n",
              "| 2018 |  6 |\n",
              "\n"
            ],
            "text/plain": [
              "   star_yr count\n",
              "1  2008    17   \n",
              "2  2009     8   \n",
              "3  2010    10   \n",
              "4  2011    26   \n",
              "5  2012    15   \n",
              "6  2013    13   \n",
              "7  2014    22   \n",
              "8  2015     5   \n",
              "9  2016     5   \n",
              "10 2017     8   \n",
              "11 2018     6   "
            ]
          },
          "metadata": {},
          "output_type": "display_data"
        }
      ],
      "source": [
        "senegal <- foo %>%\n",
        "    filter(country=='Senegal') %>%\n",
        "    group_by(star_yr) %>%\n",
        "    summarize(count = n())\n",
        "\n",
        "senegal"
      ]
    },
    {
      "cell_type": "code",
      "execution_count": null,
      "metadata": {
        "colab": {
          "base_uri": "https://localhost:8080/",
          "height": 145
        },
        "id": "YnbVS5F0VCSx",
        "outputId": "ea9dc144-858b-4893-88b0-3b3f08dad873",
        "vscode": {
          "languageId": "r"
        }
      },
      "outputs": [
        {
          "data": {
            "text/html": [
              "<table class=\"dataframe\">\n",
              "<caption>A anova: 1 × 3</caption>\n",
              "<thead>\n",
              "\t<tr><th></th><th scope=col>LR Chisq</th><th scope=col>Df</th><th scope=col>Pr(&gt;Chisq)</th></tr>\n",
              "\t<tr><th></th><th scope=col>&lt;dbl&gt;</th><th scope=col>&lt;dbl&gt;</th><th scope=col>&lt;dbl&gt;</th></tr>\n",
              "</thead>\n",
              "<tbody>\n",
              "\t<tr><th scope=row>yr2</th><td>8.217556</td><td>1</td><td>0.004148704</td></tr>\n",
              "</tbody>\n",
              "</table>\n"
            ],
            "text/latex": [
              "A anova: 1 × 3\n",
              "\\begin{tabular}{r|lll}\n",
              "  & LR Chisq & Df & Pr(>Chisq)\\\\\n",
              "  & <dbl> & <dbl> & <dbl>\\\\\n",
              "\\hline\n",
              "\tyr2 & 8.217556 & 1 & 0.004148704\\\\\n",
              "\\end{tabular}\n"
            ],
            "text/markdown": [
              "\n",
              "A anova: 1 × 3\n",
              "\n",
              "| <!--/--> | LR Chisq &lt;dbl&gt; | Df &lt;dbl&gt; | Pr(&gt;Chisq) &lt;dbl&gt; |\n",
              "|---|---|---|---|\n",
              "| yr2 | 8.217556 | 1 | 0.004148704 |\n",
              "\n"
            ],
            "text/plain": [
              "    LR Chisq Df Pr(>Chisq) \n",
              "yr2 8.217556 1  0.004148704"
            ]
          },
          "metadata": {},
          "output_type": "display_data"
        },
        {
          "data": {
            "text/html": [
              "<strong>yr2:</strong> -0.0757322862053114"
            ],
            "text/latex": [
              "\\textbf{yr2:} -0.0757322862053114"
            ],
            "text/markdown": [
              "**yr2:** -0.0757322862053114"
            ],
            "text/plain": [
              "        yr2 \n",
              "-0.07573229 "
            ]
          },
          "metadata": {},
          "output_type": "display_data"
        }
      ],
      "source": [
        "yr2 <- senegal$star_yr - mean(senegal$star_yr)\n",
        "fit <- glm(count ~ yr2, data=senegal, family=poisson)\n",
        "\n",
        "Anova(fit, type = 3)\n",
        "exp(coef(fit)[2]) - 1"
      ]
    },
    {
      "cell_type": "markdown",
      "metadata": {
        "id": "246gPz5kHEKz"
      },
      "source": [
        "IUU fishing vs. piracy"
      ]
    },
    {
      "cell_type": "code",
      "execution_count": 11,
      "metadata": {
        "id": "SkSunpi7cx7I",
        "vscode": {
          "languageId": "r"
        }
      },
      "outputs": [],
      "source": [
        "jaccard <- function(df, x1, x2) {\n",
        "    set1 <- nrow(df[df[x1]==1 & df[x2]==1,])\n",
        "    set2 <- nrow(df[df[x1]==1 | df[x2]==1,])\n",
        "    return (set1/set2)\n",
        "}"
      ]
    },
    {
      "cell_type": "code",
      "execution_count": 14,
      "metadata": {
        "colab": {
          "base_uri": "https://localhost:8080/",
          "height": 68
        },
        "id": "wnbfREnQez9A",
        "outputId": "2aece319-4db0-465c-8268-3cd9645720a2",
        "vscode": {
          "languageId": "r"
        }
      },
      "outputs": [
        {
          "output_type": "display_data",
          "data": {
            "text/html": [
              "0.0158730158730159"
            ],
            "text/markdown": "0.0158730158730159",
            "text/latex": "0.0158730158730159",
            "text/plain": [
              "[1] 0.01587302"
            ]
          },
          "metadata": {}
        },
        {
          "output_type": "display_data",
          "data": {
            "text/html": [
              "0.28971028971029"
            ],
            "text/markdown": "0.28971028971029",
            "text/latex": "0.28971028971029",
            "text/plain": [
              "[1] 0.2897103"
            ]
          },
          "metadata": {}
        },
        {
          "output_type": "display_data",
          "data": {
            "text/html": [
              "-1"
            ],
            "text/markdown": "-1",
            "text/latex": "-1",
            "text/plain": [
              "[1] -1"
            ]
          },
          "metadata": {}
        }
      ],
      "source": [
        "foo <- data %>%\n",
        "    filter(!(piracy==1 & total_conflict==1)) %>%\n",
        "    mutate_at(illegal_type, ~ifelse(is.na(.) | . != 1, 0, .))\n",
        "\n",
        "obs <- jaccard(foo, 'piracy', 'iuu_fish')\n",
        "\n",
        "set.seed(1212)\n",
        "perm <- c()\n",
        "for(i in 1:1000){\n",
        "    bar <- foo\n",
        "    bar$iuu_fish <- sample(bar$iuu_fish, )\n",
        "    perm[i] <- jaccard(bar, 'piracy', 'iuu_fish')\n",
        "}\n",
        "\n",
        "p <- (min(length(perm[perm > obs]), length(perm[perm < obs])) + 1) / (length(perm) + 1)\n",
        "\n",
        "obs\n",
        "p\n",
        "sign(obs - mean(perm))"
      ]
    },
    {
      "cell_type": "markdown",
      "source": [
        "By country"
      ],
      "metadata": {
        "id": "1A7b_jkp2Qyt"
      }
    },
    {
      "cell_type": "code",
      "source": [
        "# including piracy-only conflicts\n",
        "foo <- data %>%\n",
        "    filter(!(piracy==1 & total_conflict==1)) %>%\n",
        "    mutate_at(illegal_type, ~ifelse(is.na(.) | . != 1, 0, .))\n",
        "\n",
        "# countries that have both `piracy` and `iuu_fish`\n",
        "bar <- data %>%\n",
        "    filter(!(piracy==1 & total_conflict==1)) %>%\n",
        "    mutate_at(illegal_type, ~ifelse(is.na(.) | . != 1, 0, .)) %>%\n",
        "    group_by(country) %>%\n",
        "    summarize(n_piracy = sum(piracy), n_iuu_fish = sum(iuu_fish)) %>%\n",
        "    filter(n_piracy > 0 & n_iuu_fish > 0)\n",
        "\n",
        "\n",
        "summary <- data.frame()\n",
        "for (x in bar$country){\n",
        "    bar <- foo[foo$country==x,]\n",
        "\n",
        "    obs <- jaccard(bar, 'piracy', 'iuu_fish')\n",
        "\n",
        "    set.seed(1212)\n",
        "    perm <- c()\n",
        "    for(i in 1:1000){\n",
        "        bar <- foo\n",
        "        bar$iuu_fish <- sample(bar$iuu_fish, )\n",
        "        perm[i] <- jaccard(bar, 'piracy', 'iuu_fish')\n",
        "    }\n",
        "\n",
        "    p <- (min(length(perm[perm > obs]), length(perm[perm < obs])) + 1) / (length(perm) + 1)\n",
        "\n",
        "    summary <- rbind(summary, c(x, obs, p, sign(obs - mean(perm))))\n",
        "}\n",
        "\n",
        "colnames(summary) <- c('country', 'stat', 'p', 'sign')\n",
        "summary"
      ],
      "metadata": {
        "id": "Ht8yiBdJ2Ro2",
        "outputId": "02c1440d-bbe9-4fb8-889c-ccacb295939e",
        "colab": {
          "base_uri": "https://localhost:8080/",
          "height": 221
        }
      },
      "execution_count": 44,
      "outputs": [
        {
          "output_type": "display_data",
          "data": {
            "text/html": [
              "<table class=\"dataframe\">\n",
              "<caption>A data.frame: 4 × 4</caption>\n",
              "<thead>\n",
              "\t<tr><th scope=col>country</th><th scope=col>stat</th><th scope=col>p</th><th scope=col>sign</th></tr>\n",
              "\t<tr><th scope=col>&lt;chr&gt;</th><th scope=col>&lt;chr&gt;</th><th scope=col>&lt;chr&gt;</th><th scope=col>&lt;chr&gt;</th></tr>\n",
              "</thead>\n",
              "<tbody>\n",
              "\t<tr><td>Ghana     </td><td>0                 </td><td>0.000999000999000999</td><td>-1</td></tr>\n",
              "\t<tr><td>Nigeria   </td><td>0.0666666666666667</td><td>0.000999000999000999</td><td>1 </td></tr>\n",
              "\t<tr><td>Seychelles</td><td>0                 </td><td>0.000999000999000999</td><td>-1</td></tr>\n",
              "\t<tr><td>Somalia   </td><td>0.128205128205128 </td><td>0.000999000999000999</td><td>1 </td></tr>\n",
              "</tbody>\n",
              "</table>\n"
            ],
            "text/markdown": "\nA data.frame: 4 × 4\n\n| country &lt;chr&gt; | stat &lt;chr&gt; | p &lt;chr&gt; | sign &lt;chr&gt; |\n|---|---|---|---|\n| Ghana      | 0                  | 0.000999000999000999 | -1 |\n| Nigeria    | 0.0666666666666667 | 0.000999000999000999 | 1  |\n| Seychelles | 0                  | 0.000999000999000999 | -1 |\n| Somalia    | 0.128205128205128  | 0.000999000999000999 | 1  |\n\n",
            "text/latex": "A data.frame: 4 × 4\n\\begin{tabular}{llll}\n country & stat & p & sign\\\\\n <chr> & <chr> & <chr> & <chr>\\\\\n\\hline\n\t Ghana      & 0                  & 0.000999000999000999 & -1\\\\\n\t Nigeria    & 0.0666666666666667 & 0.000999000999000999 & 1 \\\\\n\t Seychelles & 0                  & 0.000999000999000999 & -1\\\\\n\t Somalia    & 0.128205128205128  & 0.000999000999000999 & 1 \\\\\n\\end{tabular}\n",
            "text/plain": [
              "  country    stat               p                    sign\n",
              "1 Ghana      0                  0.000999000999000999 -1  \n",
              "2 Nigeria    0.0666666666666667 0.000999000999000999 1   \n",
              "3 Seychelles 0                  0.000999000999000999 -1  \n",
              "4 Somalia    0.128205128205128  0.000999000999000999 1   "
            ]
          },
          "metadata": {}
        }
      ]
    },
    {
      "cell_type": "code",
      "source": [
        "colnames(summary) <- c('country', 'stat', 'p', 'sign')\n",
        "p.adjust(summary$p, method = 'bonferroni')"
      ],
      "metadata": {
        "id": "porkB8b_3KxY",
        "outputId": "ae3babad-e81d-43ca-cffe-708805641b39",
        "colab": {
          "base_uri": "https://localhost:8080/",
          "height": 34
        }
      },
      "execution_count": 43,
      "outputs": [
        {
          "output_type": "display_data",
          "data": {
            "text/html": [
              "<style>\n",
              ".list-inline {list-style: none; margin:0; padding: 0}\n",
              ".list-inline>li {display: inline-block}\n",
              ".list-inline>li:not(:last-child)::after {content: \"\\00b7\"; padding: 0 .5ex}\n",
              "</style>\n",
              "<ol class=list-inline><li>0.003996003996004</li><li>0.003996003996004</li><li>0.003996003996004</li><li>0.003996003996004</li></ol>\n"
            ],
            "text/markdown": "1. 0.003996003996004\n2. 0.003996003996004\n3. 0.003996003996004\n4. 0.003996003996004\n\n\n",
            "text/latex": "\\begin{enumerate*}\n\\item 0.003996003996004\n\\item 0.003996003996004\n\\item 0.003996003996004\n\\item 0.003996003996004\n\\end{enumerate*}\n",
            "text/plain": [
              "[1] 0.003996004 0.003996004 0.003996004 0.003996004"
            ]
          },
          "metadata": {}
        }
      ]
    },
    {
      "cell_type": "code",
      "execution_count": 15,
      "metadata": {
        "colab": {
          "base_uri": "https://localhost:8080/",
          "height": 68
        },
        "id": "LDluas-xMlxU",
        "outputId": "3853d468-f1ae-452d-d7a3-44262712ef44",
        "vscode": {
          "languageId": "r"
        }
      },
      "outputs": [
        {
          "output_type": "display_data",
          "data": {
            "text/html": [
              "0.0140562248995984"
            ],
            "text/markdown": "0.0140562248995984",
            "text/latex": "0.0140562248995984",
            "text/plain": [
              "[1] 0.01405622"
            ]
          },
          "metadata": {}
        },
        {
          "output_type": "display_data",
          "data": {
            "text/html": [
              "0.000999000999000999"
            ],
            "text/markdown": "0.000999000999000999",
            "text/latex": "0.000999000999000999",
            "text/plain": [
              "[1] 0.000999001"
            ]
          },
          "metadata": {}
        },
        {
          "output_type": "display_data",
          "data": {
            "text/html": [
              "-1"
            ],
            "text/markdown": "-1",
            "text/latex": "-1",
            "text/plain": [
              "[1] -1"
            ]
          },
          "metadata": {}
        }
      ],
      "source": [
        "# including piracy-only conflicts\n",
        "foo <- data %>%\n",
        "    # filter(!(piracy==1 & total_conflict==1)) %>%\n",
        "    mutate_at(illegal_type, ~ifelse(is.na(.) | . != 1, 0, .))\n",
        "\n",
        "obs <- jaccard(foo, 'piracy', 'iuu_fish')\n",
        "\n",
        "set.seed(1212)\n",
        "perm <- c()\n",
        "for(i in 1:1000){\n",
        "    bar <- foo\n",
        "    bar$iuu_fish <- sample(bar$iuu_fish, )\n",
        "    perm[i] <- jaccard(bar, 'piracy', 'iuu_fish')\n",
        "}\n",
        "\n",
        "p <- (min(length(perm[perm > obs]), length(perm[perm < obs])) + 1) / (length(perm) + 1)\n",
        "\n",
        "obs\n",
        "p\n",
        "sign(obs - mean(perm))"
      ]
    },
    {
      "cell_type": "markdown",
      "source": [
        "by country"
      ],
      "metadata": {
        "id": "ULMLi0jHxmg0"
      }
    },
    {
      "cell_type": "code",
      "source": [
        "# including piracy-only conflicts\n",
        "country <- data %>%\n",
        "    # filter(!(piracy==1 & total_conflict==1)) %>%\n",
        "    mutate_at(illegal_type, ~ifelse(is.na(.) | . != 1, 0, .)) %>%\n",
        "    group_by(country) %>%\n",
        "    summarize(n_piracy = sum(piracy), n_iuu_fish = sum(iuu_fish)) %>%\n",
        "    filter(n_piracy > 0 & n_iuu_fish > 0) %>%\n",
        "    select(country)\n",
        "\n",
        "country"
      ],
      "metadata": {
        "id": "3jOeGKf8xsXl",
        "outputId": "627b9286-0f27-4f95-bb53-aeaa63d5883a",
        "colab": {
          "base_uri": "https://localhost:8080/",
          "height": 469
        }
      },
      "execution_count": 25,
      "outputs": [
        {
          "output_type": "display_data",
          "data": {
            "text/html": [
              "<table class=\"dataframe\">\n",
              "<caption>A tibble: 12 × 1</caption>\n",
              "<thead>\n",
              "\t<tr><th scope=col>country</th></tr>\n",
              "\t<tr><th scope=col>&lt;chr&gt;</th></tr>\n",
              "</thead>\n",
              "<tbody>\n",
              "\t<tr><td>Cameroon    </td></tr>\n",
              "\t<tr><td>Ghana       </td></tr>\n",
              "\t<tr><td>Guinea      </td></tr>\n",
              "\t<tr><td>Kenya       </td></tr>\n",
              "\t<tr><td>Madagascar  </td></tr>\n",
              "\t<tr><td>Mauritania  </td></tr>\n",
              "\t<tr><td>Mozambique  </td></tr>\n",
              "\t<tr><td>Nigeria     </td></tr>\n",
              "\t<tr><td>Seychelles  </td></tr>\n",
              "\t<tr><td>Sierra Leone</td></tr>\n",
              "\t<tr><td>Somalia     </td></tr>\n",
              "\t<tr><td>Sudan       </td></tr>\n",
              "</tbody>\n",
              "</table>\n"
            ],
            "text/markdown": "\nA tibble: 12 × 1\n\n| country &lt;chr&gt; |\n|---|\n| Cameroon     |\n| Ghana        |\n| Guinea       |\n| Kenya        |\n| Madagascar   |\n| Mauritania   |\n| Mozambique   |\n| Nigeria      |\n| Seychelles   |\n| Sierra Leone |\n| Somalia      |\n| Sudan        |\n\n",
            "text/latex": "A tibble: 12 × 1\n\\begin{tabular}{l}\n country\\\\\n <chr>\\\\\n\\hline\n\t Cameroon    \\\\\n\t Ghana       \\\\\n\t Guinea      \\\\\n\t Kenya       \\\\\n\t Madagascar  \\\\\n\t Mauritania  \\\\\n\t Mozambique  \\\\\n\t Nigeria     \\\\\n\t Seychelles  \\\\\n\t Sierra Leone\\\\\n\t Somalia     \\\\\n\t Sudan       \\\\\n\\end{tabular}\n",
            "text/plain": [
              "   country     \n",
              "1  Cameroon    \n",
              "2  Ghana       \n",
              "3  Guinea      \n",
              "4  Kenya       \n",
              "5  Madagascar  \n",
              "6  Mauritania  \n",
              "7  Mozambique  \n",
              "8  Nigeria     \n",
              "9  Seychelles  \n",
              "10 Sierra Leone\n",
              "11 Somalia     \n",
              "12 Sudan       "
            ]
          },
          "metadata": {}
        }
      ]
    },
    {
      "cell_type": "code",
      "source": [
        "# including piracy-only conflicts\n",
        "foo <- data %>%\n",
        "    # filter(!(piracy==1 & total_conflict==1)) %>%\n",
        "    mutate_at(illegal_type, ~ifelse(is.na(.) | . != 1, 0, .))\n",
        "\n",
        "# countries that have both `piracy` and `iuu_fish`\n",
        "bar <- data %>%\n",
        "    # filter(!(piracy==1 & total_conflict==1)) %>%\n",
        "    mutate_at(illegal_type, ~ifelse(is.na(.) | . != 1, 0, .)) %>%\n",
        "    group_by(country) %>%\n",
        "    summarize(n_piracy = sum(piracy), n_iuu_fish = sum(iuu_fish)) %>%\n",
        "    filter(n_piracy > 0 & n_iuu_fish > 0)\n",
        "\n",
        "\n",
        "summary <- data.frame()\n",
        "for (x in bar$country){\n",
        "    bar <- foo[foo$country==x,]\n",
        "\n",
        "    obs <- jaccard(bar, 'piracy', 'iuu_fish')\n",
        "\n",
        "    set.seed(1212)\n",
        "    perm <- c()\n",
        "    for(i in 1:1000){\n",
        "        bar <- foo\n",
        "        bar$iuu_fish <- sample(bar$iuu_fish, )\n",
        "        perm[i] <- jaccard(bar, 'piracy', 'iuu_fish')\n",
        "    }\n",
        "\n",
        "    p <- (min(length(perm[perm > obs]), length(perm[perm < obs])) + 1) / (length(perm) + 1)\n",
        "\n",
        "    summary <- rbind(summary, c(x, obs, p, sign(obs - mean(perm))))\n",
        "}\n",
        "\n",
        "summary"
      ],
      "metadata": {
        "id": "k9CIcCTpxoIx"
      },
      "execution_count": 38,
      "outputs": []
    },
    {
      "cell_type": "markdown",
      "metadata": {
        "id": "aE7yZX2LfK-1"
      },
      "source": [
        "Piracy & IUU fishing by country"
      ]
    },
    {
      "cell_type": "code",
      "execution_count": null,
      "metadata": {
        "colab": {
          "base_uri": "https://localhost:8080/",
          "height": 1000
        },
        "id": "Cx4FrPhlfJpm",
        "outputId": "71b6d309-8893-4343-a60f-7df234435fa3",
        "vscode": {
          "languageId": "r"
        }
      },
      "outputs": [
        {
          "data": {
            "text/html": [
              "<table class=\"dataframe\">\n",
              "<caption>A tibble: 33 × 3</caption>\n",
              "<thead>\n",
              "\t<tr><th scope=col>country</th><th scope=col>n_piracy</th><th scope=col>n_iuu_fish</th></tr>\n",
              "\t<tr><th scope=col>&lt;chr&gt;</th><th scope=col>&lt;dbl&gt;</th><th scope=col>&lt;dbl&gt;</th></tr>\n",
              "</thead>\n",
              "<tbody>\n",
              "\t<tr><td>Somalia               </td><td>8</td><td>36</td></tr>\n",
              "\t<tr><td>Nigeria               </td><td>6</td><td>10</td></tr>\n",
              "\t<tr><td>Eritrea               </td><td>1</td><td> 0</td></tr>\n",
              "\t<tr><td>Ghana                 </td><td>1</td><td>22</td></tr>\n",
              "\t<tr><td>Seychelles            </td><td>1</td><td>12</td></tr>\n",
              "\t<tr><td>Angola                </td><td>0</td><td> 4</td></tr>\n",
              "\t<tr><td>Benin                 </td><td>0</td><td> 1</td></tr>\n",
              "\t<tr><td>Cabo Verde            </td><td>0</td><td> 6</td></tr>\n",
              "\t<tr><td>Cameroon              </td><td>0</td><td>14</td></tr>\n",
              "\t<tr><td>Comoros               </td><td>0</td><td> 2</td></tr>\n",
              "\t<tr><td>Côte d'Ivore          </td><td>0</td><td>14</td></tr>\n",
              "\t<tr><td>Djibouti              </td><td>0</td><td> 8</td></tr>\n",
              "\t<tr><td>Equatorial Guinea     </td><td>0</td><td> 1</td></tr>\n",
              "\t<tr><td>Gabon                 </td><td>0</td><td> 9</td></tr>\n",
              "\t<tr><td>Gambia                </td><td>0</td><td> 5</td></tr>\n",
              "\t<tr><td>Guinea                </td><td>0</td><td> 9</td></tr>\n",
              "\t<tr><td>Guinea-Bissau         </td><td>0</td><td> 7</td></tr>\n",
              "\t<tr><td>Kenya                 </td><td>0</td><td> 6</td></tr>\n",
              "\t<tr><td>Liberia               </td><td>0</td><td>30</td></tr>\n",
              "\t<tr><td>Madagascar            </td><td>0</td><td>24</td></tr>\n",
              "\t<tr><td>Mauritania            </td><td>0</td><td>23</td></tr>\n",
              "\t<tr><td>Mayotte &amp; Îles Éparses</td><td>0</td><td> 4</td></tr>\n",
              "\t<tr><td>Mozambique            </td><td>0</td><td> 7</td></tr>\n",
              "\t<tr><td>Namibia               </td><td>0</td><td> 7</td></tr>\n",
              "\t<tr><td>Republic of the Congo </td><td>0</td><td> 4</td></tr>\n",
              "\t<tr><td>Réunion               </td><td>0</td><td> 3</td></tr>\n",
              "\t<tr><td>Senegal               </td><td>0</td><td>46</td></tr>\n",
              "\t<tr><td>Sierra Leone          </td><td>0</td><td>16</td></tr>\n",
              "\t<tr><td>South Africa          </td><td>0</td><td> 9</td></tr>\n",
              "\t<tr><td>Sudan                 </td><td>0</td><td> 5</td></tr>\n",
              "\t<tr><td><span style=white-space:pre-wrap>São Tomé &amp; Príncipe   </span></td><td>0</td><td> 1</td></tr>\n",
              "\t<tr><td>Tanzania              </td><td>0</td><td>20</td></tr>\n",
              "\t<tr><td>Togo                  </td><td>0</td><td> 2</td></tr>\n",
              "</tbody>\n",
              "</table>\n"
            ],
            "text/latex": [
              "A tibble: 33 × 3\n",
              "\\begin{tabular}{lll}\n",
              " country & n\\_piracy & n\\_iuu\\_fish\\\\\n",
              " <chr> & <dbl> & <dbl>\\\\\n",
              "\\hline\n",
              "\t Somalia                & 8 & 36\\\\\n",
              "\t Nigeria                & 6 & 10\\\\\n",
              "\t Eritrea                & 1 &  0\\\\\n",
              "\t Ghana                  & 1 & 22\\\\\n",
              "\t Seychelles             & 1 & 12\\\\\n",
              "\t Angola                 & 0 &  4\\\\\n",
              "\t Benin                  & 0 &  1\\\\\n",
              "\t Cabo Verde             & 0 &  6\\\\\n",
              "\t Cameroon               & 0 & 14\\\\\n",
              "\t Comoros                & 0 &  2\\\\\n",
              "\t Côte d'Ivore           & 0 & 14\\\\\n",
              "\t Djibouti               & 0 &  8\\\\\n",
              "\t Equatorial Guinea      & 0 &  1\\\\\n",
              "\t Gabon                  & 0 &  9\\\\\n",
              "\t Gambia                 & 0 &  5\\\\\n",
              "\t Guinea                 & 0 &  9\\\\\n",
              "\t Guinea-Bissau          & 0 &  7\\\\\n",
              "\t Kenya                  & 0 &  6\\\\\n",
              "\t Liberia                & 0 & 30\\\\\n",
              "\t Madagascar             & 0 & 24\\\\\n",
              "\t Mauritania             & 0 & 23\\\\\n",
              "\t Mayotte \\& Îles Éparses & 0 &  4\\\\\n",
              "\t Mozambique             & 0 &  7\\\\\n",
              "\t Namibia                & 0 &  7\\\\\n",
              "\t Republic of the Congo  & 0 &  4\\\\\n",
              "\t Réunion                & 0 &  3\\\\\n",
              "\t Senegal                & 0 & 46\\\\\n",
              "\t Sierra Leone           & 0 & 16\\\\\n",
              "\t South Africa           & 0 &  9\\\\\n",
              "\t Sudan                  & 0 &  5\\\\\n",
              "\t São Tomé \\& Príncipe    & 0 &  1\\\\\n",
              "\t Tanzania               & 0 & 20\\\\\n",
              "\t Togo                   & 0 &  2\\\\\n",
              "\\end{tabular}\n"
            ],
            "text/markdown": [
              "\n",
              "A tibble: 33 × 3\n",
              "\n",
              "| country &lt;chr&gt; | n_piracy &lt;dbl&gt; | n_iuu_fish &lt;dbl&gt; |\n",
              "|---|---|---|\n",
              "| Somalia                | 8 | 36 |\n",
              "| Nigeria                | 6 | 10 |\n",
              "| Eritrea                | 1 |  0 |\n",
              "| Ghana                  | 1 | 22 |\n",
              "| Seychelles             | 1 | 12 |\n",
              "| Angola                 | 0 |  4 |\n",
              "| Benin                  | 0 |  1 |\n",
              "| Cabo Verde             | 0 |  6 |\n",
              "| Cameroon               | 0 | 14 |\n",
              "| Comoros                | 0 |  2 |\n",
              "| Côte d'Ivore           | 0 | 14 |\n",
              "| Djibouti               | 0 |  8 |\n",
              "| Equatorial Guinea      | 0 |  1 |\n",
              "| Gabon                  | 0 |  9 |\n",
              "| Gambia                 | 0 |  5 |\n",
              "| Guinea                 | 0 |  9 |\n",
              "| Guinea-Bissau          | 0 |  7 |\n",
              "| Kenya                  | 0 |  6 |\n",
              "| Liberia                | 0 | 30 |\n",
              "| Madagascar             | 0 | 24 |\n",
              "| Mauritania             | 0 | 23 |\n",
              "| Mayotte &amp; Îles Éparses | 0 |  4 |\n",
              "| Mozambique             | 0 |  7 |\n",
              "| Namibia                | 0 |  7 |\n",
              "| Republic of the Congo  | 0 |  4 |\n",
              "| Réunion                | 0 |  3 |\n",
              "| Senegal                | 0 | 46 |\n",
              "| Sierra Leone           | 0 | 16 |\n",
              "| South Africa           | 0 |  9 |\n",
              "| Sudan                  | 0 |  5 |\n",
              "| São Tomé &amp; Príncipe    | 0 |  1 |\n",
              "| Tanzania               | 0 | 20 |\n",
              "| Togo                   | 0 |  2 |\n",
              "\n"
            ],
            "text/plain": [
              "   country                n_piracy n_iuu_fish\n",
              "1  Somalia                8        36        \n",
              "2  Nigeria                6        10        \n",
              "3  Eritrea                1         0        \n",
              "4  Ghana                  1        22        \n",
              "5  Seychelles             1        12        \n",
              "6  Angola                 0         4        \n",
              "7  Benin                  0         1        \n",
              "8  Cabo Verde             0         6        \n",
              "9  Cameroon               0        14        \n",
              "10 Comoros                0         2        \n",
              "11 Côte d'Ivore           0        14        \n",
              "12 Djibouti               0         8        \n",
              "13 Equatorial Guinea      0         1        \n",
              "14 Gabon                  0         9        \n",
              "15 Gambia                 0         5        \n",
              "16 Guinea                 0         9        \n",
              "17 Guinea-Bissau          0         7        \n",
              "18 Kenya                  0         6        \n",
              "19 Liberia                0        30        \n",
              "20 Madagascar             0        24        \n",
              "21 Mauritania             0        23        \n",
              "22 Mayotte & Îles Éparses 0         4        \n",
              "23 Mozambique             0         7        \n",
              "24 Namibia                0         7        \n",
              "25 Republic of the Congo  0         4        \n",
              "26 Réunion                0         3        \n",
              "27 Senegal                0        46        \n",
              "28 Sierra Leone           0        16        \n",
              "29 South Africa           0         9        \n",
              "30 Sudan                  0         5        \n",
              "31 São Tomé & Príncipe    0         1        \n",
              "32 Tanzania               0        20        \n",
              "33 Togo                   0         2        "
            ]
          },
          "metadata": {},
          "output_type": "display_data"
        }
      ],
      "source": [
        "# piracy == 1\n",
        "foo <- data %>%\n",
        "    filter(!(piracy==1 & total_conflict==1)) %>%\n",
        "    mutate_at(illegal_type, ~ifelse(is.na(.) | . != 1, 0, .)) %>%\n",
        "    filter(piracy == 1) %>%\n",
        "    group_by(country) %>%\n",
        "    summarize(n_piracy = n())\n",
        "\n",
        "# iuu_fish == 1\n",
        "bar <- data %>%\n",
        "    filter(!(piracy==1 & total_conflict==1)) %>%\n",
        "    mutate_at(illegal_type, ~ifelse(is.na(.) | . != 1, 0, .)) %>%\n",
        "    filter(iuu_fish == 1) %>%\n",
        "    group_by(country) %>%\n",
        "    summarize(n_iuu_fish = n())\n",
        "\n",
        "# merge\n",
        "full_join(foo, bar, by = 'country') %>%\n",
        "    select(country, n_piracy, n_iuu_fish) %>%\n",
        "    mutate(n_iuu_fish = coalesce(n_iuu_fish, 0)) %>%\n",
        "    mutate(n_piracy = coalesce(n_piracy, 0)) %>%\n",
        "    arrange(desc(n_piracy))"
      ]
    },
    {
      "cell_type": "markdown",
      "metadata": {
        "id": "Nu2aw6ugkAaP"
      },
      "source": [
        "Correlation between piracy and IUU fishing over time, proportion to the total conflicts"
      ]
    },
    {
      "cell_type": "code",
      "execution_count": null,
      "metadata": {
        "colab": {
          "base_uri": "https://localhost:8080/",
          "height": 221
        },
        "id": "rYhRGDGrVO6e",
        "outputId": "4423a426-0d3a-41df-f97e-0e9e2cfa92de",
        "vscode": {
          "languageId": "r"
        }
      },
      "outputs": [
        {
          "data": {
            "text/html": [
              "<table class=\"dataframe\">\n",
              "<caption>A data.frame: 4 × 6</caption>\n",
              "<thead>\n",
              "\t<tr><th scope=col>country</th><th scope=col>cor</th><th scope=col>t</th><th scope=col>df</th><th scope=col>p</th><th scope=col>adjusted.p</th></tr>\n",
              "\t<tr><th scope=col>&lt;chr&gt;</th><th scope=col>&lt;chr&gt;</th><th scope=col>&lt;chr&gt;</th><th scope=col>&lt;chr&gt;</th><th scope=col>&lt;chr&gt;</th><th scope=col>&lt;dbl&gt;</th></tr>\n",
              "</thead>\n",
              "<tbody>\n",
              "\t<tr><td>Ghana     </td><td>-0.0694376487224849</td><td>-0.208816969047054</td><td>9</td><td>0.839240724651458</td><td>1</td></tr>\n",
              "\t<tr><td>Nigeria   </td><td>0.130475840146527  </td><td>0.372223360871    </td><td>8</td><td>0.719393574764215</td><td>1</td></tr>\n",
              "\t<tr><td>Seychelles</td><td>-0.281248416469319 </td><td>-0.828951270107502</td><td>8</td><td>0.431168097482639</td><td>1</td></tr>\n",
              "\t<tr><td>Somalia   </td><td>-0.167187082512632 </td><td>-0.508721404869957</td><td>9</td><td>0.623183375544997</td><td>1</td></tr>\n",
              "</tbody>\n",
              "</table>\n"
            ],
            "text/latex": [
              "A data.frame: 4 × 6\n",
              "\\begin{tabular}{llllll}\n",
              " country & cor & t & df & p & adjusted.p\\\\\n",
              " <chr> & <chr> & <chr> & <chr> & <chr> & <dbl>\\\\\n",
              "\\hline\n",
              "\t Ghana      & -0.0694376487224849 & -0.208816969047054 & 9 & 0.839240724651458 & 1\\\\\n",
              "\t Nigeria    & 0.130475840146527   & 0.372223360871     & 8 & 0.719393574764215 & 1\\\\\n",
              "\t Seychelles & -0.281248416469319  & -0.828951270107502 & 8 & 0.431168097482639 & 1\\\\\n",
              "\t Somalia    & -0.167187082512632  & -0.508721404869957 & 9 & 0.623183375544997 & 1\\\\\n",
              "\\end{tabular}\n"
            ],
            "text/markdown": [
              "\n",
              "A data.frame: 4 × 6\n",
              "\n",
              "| country &lt;chr&gt; | cor &lt;chr&gt; | t &lt;chr&gt; | df &lt;chr&gt; | p &lt;chr&gt; | adjusted.p &lt;dbl&gt; |\n",
              "|---|---|---|---|---|---|\n",
              "| Ghana      | -0.0694376487224849 | -0.208816969047054 | 9 | 0.839240724651458 | 1 |\n",
              "| Nigeria    | 0.130475840146527   | 0.372223360871     | 8 | 0.719393574764215 | 1 |\n",
              "| Seychelles | -0.281248416469319  | -0.828951270107502 | 8 | 0.431168097482639 | 1 |\n",
              "| Somalia    | -0.167187082512632  | -0.508721404869957 | 9 | 0.623183375544997 | 1 |\n",
              "\n"
            ],
            "text/plain": [
              "  country    cor                 t                  df p                \n",
              "1 Ghana      -0.0694376487224849 -0.208816969047054 9  0.839240724651458\n",
              "2 Nigeria    0.130475840146527   0.372223360871     8  0.719393574764215\n",
              "3 Seychelles -0.281248416469319  -0.828951270107502 8  0.431168097482639\n",
              "4 Somalia    -0.167187082512632  -0.508721404869957 9  0.623183375544997\n",
              "  adjusted.p\n",
              "1 1         \n",
              "2 1         \n",
              "3 1         \n",
              "4 1         "
            ]
          },
          "metadata": {},
          "output_type": "display_data"
        }
      ],
      "source": [
        "# Create a template for all combinations of country and year\n",
        "template <- expand.grid(\n",
        "    country = unique(data$country),\n",
        "    star_yr = seq(2008, 2018)\n",
        ")\n",
        "\n",
        "# all conflict events\n",
        "all_events <- data %>%\n",
        "    filter(!(piracy == 1 & total_conflict == 1)) %>%\n",
        "    group_by(country, star_yr) %>%\n",
        "    summarize(n_all = n(), .groups = 'drop')\n",
        "\n",
        "# IUU fishing\n",
        "iuu_fish <- data %>%\n",
        "    filter(!(piracy == 1 & total_conflict == 1)) %>%\n",
        "    mutate_at(illegal_type, ~ifelse(is.na(.) | . != 1, 0, .)) %>%\n",
        "    filter(iuu_fish == 1) %>%\n",
        "    group_by(country, star_yr) %>%\n",
        "    summarize(n_iuu_fish = n(), .groups = 'drop')\n",
        "\n",
        "# piracy\n",
        "piracy <- data %>%\n",
        "    filter(!(piracy == 1 & total_conflict == 1)) %>%\n",
        "    filter(piracy == 1) %>%\n",
        "    group_by(country, star_yr) %>%\n",
        "    summarize(n_piracy = n(), .groups = 'drop')\n",
        "\n",
        "\n",
        "# Merge the template with the original data and fill missing counts with 0\n",
        "foo <- template %>%\n",
        "    left_join(all_events, by = c(\"country\", \"star_yr\")) %>%\n",
        "    left_join(iuu_fish, by = c(\"country\", \"star_yr\")) %>%\n",
        "    left_join(piracy, by = c(\"country\", \"star_yr\")) %>%\n",
        "    mutate(n_all = coalesce(n_all, 0)) %>%\n",
        "    mutate(n_iuu_fish = coalesce(n_iuu_fish, 0)) %>%\n",
        "    mutate(n_piracy = coalesce(n_piracy, 0))\n",
        "\n",
        "# add proportion\n",
        "foo <- foo %>%\n",
        "    mutate(p_iuu_fish = n_iuu_fish/n_all) %>%\n",
        "    mutate(p_piracy = n_piracy/n_all)\n",
        "\n",
        "# drop NA rows\n",
        "foo <- foo %>%\n",
        "  filter(!is.na(p_iuu_fish)) %>%\n",
        "  filter(!is.na(p_piracy))\n",
        "\n",
        "\n",
        "# summarize\n",
        "summary <- data.frame()\n",
        "\n",
        "for(x in unique(foo$country)) {\n",
        "\n",
        "    bar <- foo[foo$country == x,]\n",
        "\n",
        "    if(nrow(bar) > 1 & var(bar$p_iuu_fish) > 0 & var(bar$p_piracy) > 0){\n",
        "        fit <- suppressWarnings(cor.test(bar$p_iuu_fish, bar$p_piracy))\n",
        "        summary <- rbind(summary, c(x, fit$estimate, fit$statistic, fit$parameter, fit$p.value))\n",
        "    }\n",
        "}\n",
        "\n",
        "\n",
        "colnames(summary) <- c('country', 'cor', 't', 'df', 'p')\n",
        "\n",
        "# Bonferroni correction\n",
        "summary$adjusted.p <- p.adjust(summary$p, method = \"bonferroni\")\n",
        "summary"
      ]
    },
    {
      "cell_type": "markdown",
      "metadata": {
        "id": "V6DTjKyPibT8"
      },
      "source": [
        "# Violence"
      ]
    },
    {
      "cell_type": "code",
      "execution_count": 45,
      "metadata": {
        "colab": {
          "base_uri": "https://localhost:8080/",
          "height": 68
        },
        "id": "pGEEu4EFXCAj",
        "outputId": "ba4bc11e-f84a-4696-cef3-c0e675a16e0b",
        "vscode": {
          "languageId": "r"
        }
      },
      "outputs": [
        {
          "output_type": "display_data",
          "data": {
            "text/html": [
              "0.0301455301455301"
            ],
            "text/markdown": "0.0301455301455301",
            "text/latex": "0.0301455301455301",
            "text/plain": [
              "[1] 0.03014553"
            ]
          },
          "metadata": {}
        },
        {
          "output_type": "display_data",
          "data": {
            "text/html": [
              "0.0415800415800416"
            ],
            "text/markdown": "0.0415800415800416",
            "text/latex": "0.0415800415800416",
            "text/plain": [
              "[1] 0.04158004"
            ]
          },
          "metadata": {}
        },
        {
          "output_type": "display_data",
          "data": {
            "text/html": [
              "0.0228690228690229"
            ],
            "text/markdown": "0.0228690228690229",
            "text/latex": "0.0228690228690229",
            "text/plain": [
              "[1] 0.02286902"
            ]
          },
          "metadata": {}
        }
      ],
      "source": [
        "foo <- data\n",
        "foo <- data[!(data$piracy==1 & data$total_conflict==1),]\n",
        "\n",
        "nrow(foo[foo$violence==1,])/nrow(foo)   # threat\n",
        "nrow(foo[foo$violence==2,])/nrow(foo)   # induries\n",
        "nrow(foo[foo$violence==3,])/nrow(foo)   # deaths"
      ]
    },
    {
      "cell_type": "markdown",
      "source": [
        "Violence vs. illegal type"
      ],
      "metadata": {
        "id": "sXVAcThF6l9O"
      }
    },
    {
      "cell_type": "code",
      "source": [
        "# contingency table\n",
        "data$violence0 <- ifelse(data$violence == 0, 1, 0)\n",
        "data$violence1 <- ifelse(data$violence == 1, 1, 0)\n",
        "data$violence2 <- ifelse(data$violence == 2, 1, 0)\n",
        "data$violence3 <- ifelse(data$violence == 3, 1, 0)\n",
        "\n",
        "violence_type <- c('violence0', 'violence1', 'violence2', 'violence3')\n",
        "\n",
        "df_list <- map(violence_type, ~ data %>%\n",
        "    filter(!(piracy == 1 & total_conflict == 1)) %>%\n",
        "    filter(!is.na(violence)) %>%\n",
        "    filter(.data[[.x]] == 1) %>%\n",
        "    select(all_of(illegal_type)) %>%\n",
        "    mutate(across(everything(), ~ifelse(is.na(.) | . != 1, 0, .))) %>%\n",
        "    reframe(var = illegal_type, count = colSums(.)))\n",
        "\n",
        "df <- reduce(df_list, full_join, by = 'var')\n",
        "df <- as.data.frame(df)\n",
        "df <- df %>% select(-var)\n",
        "colnames(df) <- violence_type\n",
        "\n",
        "chisq.test(df)"
      ],
      "metadata": {
        "id": "x9-GzOchGyUm",
        "outputId": "f1fff260-9c18-415b-b04f-e5e3d7d9aa91",
        "colab": {
          "base_uri": "https://localhost:8080/",
          "height": 136
        }
      },
      "execution_count": 106,
      "outputs": [
        {
          "output_type": "stream",
          "name": "stderr",
          "text": [
            "Warning message in chisq.test(df):\n",
            "“Chi-squared approximation may be incorrect”\n"
          ]
        },
        {
          "output_type": "display_data",
          "data": {
            "text/plain": [
              "\n",
              "\tPearson's Chi-squared test\n",
              "\n",
              "data:  df\n",
              "X-squared = 77.952, df = 18, p-value = 1.951e-09\n"
            ]
          },
          "metadata": {}
        }
      ]
    },
    {
      "cell_type": "markdown",
      "source": [
        "Violence vs. conflict type"
      ],
      "metadata": {
        "id": "vuWHU50b6o9J"
      }
    },
    {
      "cell_type": "code",
      "source": [
        "# contingency table\n",
        "df_list <- map(violence_type, ~ data %>%\n",
        "    filter(!(piracy == 1 & total_conflict == 1)) %>%\n",
        "    filter(!is.na(violence)) %>%\n",
        "    filter(.data[[.x]] == 1) %>%\n",
        "    select(all_of(conflict_type)) %>%\n",
        "    reframe(var = conflict_type, count = colSums(.)))\n",
        "\n",
        "df <- reduce(df_list, full_join, by = 'var')\n",
        "df <- as.data.frame(df)\n",
        "df <- df %>% select(-var)\n",
        "colnames(df) <- violence_type\n",
        "\n",
        "chisq.test(df)"
      ],
      "metadata": {
        "id": "XmocjjhwFFLd",
        "outputId": "e43be986-ae7a-47e3-dabe-eb6c54e68e4e",
        "colab": {
          "base_uri": "https://localhost:8080/",
          "height": 136
        }
      },
      "execution_count": 102,
      "outputs": [
        {
          "output_type": "stream",
          "name": "stderr",
          "text": [
            "Warning message in chisq.test(df):\n",
            "“Chi-squared approximation may be incorrect”\n"
          ]
        },
        {
          "output_type": "display_data",
          "data": {
            "text/plain": [
              "\n",
              "\tPearson's Chi-squared test\n",
              "\n",
              "data:  df\n",
              "X-squared = 83.045, df = 15, p-value = 1.929e-11\n"
            ]
          },
          "metadata": {}
        }
      ]
    },
    {
      "cell_type": "markdown",
      "metadata": {
        "id": "4_UfCU_Eu_FV"
      },
      "source": [
        "# Intensity"
      ]
    },
    {
      "cell_type": "code",
      "execution_count": 46,
      "metadata": {
        "colab": {
          "base_uri": "https://localhost:8080/",
          "height": 119
        },
        "id": "0EFmQvLbvAWa",
        "outputId": "a055575c-2a11-4233-91b2-f365e6bbd687",
        "vscode": {
          "languageId": "r"
        }
      },
      "outputs": [
        {
          "output_type": "display_data",
          "data": {
            "text/html": [
              "0.328409090909091"
            ],
            "text/markdown": "0.328409090909091",
            "text/latex": "0.328409090909091",
            "text/plain": [
              "[1] 0.3284091"
            ]
          },
          "metadata": {}
        },
        {
          "output_type": "display_data",
          "data": {
            "text/html": [
              "0.0852272727272727"
            ],
            "text/markdown": "0.0852272727272727",
            "text/latex": "0.0852272727272727",
            "text/plain": [
              "[1] 0.08522727"
            ]
          },
          "metadata": {}
        },
        {
          "output_type": "display_data",
          "data": {
            "text/html": [
              "0.1"
            ],
            "text/markdown": "0.1",
            "text/latex": "0.1",
            "text/plain": [
              "[1] 0.1"
            ]
          },
          "metadata": {}
        },
        {
          "output_type": "display_data",
          "data": {
            "text/html": [
              "0.0272727272727273"
            ],
            "text/markdown": "0.0272727272727273",
            "text/latex": "0.0272727272727273",
            "text/plain": [
              "[1] 0.02727273"
            ]
          },
          "metadata": {}
        },
        {
          "output_type": "display_data",
          "data": {
            "text/html": [
              "0.595454545454545"
            ],
            "text/markdown": "0.595454545454545",
            "text/latex": "0.595454545454545",
            "text/plain": [
              "[1] 0.5954545"
            ]
          },
          "metadata": {}
        },
        {
          "output_type": "display_data",
          "data": {
            "text/html": [
              "0.00909090909090909"
            ],
            "text/markdown": "0.00909090909090909",
            "text/latex": "0.00909090909090909",
            "text/plain": [
              "[1] 0.009090909"
            ]
          },
          "metadata": {}
        }
      ],
      "source": [
        "intensity_type <- c('mil_pol_neg', 'diplom', 'leg_natl', 'leg_intl', 'verb_disc', 'piracy_intensity')\n",
        "\n",
        "# non-violent conflict\n",
        "foo <- data %>%\n",
        "    filter(!(piracy == 1 & total_conflict == 1)) %>%\n",
        "    filter(violence == 0 | is.na(violence)) %>%\n",
        "    select(all_of(intensity_type)) %>%\n",
        "    mutate(across(everything(), ~ifelse(is.na(.) | . != 1, 0, .)))\n",
        "\n",
        "# proportion\n",
        "nrow(foo[foo$mil_pol_neg==1,])/nrow(foo)\n",
        "nrow(foo[foo$diplom==1,])/nrow(foo)\n",
        "nrow(foo[foo$leg_natl==1,])/nrow(foo)\n",
        "nrow(foo[foo$leg_intl==1,])/nrow(foo)\n",
        "nrow(foo[foo$verb_disc==1,])/nrow(foo)\n",
        "nrow(foo[foo$piracy_intensity==1,])/nrow(foo)"
      ]
    },
    {
      "cell_type": "markdown",
      "metadata": {
        "id": "Sq5OMsjaybwf"
      },
      "source": [
        "Military vs. IUU fishing/piracy"
      ]
    },
    {
      "cell_type": "code",
      "execution_count": 47,
      "metadata": {
        "colab": {
          "base_uri": "https://localhost:8080/",
          "height": 34
        },
        "id": "-Qr8hRi0yeP2",
        "outputId": "8b3ea3a1-eea5-4d20-b3a1-bd756e4e5a36",
        "vscode": {
          "languageId": "r"
        }
      },
      "outputs": [
        {
          "output_type": "display_data",
          "data": {
            "text/html": [
              "0.733727810650888"
            ],
            "text/markdown": "0.733727810650888",
            "text/latex": "0.733727810650888",
            "text/plain": [
              "[1] 0.7337278"
            ]
          },
          "metadata": {}
        }
      ],
      "source": [
        "# military\n",
        "foo <- data %>%\n",
        "    filter(!(piracy == 1 & total_conflict == 1)) %>%\n",
        "    select(mil_pol_neg, iuu_fish, piracy) %>%\n",
        "    mutate(across(everything(), ~ifelse(is.na(.) | . != 1, 0, .))) %>%\n",
        "    filter(mil_pol_neg == 1)\n",
        "\n",
        "# proportion of IUU fishing/piracy\n",
        "nrow(foo[foo$iuu_fish==1 | foo$piracy==1,])/nrow(foo)"
      ]
    },
    {
      "cell_type": "markdown",
      "metadata": {
        "id": "Gc2e2cofzwcj"
      },
      "source": [
        "Violence vs. IUU fishing/piracy"
      ]
    },
    {
      "cell_type": "code",
      "execution_count": 48,
      "metadata": {
        "colab": {
          "base_uri": "https://localhost:8080/",
          "height": 51
        },
        "id": "yDFoeAtDzz_y",
        "outputId": "351d6a23-7ae1-49f0-f557-cf40fbc2b381",
        "vscode": {
          "languageId": "r"
        }
      },
      "outputs": [
        {
          "output_type": "display_data",
          "data": {
            "text/html": [
              "0.109756097560976"
            ],
            "text/markdown": "0.109756097560976",
            "text/latex": "0.109756097560976",
            "text/plain": [
              "[1] 0.1097561"
            ]
          },
          "metadata": {}
        },
        {
          "output_type": "display_data",
          "data": {
            "text/html": [
              "0.51219512195122"
            ],
            "text/markdown": "0.51219512195122",
            "text/latex": "0.51219512195122",
            "text/plain": [
              "[1] 0.5121951"
            ]
          },
          "metadata": {}
        }
      ],
      "source": [
        "# violent conflict\n",
        "foo <- data %>%\n",
        "    filter(!(piracy == 1 & total_conflict == 1)) %>%\n",
        "    filter(violence > 0) %>%\n",
        "    select(iuu_fish, piracy) %>%\n",
        "    mutate(across(everything(), ~ifelse(is.na(.) | . != 1, 0, .)))\n",
        "\n",
        "# proportion of piracy\n",
        "nrow(foo[foo$piracy==1,])/nrow(foo)\n",
        "\n",
        "# proportion of IUU fishing/piracy\n",
        "nrow(foo[foo$iuu_fish==1 | foo$piracy==1,])/nrow(foo)"
      ]
    },
    {
      "cell_type": "markdown",
      "metadata": {
        "id": "jR7F_X3y1UGN"
      },
      "source": [
        "Verbal discord vs. conflict type"
      ]
    },
    {
      "cell_type": "code",
      "execution_count": 49,
      "metadata": {
        "colab": {
          "base_uri": "https://localhost:8080/",
          "height": 283
        },
        "id": "kB6rTuRtaLpL",
        "outputId": "55b14dda-f13d-48a2-ab75-c378253dc653",
        "vscode": {
          "languageId": "r"
        }
      },
      "outputs": [
        {
          "output_type": "display_data",
          "data": {
            "text/html": [
              "<table class=\"dataframe\">\n",
              "<caption>A tibble: 6 × 4</caption>\n",
              "<thead>\n",
              "\t<tr><th scope=col>var</th><th scope=col>count</th><th scope=col>total</th><th scope=col>prop</th></tr>\n",
              "\t<tr><th scope=col>&lt;chr&gt;</th><th scope=col>&lt;dbl&gt;</th><th scope=col>&lt;int&gt;</th><th scope=col>&lt;dbl&gt;</th></tr>\n",
              "</thead>\n",
              "<tbody>\n",
              "\t<tr><td>access_space   </td><td>246</td><td>569</td><td>0.43233743</td></tr>\n",
              "\t<tr><td>use_space      </td><td>152</td><td>569</td><td>0.26713533</td></tr>\n",
              "\t<tr><td>access_res     </td><td>259</td><td>569</td><td>0.45518453</td></tr>\n",
              "\t<tr><td>use_res        </td><td>147</td><td>569</td><td>0.25834798</td></tr>\n",
              "\t<tr><td>benef_dist_type</td><td>118</td><td>569</td><td>0.20738137</td></tr>\n",
              "\t<tr><td>piracy         </td><td> 10</td><td>569</td><td>0.01757469</td></tr>\n",
              "</tbody>\n",
              "</table>\n"
            ],
            "text/markdown": "\nA tibble: 6 × 4\n\n| var &lt;chr&gt; | count &lt;dbl&gt; | total &lt;int&gt; | prop &lt;dbl&gt; |\n|---|---|---|---|\n| access_space    | 246 | 569 | 0.43233743 |\n| use_space       | 152 | 569 | 0.26713533 |\n| access_res      | 259 | 569 | 0.45518453 |\n| use_res         | 147 | 569 | 0.25834798 |\n| benef_dist_type | 118 | 569 | 0.20738137 |\n| piracy          |  10 | 569 | 0.01757469 |\n\n",
            "text/latex": "A tibble: 6 × 4\n\\begin{tabular}{llll}\n var & count & total & prop\\\\\n <chr> & <dbl> & <int> & <dbl>\\\\\n\\hline\n\t access\\_space    & 246 & 569 & 0.43233743\\\\\n\t use\\_space       & 152 & 569 & 0.26713533\\\\\n\t access\\_res      & 259 & 569 & 0.45518453\\\\\n\t use\\_res         & 147 & 569 & 0.25834798\\\\\n\t benef\\_dist\\_type & 118 & 569 & 0.20738137\\\\\n\t piracy          &  10 & 569 & 0.01757469\\\\\n\\end{tabular}\n",
            "text/plain": [
              "  var             count total prop      \n",
              "1 access_space    246   569   0.43233743\n",
              "2 use_space       152   569   0.26713533\n",
              "3 access_res      259   569   0.45518453\n",
              "4 use_res         147   569   0.25834798\n",
              "5 benef_dist_type 118   569   0.20738137\n",
              "6 piracy           10   569   0.01757469"
            ]
          },
          "metadata": {}
        }
      ],
      "source": [
        "data %>%\n",
        "    filter(!(piracy == 1 & total_conflict == 1)) %>%\n",
        "    select(verb_disc, all_of(conflict_type)) %>%\n",
        "    mutate(across(everything(), ~ifelse(is.na(.) | . != 1, 0, .))) %>%\n",
        "    filter(verb_disc == 1) %>%\n",
        "    select(-verb_disc) %>%\n",
        "    reframe(var = conflict_type, count = colSums(.), total = nrow(.)) %>%\n",
        "    mutate(prop = count/total)"
      ]
    },
    {
      "cell_type": "markdown",
      "source": [
        "Intensity vs. illegal type"
      ],
      "metadata": {
        "id": "msSVV4sp6InT"
      }
    },
    {
      "cell_type": "markdown",
      "source": [
        "Intensity vs. conflict type"
      ],
      "metadata": {
        "id": "mWcWO2ts6iA4"
      }
    },
    {
      "cell_type": "markdown",
      "metadata": {
        "id": "WLjPnCzd3E40"
      },
      "source": [
        "# Driver"
      ]
    },
    {
      "cell_type": "markdown",
      "metadata": {
        "id": "WOc5weKktOIS"
      },
      "source": [
        "Proximate driver"
      ]
    },
    {
      "cell_type": "code",
      "execution_count": null,
      "metadata": {
        "colab": {
          "base_uri": "https://localhost:8080/",
          "height": 531
        },
        "id": "vEqi6VgJ3qEQ",
        "outputId": "9f9910da-0ebd-4615-d2c5-464d3d338215",
        "vscode": {
          "languageId": "r"
        }
      },
      "outputs": [
        {
          "data": {
            "text/html": [
              "<table class=\"dataframe\">\n",
              "<caption>A tibble: 14 × 4</caption>\n",
              "<thead>\n",
              "\t<tr><th scope=col>var</th><th scope=col>count</th><th scope=col>total</th><th scope=col>percent</th></tr>\n",
              "\t<tr><th scope=col>&lt;chr&gt;</th><th scope=col>&lt;dbl&gt;</th><th scope=col>&lt;int&gt;</th><th scope=col>&lt;dbl&gt;</th></tr>\n",
              "</thead>\n",
              "<tbody>\n",
              "\t<tr><td>iuu_fish_prox       </td><td>303</td><td>962</td><td>31.5</td></tr>\n",
              "\t<tr><td>benef_dist_driv     </td><td>201</td><td>962</td><td>20.9</td></tr>\n",
              "\t<tr><td>lack_reg_prox       </td><td>100</td><td>962</td><td>10.4</td></tr>\n",
              "\t<tr><td>res_cond_hum_prox   </td><td> 84</td><td>962</td><td> 8.7</td></tr>\n",
              "\t<tr><td>plan_dev            </td><td> 64</td><td>962</td><td> 6.7</td></tr>\n",
              "\t<tr><td>inad_gov_prox       </td><td> 35</td><td>962</td><td> 3.6</td></tr>\n",
              "\t<tr><td>ill_res_use_prox    </td><td> 27</td><td>962</td><td> 2.8</td></tr>\n",
              "\t<tr><td>bord_disp_prox      </td><td> 19</td><td>962</td><td> 2.0</td></tr>\n",
              "\t<tr><td>acut_food_short     </td><td> 10</td><td>962</td><td> 1.0</td></tr>\n",
              "\t<tr><td>piracy_prox         </td><td>  7</td><td>962</td><td> 0.7</td></tr>\n",
              "\t<tr><td>res_cond_nonhum_prox</td><td>  6</td><td>962</td><td> 0.6</td></tr>\n",
              "\t<tr><td>trad_v_new          </td><td>  5</td><td>962</td><td> 0.5</td></tr>\n",
              "\t<tr><td>nat_dis             </td><td>  1</td><td>962</td><td> 0.1</td></tr>\n",
              "\t<tr><td>pol_insta_prox      </td><td>  1</td><td>962</td><td> 0.1</td></tr>\n",
              "</tbody>\n",
              "</table>\n"
            ],
            "text/latex": [
              "A tibble: 14 × 4\n",
              "\\begin{tabular}{llll}\n",
              " var & count & total & percent\\\\\n",
              " <chr> & <dbl> & <int> & <dbl>\\\\\n",
              "\\hline\n",
              "\t iuu\\_fish\\_prox        & 303 & 962 & 31.5\\\\\n",
              "\t benef\\_dist\\_driv      & 201 & 962 & 20.9\\\\\n",
              "\t lack\\_reg\\_prox        & 100 & 962 & 10.4\\\\\n",
              "\t res\\_cond\\_hum\\_prox    &  84 & 962 &  8.7\\\\\n",
              "\t plan\\_dev             &  64 & 962 &  6.7\\\\\n",
              "\t inad\\_gov\\_prox        &  35 & 962 &  3.6\\\\\n",
              "\t ill\\_res\\_use\\_prox     &  27 & 962 &  2.8\\\\\n",
              "\t bord\\_disp\\_prox       &  19 & 962 &  2.0\\\\\n",
              "\t acut\\_food\\_short      &  10 & 962 &  1.0\\\\\n",
              "\t piracy\\_prox          &   7 & 962 &  0.7\\\\\n",
              "\t res\\_cond\\_nonhum\\_prox &   6 & 962 &  0.6\\\\\n",
              "\t trad\\_v\\_new           &   5 & 962 &  0.5\\\\\n",
              "\t nat\\_dis              &   1 & 962 &  0.1\\\\\n",
              "\t pol\\_insta\\_prox       &   1 & 962 &  0.1\\\\\n",
              "\\end{tabular}\n"
            ],
            "text/markdown": [
              "\n",
              "A tibble: 14 × 4\n",
              "\n",
              "| var &lt;chr&gt; | count &lt;dbl&gt; | total &lt;int&gt; | percent &lt;dbl&gt; |\n",
              "|---|---|---|---|\n",
              "| iuu_fish_prox        | 303 | 962 | 31.5 |\n",
              "| benef_dist_driv      | 201 | 962 | 20.9 |\n",
              "| lack_reg_prox        | 100 | 962 | 10.4 |\n",
              "| res_cond_hum_prox    |  84 | 962 |  8.7 |\n",
              "| plan_dev             |  64 | 962 |  6.7 |\n",
              "| inad_gov_prox        |  35 | 962 |  3.6 |\n",
              "| ill_res_use_prox     |  27 | 962 |  2.8 |\n",
              "| bord_disp_prox       |  19 | 962 |  2.0 |\n",
              "| acut_food_short      |  10 | 962 |  1.0 |\n",
              "| piracy_prox          |   7 | 962 |  0.7 |\n",
              "| res_cond_nonhum_prox |   6 | 962 |  0.6 |\n",
              "| trad_v_new           |   5 | 962 |  0.5 |\n",
              "| nat_dis              |   1 | 962 |  0.1 |\n",
              "| pol_insta_prox       |   1 | 962 |  0.1 |\n",
              "\n"
            ],
            "text/plain": [
              "   var                  count total percent\n",
              "1  iuu_fish_prox        303   962   31.5   \n",
              "2  benef_dist_driv      201   962   20.9   \n",
              "3  lack_reg_prox        100   962   10.4   \n",
              "4  res_cond_hum_prox     84   962    8.7   \n",
              "5  plan_dev              64   962    6.7   \n",
              "6  inad_gov_prox         35   962    3.6   \n",
              "7  ill_res_use_prox      27   962    2.8   \n",
              "8  bord_disp_prox        19   962    2.0   \n",
              "9  acut_food_short       10   962    1.0   \n",
              "10 piracy_prox            7   962    0.7   \n",
              "11 res_cond_nonhum_prox   6   962    0.6   \n",
              "12 trad_v_new             5   962    0.5   \n",
              "13 nat_dis                1   962    0.1   \n",
              "14 pol_insta_prox         1   962    0.1   "
            ]
          },
          "metadata": {},
          "output_type": "display_data"
        }
      ],
      "source": [
        "foo <- data %>%\n",
        "    filter(!(piracy == 1 & total_conflict == 1)) %>%\n",
        "    select(all_of(prox_driver_type)) %>%\n",
        "    reframe(var = prox_driver_type, count = colSums(.), total = nrow(.)) %>%\n",
        "    mutate(percent = count/total * 100) %>%\n",
        "    arrange(desc(count))\n",
        "foo$percent <- round(foo$percent, 1)\n",
        "foo"
      ]
    },
    {
      "cell_type": "markdown",
      "metadata": {
        "id": "tZtQEy2nvvk1"
      },
      "source": [
        "bar chart"
      ]
    },
    {
      "cell_type": "code",
      "execution_count": null,
      "metadata": {
        "id": "d7Bk5XPirO4o",
        "vscode": {
          "languageId": "r"
        }
      },
      "outputs": [],
      "source": [
        "p <- ggplot(foo, aes(x = reorder(var, percent), y = percent)) +\n",
        "  geom_bar(stat = \"identity\", color = \"black\") +\n",
        "  ylim(0, 33) +\n",
        "  coord_flip() +\n",
        "  labs(y = \"Involvement (%)\", x = NULL) +\n",
        "  theme_minimal()\n",
        "\n",
        "ggsave(\"prox_driver.pdf\", p, width = 8, height = 6, units = \"in\")"
      ]
    },
    {
      "cell_type": "markdown",
      "metadata": {
        "id": "RFQnhGsfvzCA"
      },
      "source": [
        "spider chart"
      ]
    },
    {
      "cell_type": "code",
      "execution_count": null,
      "metadata": {
        "id": "zvvFOFtovsDc",
        "vscode": {
          "languageId": "r"
        }
      },
      "outputs": [],
      "source": [
        "install.packages('fmsb')\n",
        "library(fmsb)"
      ]
    },
    {
      "cell_type": "code",
      "execution_count": null,
      "metadata": {
        "colab": {
          "base_uri": "https://localhost:8080/",
          "height": 531
        },
        "id": "9_C10ZemvsDb",
        "outputId": "babdc4dc-6cdd-44f3-e629-0d362d2ca81c",
        "vscode": {
          "languageId": "r"
        }
      },
      "outputs": [
        {
          "data": {
            "text/html": [
              "<table class=\"dataframe\">\n",
              "<caption>A data.frame: 14 × 6</caption>\n",
              "<thead>\n",
              "\t<tr><th></th><th scope=col>access_space</th><th scope=col>use_space</th><th scope=col>access_res</th><th scope=col>use_res</th><th scope=col>benef_dist_type</th><th scope=col>piracy</th></tr>\n",
              "\t<tr><th></th><th scope=col>&lt;dbl&gt;</th><th scope=col>&lt;dbl&gt;</th><th scope=col>&lt;dbl&gt;</th><th scope=col>&lt;dbl&gt;</th><th scope=col>&lt;dbl&gt;</th><th scope=col>&lt;dbl&gt;</th></tr>\n",
              "</thead>\n",
              "<tbody>\n",
              "\t<tr><th scope=row>benef_dist_driv</th><td>23.5</td><td>16.1</td><td>25.3</td><td>20.3</td><td>85.8</td><td>17.6</td></tr>\n",
              "\t<tr><th scope=row>acut_food_short</th><td> 1.3</td><td> 1.0</td><td> 1.9</td><td> 0.4</td><td> 1.5</td><td> 0.0</td></tr>\n",
              "\t<tr><th scope=row>nat_dis</th><td> 0.2</td><td> 0.0</td><td> 0.0</td><td> 0.0</td><td> 0.0</td><td> 0.0</td></tr>\n",
              "\t<tr><th scope=row>trad_v_new</th><td> 0.9</td><td> 0.5</td><td> 0.7</td><td> 0.0</td><td> 0.7</td><td> 0.0</td></tr>\n",
              "\t<tr><th scope=row>bord_disp_prox</th><td> 3.9</td><td> 1.6</td><td> 1.7</td><td> 0.0</td><td> 0.0</td><td> 0.0</td></tr>\n",
              "\t<tr><th scope=row>inad_gov_prox</th><td> 3.9</td><td> 0.5</td><td> 4.7</td><td> 3.5</td><td> 6.7</td><td> 0.0</td></tr>\n",
              "\t<tr><th scope=row>lack_reg_prox</th><td>13.8</td><td> 2.6</td><td>12.5</td><td> 8.7</td><td>17.2</td><td> 0.0</td></tr>\n",
              "\t<tr><th scope=row>pol_insta_prox</th><td> 0.0</td><td> 0.0</td><td> 0.2</td><td> 0.0</td><td> 0.0</td><td> 0.0</td></tr>\n",
              "\t<tr><th scope=row>res_cond_hum_prox</th><td> 4.4</td><td>30.1</td><td> 4.5</td><td> 9.1</td><td> 5.2</td><td> 0.0</td></tr>\n",
              "\t<tr><th scope=row>res_cond_nonhum_prox</th><td> 0.4</td><td> 0.5</td><td> 1.2</td><td> 0.4</td><td> 0.7</td><td> 0.0</td></tr>\n",
              "\t<tr><th scope=row>ill_res_use_prox</th><td> 0.7</td><td> 3.1</td><td> 3.1</td><td> 5.6</td><td> 2.2</td><td> 5.9</td></tr>\n",
              "\t<tr><th scope=row>iuu_fish_prox</th><td>42.3</td><td> 7.8</td><td>34.5</td><td>44.2</td><td>11.2</td><td>23.5</td></tr>\n",
              "\t<tr><th scope=row>piracy_prox</th><td> 0.9</td><td> 0.0</td><td> 0.5</td><td> 0.0</td><td> 0.0</td><td>29.4</td></tr>\n",
              "\t<tr><th scope=row>plan_dev</th><td> 4.8</td><td>25.9</td><td> 0.7</td><td> 1.7</td><td>13.4</td><td> 0.0</td></tr>\n",
              "</tbody>\n",
              "</table>\n"
            ],
            "text/latex": [
              "A data.frame: 14 × 6\n",
              "\\begin{tabular}{r|llllll}\n",
              "  & access\\_space & use\\_space & access\\_res & use\\_res & benef\\_dist\\_type & piracy\\\\\n",
              "  & <dbl> & <dbl> & <dbl> & <dbl> & <dbl> & <dbl>\\\\\n",
              "\\hline\n",
              "\tbenef\\_dist\\_driv & 23.5 & 16.1 & 25.3 & 20.3 & 85.8 & 17.6\\\\\n",
              "\tacut\\_food\\_short &  1.3 &  1.0 &  1.9 &  0.4 &  1.5 &  0.0\\\\\n",
              "\tnat\\_dis &  0.2 &  0.0 &  0.0 &  0.0 &  0.0 &  0.0\\\\\n",
              "\ttrad\\_v\\_new &  0.9 &  0.5 &  0.7 &  0.0 &  0.7 &  0.0\\\\\n",
              "\tbord\\_disp\\_prox &  3.9 &  1.6 &  1.7 &  0.0 &  0.0 &  0.0\\\\\n",
              "\tinad\\_gov\\_prox &  3.9 &  0.5 &  4.7 &  3.5 &  6.7 &  0.0\\\\\n",
              "\tlack\\_reg\\_prox & 13.8 &  2.6 & 12.5 &  8.7 & 17.2 &  0.0\\\\\n",
              "\tpol\\_insta\\_prox &  0.0 &  0.0 &  0.2 &  0.0 &  0.0 &  0.0\\\\\n",
              "\tres\\_cond\\_hum\\_prox &  4.4 & 30.1 &  4.5 &  9.1 &  5.2 &  0.0\\\\\n",
              "\tres\\_cond\\_nonhum\\_prox &  0.4 &  0.5 &  1.2 &  0.4 &  0.7 &  0.0\\\\\n",
              "\till\\_res\\_use\\_prox &  0.7 &  3.1 &  3.1 &  5.6 &  2.2 &  5.9\\\\\n",
              "\tiuu\\_fish\\_prox & 42.3 &  7.8 & 34.5 & 44.2 & 11.2 & 23.5\\\\\n",
              "\tpiracy\\_prox &  0.9 &  0.0 &  0.5 &  0.0 &  0.0 & 29.4\\\\\n",
              "\tplan\\_dev &  4.8 & 25.9 &  0.7 &  1.7 & 13.4 &  0.0\\\\\n",
              "\\end{tabular}\n"
            ],
            "text/markdown": [
              "\n",
              "A data.frame: 14 × 6\n",
              "\n",
              "| <!--/--> | access_space &lt;dbl&gt; | use_space &lt;dbl&gt; | access_res &lt;dbl&gt; | use_res &lt;dbl&gt; | benef_dist_type &lt;dbl&gt; | piracy &lt;dbl&gt; |\n",
              "|---|---|---|---|---|---|---|\n",
              "| benef_dist_driv | 23.5 | 16.1 | 25.3 | 20.3 | 85.8 | 17.6 |\n",
              "| acut_food_short |  1.3 |  1.0 |  1.9 |  0.4 |  1.5 |  0.0 |\n",
              "| nat_dis |  0.2 |  0.0 |  0.0 |  0.0 |  0.0 |  0.0 |\n",
              "| trad_v_new |  0.9 |  0.5 |  0.7 |  0.0 |  0.7 |  0.0 |\n",
              "| bord_disp_prox |  3.9 |  1.6 |  1.7 |  0.0 |  0.0 |  0.0 |\n",
              "| inad_gov_prox |  3.9 |  0.5 |  4.7 |  3.5 |  6.7 |  0.0 |\n",
              "| lack_reg_prox | 13.8 |  2.6 | 12.5 |  8.7 | 17.2 |  0.0 |\n",
              "| pol_insta_prox |  0.0 |  0.0 |  0.2 |  0.0 |  0.0 |  0.0 |\n",
              "| res_cond_hum_prox |  4.4 | 30.1 |  4.5 |  9.1 |  5.2 |  0.0 |\n",
              "| res_cond_nonhum_prox |  0.4 |  0.5 |  1.2 |  0.4 |  0.7 |  0.0 |\n",
              "| ill_res_use_prox |  0.7 |  3.1 |  3.1 |  5.6 |  2.2 |  5.9 |\n",
              "| iuu_fish_prox | 42.3 |  7.8 | 34.5 | 44.2 | 11.2 | 23.5 |\n",
              "| piracy_prox |  0.9 |  0.0 |  0.5 |  0.0 |  0.0 | 29.4 |\n",
              "| plan_dev |  4.8 | 25.9 |  0.7 |  1.7 | 13.4 |  0.0 |\n",
              "\n"
            ],
            "text/plain": [
              "                     access_space use_space access_res use_res benef_dist_type\n",
              "benef_dist_driv      23.5         16.1      25.3       20.3    85.8           \n",
              "acut_food_short       1.3          1.0       1.9        0.4     1.5           \n",
              "nat_dis               0.2          0.0       0.0        0.0     0.0           \n",
              "trad_v_new            0.9          0.5       0.7        0.0     0.7           \n",
              "bord_disp_prox        3.9          1.6       1.7        0.0     0.0           \n",
              "inad_gov_prox         3.9          0.5       4.7        3.5     6.7           \n",
              "lack_reg_prox        13.8          2.6      12.5        8.7    17.2           \n",
              "pol_insta_prox        0.0          0.0       0.2        0.0     0.0           \n",
              "res_cond_hum_prox     4.4         30.1       4.5        9.1     5.2           \n",
              "res_cond_nonhum_prox  0.4          0.5       1.2        0.4     0.7           \n",
              "ill_res_use_prox      0.7          3.1       3.1        5.6     2.2           \n",
              "iuu_fish_prox        42.3          7.8      34.5       44.2    11.2           \n",
              "piracy_prox           0.9          0.0       0.5        0.0     0.0           \n",
              "plan_dev              4.8         25.9       0.7        1.7    13.4           \n",
              "                     piracy\n",
              "benef_dist_driv      17.6  \n",
              "acut_food_short       0.0  \n",
              "nat_dis               0.0  \n",
              "trad_v_new            0.0  \n",
              "bord_disp_prox        0.0  \n",
              "inad_gov_prox         0.0  \n",
              "lack_reg_prox         0.0  \n",
              "pol_insta_prox        0.0  \n",
              "res_cond_hum_prox     0.0  \n",
              "res_cond_nonhum_prox  0.0  \n",
              "ill_res_use_prox      5.9  \n",
              "iuu_fish_prox        23.5  \n",
              "piracy_prox          29.4  \n",
              "plan_dev              0.0  "
            ]
          },
          "metadata": {},
          "output_type": "display_data"
        }
      ],
      "source": [
        "# total number of conflict by conflict types\n",
        "total <- data %>%\n",
        "    filter(!(piracy == 1 & total_conflict == 1)) %>%\n",
        "    select(all_of(conflict_type))\n",
        "\n",
        "\n",
        "# driver by confict types\n",
        "df_list <- map(conflict_type, ~ data %>%\n",
        "    filter(!(piracy == 1 & total_conflict == 1)) %>%\n",
        "    filter(.data[[.x]] == 1) %>%\n",
        "    select(all_of(prox_driver_type)) %>%\n",
        "    mutate_all(as.numeric) %>%\n",
        "    reframe(var = prox_driver_type, count = colSums(.)))\n",
        "\n",
        "\n",
        "df <- reduce(df_list, full_join, by = 'var')\n",
        "\n",
        "df <- as.data.frame(df)\n",
        "rownames(df) <- prox_driver_type\n",
        "df <- df %>% select(-var)\n",
        "colnames(df) <- conflict_type\n",
        "\n",
        "\n",
        "df <- sweep(df, 2, colSums(total), `/`)\n",
        "df <- round(df * 100, 1)\n",
        "df"
      ]
    },
    {
      "cell_type": "code",
      "execution_count": null,
      "metadata": {
        "colab": {
          "base_uri": "https://localhost:8080/",
          "height": 34
        },
        "id": "Oy9oxHHHvsDd",
        "outputId": "c6987b47-009c-40f9-d04e-cb6798f789b2",
        "vscode": {
          "languageId": "r"
        }
      },
      "outputs": [
        {
          "data": {
            "text/html": [
              "<strong>png:</strong> 2"
            ],
            "text/latex": [
              "\\textbf{png:} 2"
            ],
            "text/markdown": [
              "**png:** 2"
            ],
            "text/plain": [
              "png \n",
              "  2 "
            ]
          },
          "metadata": {},
          "output_type": "display_data"
        }
      ],
      "source": [
        "# drivers of interest\n",
        "foo <- df[c('iuu_fish_prox', 'benef_dist_driv', 'lack_reg_prox', 'res_cond_hum_prox'),]\n",
        "\n",
        "\n",
        "# add min and max\n",
        "foo  <- rbind(rep(0, 6), foo)\n",
        "foo  <- rbind(rep(1, 6), foo)\n",
        "\n",
        "foo <- foo * 100\n",
        "\n",
        "# color\n",
        "mycol = c('red', 'blue', 'orange', 'purple')\n",
        "\n",
        "create_beautiful_radarchart <- function(data, color = \"#00AFBB\",\n",
        "                                        vlabels = colnames(data), vlcex = 0.7,\n",
        "                                        caxislabels = NULL, title = NULL, ...){\n",
        "  radarchart(\n",
        "    data, axistype = 1,\n",
        "    # Customize the polygon\n",
        "    pcol = color, plwd = 2, plty = 1,\n",
        "    # Customize the grid\n",
        "    cglcol = \"grey\", cglty = 1, cglwd = 0.8,\n",
        "    # Customize the axis\n",
        "    axislabcol = \"grey\",\n",
        "    # Variable labels\n",
        "    vlcex = vlcex, vlabels = vlabels,\n",
        "    caxislabels = caxislabels, title = title, ...\n",
        "  )\n",
        "}\n",
        "\n",
        "\n",
        "pdf(\"prox_driver_radar_chart.pdf\", width = 8, height = 8)\n",
        "\n",
        "# Reduce plot margin using par()\n",
        "op <- par(mar = c(1, 2, 2, 2))\n",
        "# Create the radar charts\n",
        "create_beautiful_radarchart(\n",
        "  data = foo,\n",
        "  color = mycol\n",
        ")\n",
        "# Add an horizontal legend\n",
        "legend(\n",
        "  x = \"bottom\", legend = rownames(foo[-c(1,2),]), horiz = TRUE,\n",
        "  bty = \"n\", pch = 20 , col = mycol,\n",
        "  text.col = \"black\", cex = 1, pt.cex = 1.5\n",
        "  )\n",
        "\n",
        "par(op)\n",
        "\n",
        "dev.off()"
      ]
    },
    {
      "cell_type": "markdown",
      "metadata": {
        "id": "Ek1k889s5stO"
      },
      "source": [
        "Distal driver"
      ]
    },
    {
      "cell_type": "code",
      "execution_count": null,
      "metadata": {
        "colab": {
          "base_uri": "https://localhost:8080/",
          "height": 593
        },
        "id": "EXZnqOXO3GeG",
        "outputId": "c1efa0fc-b8ab-4cd2-b8eb-74b6404e7e7a",
        "vscode": {
          "languageId": "r"
        }
      },
      "outputs": [
        {
          "data": {
            "text/html": [
              "<table class=\"dataframe\">\n",
              "<caption>A tibble: 16 × 4</caption>\n",
              "<thead>\n",
              "\t<tr><th scope=col>var</th><th scope=col>count</th><th scope=col>total</th><th scope=col>percent</th></tr>\n",
              "\t<tr><th scope=col>&lt;chr&gt;</th><th scope=col>&lt;dbl&gt;</th><th scope=col>&lt;int&gt;</th><th scope=col>&lt;dbl&gt;</th></tr>\n",
              "</thead>\n",
              "<tbody>\n",
              "\t<tr><td>inad_gov_dist       </td><td>309</td><td>962</td><td>32.1</td></tr>\n",
              "\t<tr><td>iuu_fish_dist       </td><td>297</td><td>962</td><td>30.9</td></tr>\n",
              "\t<tr><td>poor_res_hum_dist   </td><td>268</td><td>962</td><td>27.9</td></tr>\n",
              "\t<tr><td>poverty             </td><td> 96</td><td>962</td><td>10.0</td></tr>\n",
              "\t<tr><td>bord_disp_dist      </td><td> 32</td><td>962</td><td> 3.3</td></tr>\n",
              "\t<tr><td>ill_res_use_dist    </td><td> 32</td><td>962</td><td> 3.3</td></tr>\n",
              "\t<tr><td>piracy_dist         </td><td> 31</td><td>962</td><td> 3.2</td></tr>\n",
              "\t<tr><td>clim_chang          </td><td> 23</td><td>962</td><td> 2.4</td></tr>\n",
              "\t<tr><td>food_insec_dist     </td><td> 22</td><td>962</td><td> 2.3</td></tr>\n",
              "\t<tr><td>poor_res_no_hum_dist</td><td> 16</td><td>962</td><td> 1.7</td></tr>\n",
              "\t<tr><td>marit_crime_dist    </td><td> 14</td><td>962</td><td> 1.5</td></tr>\n",
              "\t<tr><td>soc_eco_ineq        </td><td> 12</td><td>962</td><td> 1.2</td></tr>\n",
              "\t<tr><td>pol_insta_dist      </td><td> 11</td><td>962</td><td> 1.1</td></tr>\n",
              "\t<tr><td>pop_inc             </td><td> 10</td><td>962</td><td> 1.0</td></tr>\n",
              "\t<tr><td>ethnic_div_dist     </td><td>  7</td><td>962</td><td> 0.7</td></tr>\n",
              "\t<tr><td>cons_dem            </td><td>  7</td><td>962</td><td> 0.7</td></tr>\n",
              "</tbody>\n",
              "</table>\n"
            ],
            "text/latex": [
              "A tibble: 16 × 4\n",
              "\\begin{tabular}{llll}\n",
              " var & count & total & percent\\\\\n",
              " <chr> & <dbl> & <int> & <dbl>\\\\\n",
              "\\hline\n",
              "\t inad\\_gov\\_dist        & 309 & 962 & 32.1\\\\\n",
              "\t iuu\\_fish\\_dist        & 297 & 962 & 30.9\\\\\n",
              "\t poor\\_res\\_hum\\_dist    & 268 & 962 & 27.9\\\\\n",
              "\t poverty              &  96 & 962 & 10.0\\\\\n",
              "\t bord\\_disp\\_dist       &  32 & 962 &  3.3\\\\\n",
              "\t ill\\_res\\_use\\_dist     &  32 & 962 &  3.3\\\\\n",
              "\t piracy\\_dist          &  31 & 962 &  3.2\\\\\n",
              "\t clim\\_chang           &  23 & 962 &  2.4\\\\\n",
              "\t food\\_insec\\_dist      &  22 & 962 &  2.3\\\\\n",
              "\t poor\\_res\\_no\\_hum\\_dist &  16 & 962 &  1.7\\\\\n",
              "\t marit\\_crime\\_dist     &  14 & 962 &  1.5\\\\\n",
              "\t soc\\_eco\\_ineq         &  12 & 962 &  1.2\\\\\n",
              "\t pol\\_insta\\_dist       &  11 & 962 &  1.1\\\\\n",
              "\t pop\\_inc              &  10 & 962 &  1.0\\\\\n",
              "\t ethnic\\_div\\_dist      &   7 & 962 &  0.7\\\\\n",
              "\t cons\\_dem             &   7 & 962 &  0.7\\\\\n",
              "\\end{tabular}\n"
            ],
            "text/markdown": [
              "\n",
              "A tibble: 16 × 4\n",
              "\n",
              "| var &lt;chr&gt; | count &lt;dbl&gt; | total &lt;int&gt; | percent &lt;dbl&gt; |\n",
              "|---|---|---|---|\n",
              "| inad_gov_dist        | 309 | 962 | 32.1 |\n",
              "| iuu_fish_dist        | 297 | 962 | 30.9 |\n",
              "| poor_res_hum_dist    | 268 | 962 | 27.9 |\n",
              "| poverty              |  96 | 962 | 10.0 |\n",
              "| bord_disp_dist       |  32 | 962 |  3.3 |\n",
              "| ill_res_use_dist     |  32 | 962 |  3.3 |\n",
              "| piracy_dist          |  31 | 962 |  3.2 |\n",
              "| clim_chang           |  23 | 962 |  2.4 |\n",
              "| food_insec_dist      |  22 | 962 |  2.3 |\n",
              "| poor_res_no_hum_dist |  16 | 962 |  1.7 |\n",
              "| marit_crime_dist     |  14 | 962 |  1.5 |\n",
              "| soc_eco_ineq         |  12 | 962 |  1.2 |\n",
              "| pol_insta_dist       |  11 | 962 |  1.1 |\n",
              "| pop_inc              |  10 | 962 |  1.0 |\n",
              "| ethnic_div_dist      |   7 | 962 |  0.7 |\n",
              "| cons_dem             |   7 | 962 |  0.7 |\n",
              "\n"
            ],
            "text/plain": [
              "   var                  count total percent\n",
              "1  inad_gov_dist        309   962   32.1   \n",
              "2  iuu_fish_dist        297   962   30.9   \n",
              "3  poor_res_hum_dist    268   962   27.9   \n",
              "4  poverty               96   962   10.0   \n",
              "5  bord_disp_dist        32   962    3.3   \n",
              "6  ill_res_use_dist      32   962    3.3   \n",
              "7  piracy_dist           31   962    3.2   \n",
              "8  clim_chang            23   962    2.4   \n",
              "9  food_insec_dist       22   962    2.3   \n",
              "10 poor_res_no_hum_dist  16   962    1.7   \n",
              "11 marit_crime_dist      14   962    1.5   \n",
              "12 soc_eco_ineq          12   962    1.2   \n",
              "13 pol_insta_dist        11   962    1.1   \n",
              "14 pop_inc               10   962    1.0   \n",
              "15 ethnic_div_dist        7   962    0.7   \n",
              "16 cons_dem               7   962    0.7   "
            ]
          },
          "metadata": {},
          "output_type": "display_data"
        }
      ],
      "source": [
        "foo <- data %>%\n",
        "    filter(!(piracy == 1 & total_conflict == 1)) %>%\n",
        "    select(all_of(dist_driver_type)) %>%\n",
        "    reframe(var = dist_driver_type, count = colSums(.), total = nrow(.)) %>%\n",
        "    mutate(percent = count/total * 100) %>%\n",
        "    arrange(desc(count))\n",
        "foo$percent <- round(foo$percent, 1)\n",
        "foo"
      ]
    },
    {
      "cell_type": "markdown",
      "metadata": {
        "id": "d573jjqQuKXE"
      },
      "source": [
        "Bar chart"
      ]
    },
    {
      "cell_type": "code",
      "execution_count": null,
      "metadata": {
        "id": "gEpLWF4KsDQN",
        "vscode": {
          "languageId": "r"
        }
      },
      "outputs": [],
      "source": [
        "p <- ggplot(foo, aes(x = reorder(var, percent), y = percent)) +\n",
        "  geom_bar(stat = \"identity\", color = \"black\") +\n",
        "  ylim(0, 33) +\n",
        "  coord_flip() +\n",
        "  labs(y = \"Involvement (%)\", x = NULL) +\n",
        "  theme_minimal()\n",
        "\n",
        "ggsave(\"distal_driver.pdf\", p, width = 8, height = 6, units = \"in\")"
      ]
    },
    {
      "cell_type": "markdown",
      "metadata": {
        "id": "mey5QK9tt2F5"
      },
      "source": [
        "Spider chart"
      ]
    },
    {
      "cell_type": "code",
      "execution_count": null,
      "metadata": {
        "colab": {
          "base_uri": "https://localhost:8080/",
          "height": 593
        },
        "id": "t88clS_ytxcs",
        "outputId": "31bab0e9-da66-47aa-db2e-6edf25a332f5",
        "vscode": {
          "languageId": "r"
        }
      },
      "outputs": [
        {
          "data": {
            "text/html": [
              "<table class=\"dataframe\">\n",
              "<caption>A data.frame: 16 × 6</caption>\n",
              "<thead>\n",
              "\t<tr><th></th><th scope=col>access_space</th><th scope=col>use_space</th><th scope=col>access_res</th><th scope=col>use_res</th><th scope=col>benef_dist_type</th><th scope=col>piracy</th></tr>\n",
              "\t<tr><th></th><th scope=col>&lt;dbl&gt;</th><th scope=col>&lt;dbl&gt;</th><th scope=col>&lt;dbl&gt;</th><th scope=col>&lt;dbl&gt;</th><th scope=col>&lt;dbl&gt;</th><th scope=col>&lt;dbl&gt;</th></tr>\n",
              "</thead>\n",
              "<tbody>\n",
              "\t<tr><th scope=row>poverty</th><td>0.120614035</td><td>0.07253886</td><td>0.120567376</td><td>0.147186147</td><td>0.246268657</td><td>0.2352941</td></tr>\n",
              "\t<tr><th scope=row>soc_eco_ineq</th><td>0.002192982</td><td>0.02072539</td><td>0.009456265</td><td>0.004329004</td><td>0.037313433</td><td>0.1176471</td></tr>\n",
              "\t<tr><th scope=row>food_insec_dist</th><td>0.028508772</td><td>0.01036269</td><td>0.033096927</td><td>0.025974026</td><td>0.052238806</td><td>0.0000000</td></tr>\n",
              "\t<tr><th scope=row>clim_chang</th><td>0.021929825</td><td>0.07253886</td><td>0.009456265</td><td>0.038961039</td><td>0.014925373</td><td>0.0000000</td></tr>\n",
              "\t<tr><th scope=row>bord_disp_dist</th><td>0.067982456</td><td>0.01036269</td><td>0.014184397</td><td>0.000000000</td><td>0.000000000</td><td>0.0000000</td></tr>\n",
              "\t<tr><th scope=row>ethnic_div_dist</th><td>0.002192982</td><td>0.01036269</td><td>0.009456265</td><td>0.004329004</td><td>0.029850746</td><td>0.0000000</td></tr>\n",
              "\t<tr><th scope=row>cons_dem</th><td>0.004385965</td><td>0.01554404</td><td>0.011820331</td><td>0.008658009</td><td>0.000000000</td><td>0.0000000</td></tr>\n",
              "\t<tr><th scope=row>pop_inc</th><td>0.004385965</td><td>0.02590674</td><td>0.009456265</td><td>0.008658009</td><td>0.022388060</td><td>0.0000000</td></tr>\n",
              "\t<tr><th scope=row>inad_gov_dist</th><td>0.339912281</td><td>0.36787565</td><td>0.387706856</td><td>0.354978355</td><td>0.574626866</td><td>0.5882353</td></tr>\n",
              "\t<tr><th scope=row>pol_insta_dist</th><td>0.017543860</td><td>0.01036269</td><td>0.014184397</td><td>0.030303030</td><td>0.037313433</td><td>0.1764706</td></tr>\n",
              "\t<tr><th scope=row>poor_res_hum_dist</th><td>0.241228070</td><td>0.40932642</td><td>0.340425532</td><td>0.450216450</td><td>0.358208955</td><td>0.4117647</td></tr>\n",
              "\t<tr><th scope=row>poor_res_no_hum_dist</th><td>0.013157895</td><td>0.03108808</td><td>0.018912530</td><td>0.025974026</td><td>0.007462687</td><td>0.0000000</td></tr>\n",
              "\t<tr><th scope=row>marit_crime_dist</th><td>0.015350877</td><td>0.03108808</td><td>0.014184397</td><td>0.008658009</td><td>0.014925373</td><td>0.1176471</td></tr>\n",
              "\t<tr><th scope=row>ill_res_use_dist</th><td>0.010964912</td><td>0.05699482</td><td>0.047281324</td><td>0.051948052</td><td>0.022388060</td><td>0.0000000</td></tr>\n",
              "\t<tr><th scope=row>iuu_fish_dist</th><td>0.379385965</td><td>0.07772021</td><td>0.442080378</td><td>0.545454545</td><td>0.238805970</td><td>0.4117647</td></tr>\n",
              "\t<tr><th scope=row>piracy_dist</th><td>0.028508772</td><td>0.00000000</td><td>0.030732861</td><td>0.021645022</td><td>0.059701493</td><td>0.8235294</td></tr>\n",
              "</tbody>\n",
              "</table>\n"
            ],
            "text/latex": [
              "A data.frame: 16 × 6\n",
              "\\begin{tabular}{r|llllll}\n",
              "  & access\\_space & use\\_space & access\\_res & use\\_res & benef\\_dist\\_type & piracy\\\\\n",
              "  & <dbl> & <dbl> & <dbl> & <dbl> & <dbl> & <dbl>\\\\\n",
              "\\hline\n",
              "\tpoverty & 0.120614035 & 0.07253886 & 0.120567376 & 0.147186147 & 0.246268657 & 0.2352941\\\\\n",
              "\tsoc\\_eco\\_ineq & 0.002192982 & 0.02072539 & 0.009456265 & 0.004329004 & 0.037313433 & 0.1176471\\\\\n",
              "\tfood\\_insec\\_dist & 0.028508772 & 0.01036269 & 0.033096927 & 0.025974026 & 0.052238806 & 0.0000000\\\\\n",
              "\tclim\\_chang & 0.021929825 & 0.07253886 & 0.009456265 & 0.038961039 & 0.014925373 & 0.0000000\\\\\n",
              "\tbord\\_disp\\_dist & 0.067982456 & 0.01036269 & 0.014184397 & 0.000000000 & 0.000000000 & 0.0000000\\\\\n",
              "\tethnic\\_div\\_dist & 0.002192982 & 0.01036269 & 0.009456265 & 0.004329004 & 0.029850746 & 0.0000000\\\\\n",
              "\tcons\\_dem & 0.004385965 & 0.01554404 & 0.011820331 & 0.008658009 & 0.000000000 & 0.0000000\\\\\n",
              "\tpop\\_inc & 0.004385965 & 0.02590674 & 0.009456265 & 0.008658009 & 0.022388060 & 0.0000000\\\\\n",
              "\tinad\\_gov\\_dist & 0.339912281 & 0.36787565 & 0.387706856 & 0.354978355 & 0.574626866 & 0.5882353\\\\\n",
              "\tpol\\_insta\\_dist & 0.017543860 & 0.01036269 & 0.014184397 & 0.030303030 & 0.037313433 & 0.1764706\\\\\n",
              "\tpoor\\_res\\_hum\\_dist & 0.241228070 & 0.40932642 & 0.340425532 & 0.450216450 & 0.358208955 & 0.4117647\\\\\n",
              "\tpoor\\_res\\_no\\_hum\\_dist & 0.013157895 & 0.03108808 & 0.018912530 & 0.025974026 & 0.007462687 & 0.0000000\\\\\n",
              "\tmarit\\_crime\\_dist & 0.015350877 & 0.03108808 & 0.014184397 & 0.008658009 & 0.014925373 & 0.1176471\\\\\n",
              "\till\\_res\\_use\\_dist & 0.010964912 & 0.05699482 & 0.047281324 & 0.051948052 & 0.022388060 & 0.0000000\\\\\n",
              "\tiuu\\_fish\\_dist & 0.379385965 & 0.07772021 & 0.442080378 & 0.545454545 & 0.238805970 & 0.4117647\\\\\n",
              "\tpiracy\\_dist & 0.028508772 & 0.00000000 & 0.030732861 & 0.021645022 & 0.059701493 & 0.8235294\\\\\n",
              "\\end{tabular}\n"
            ],
            "text/markdown": [
              "\n",
              "A data.frame: 16 × 6\n",
              "\n",
              "| <!--/--> | access_space &lt;dbl&gt; | use_space &lt;dbl&gt; | access_res &lt;dbl&gt; | use_res &lt;dbl&gt; | benef_dist_type &lt;dbl&gt; | piracy &lt;dbl&gt; |\n",
              "|---|---|---|---|---|---|---|\n",
              "| poverty | 0.120614035 | 0.07253886 | 0.120567376 | 0.147186147 | 0.246268657 | 0.2352941 |\n",
              "| soc_eco_ineq | 0.002192982 | 0.02072539 | 0.009456265 | 0.004329004 | 0.037313433 | 0.1176471 |\n",
              "| food_insec_dist | 0.028508772 | 0.01036269 | 0.033096927 | 0.025974026 | 0.052238806 | 0.0000000 |\n",
              "| clim_chang | 0.021929825 | 0.07253886 | 0.009456265 | 0.038961039 | 0.014925373 | 0.0000000 |\n",
              "| bord_disp_dist | 0.067982456 | 0.01036269 | 0.014184397 | 0.000000000 | 0.000000000 | 0.0000000 |\n",
              "| ethnic_div_dist | 0.002192982 | 0.01036269 | 0.009456265 | 0.004329004 | 0.029850746 | 0.0000000 |\n",
              "| cons_dem | 0.004385965 | 0.01554404 | 0.011820331 | 0.008658009 | 0.000000000 | 0.0000000 |\n",
              "| pop_inc | 0.004385965 | 0.02590674 | 0.009456265 | 0.008658009 | 0.022388060 | 0.0000000 |\n",
              "| inad_gov_dist | 0.339912281 | 0.36787565 | 0.387706856 | 0.354978355 | 0.574626866 | 0.5882353 |\n",
              "| pol_insta_dist | 0.017543860 | 0.01036269 | 0.014184397 | 0.030303030 | 0.037313433 | 0.1764706 |\n",
              "| poor_res_hum_dist | 0.241228070 | 0.40932642 | 0.340425532 | 0.450216450 | 0.358208955 | 0.4117647 |\n",
              "| poor_res_no_hum_dist | 0.013157895 | 0.03108808 | 0.018912530 | 0.025974026 | 0.007462687 | 0.0000000 |\n",
              "| marit_crime_dist | 0.015350877 | 0.03108808 | 0.014184397 | 0.008658009 | 0.014925373 | 0.1176471 |\n",
              "| ill_res_use_dist | 0.010964912 | 0.05699482 | 0.047281324 | 0.051948052 | 0.022388060 | 0.0000000 |\n",
              "| iuu_fish_dist | 0.379385965 | 0.07772021 | 0.442080378 | 0.545454545 | 0.238805970 | 0.4117647 |\n",
              "| piracy_dist | 0.028508772 | 0.00000000 | 0.030732861 | 0.021645022 | 0.059701493 | 0.8235294 |\n",
              "\n"
            ],
            "text/plain": [
              "                     access_space use_space  access_res  use_res    \n",
              "poverty              0.120614035  0.07253886 0.120567376 0.147186147\n",
              "soc_eco_ineq         0.002192982  0.02072539 0.009456265 0.004329004\n",
              "food_insec_dist      0.028508772  0.01036269 0.033096927 0.025974026\n",
              "clim_chang           0.021929825  0.07253886 0.009456265 0.038961039\n",
              "bord_disp_dist       0.067982456  0.01036269 0.014184397 0.000000000\n",
              "ethnic_div_dist      0.002192982  0.01036269 0.009456265 0.004329004\n",
              "cons_dem             0.004385965  0.01554404 0.011820331 0.008658009\n",
              "pop_inc              0.004385965  0.02590674 0.009456265 0.008658009\n",
              "inad_gov_dist        0.339912281  0.36787565 0.387706856 0.354978355\n",
              "pol_insta_dist       0.017543860  0.01036269 0.014184397 0.030303030\n",
              "poor_res_hum_dist    0.241228070  0.40932642 0.340425532 0.450216450\n",
              "poor_res_no_hum_dist 0.013157895  0.03108808 0.018912530 0.025974026\n",
              "marit_crime_dist     0.015350877  0.03108808 0.014184397 0.008658009\n",
              "ill_res_use_dist     0.010964912  0.05699482 0.047281324 0.051948052\n",
              "iuu_fish_dist        0.379385965  0.07772021 0.442080378 0.545454545\n",
              "piracy_dist          0.028508772  0.00000000 0.030732861 0.021645022\n",
              "                     benef_dist_type piracy   \n",
              "poverty              0.246268657     0.2352941\n",
              "soc_eco_ineq         0.037313433     0.1176471\n",
              "food_insec_dist      0.052238806     0.0000000\n",
              "clim_chang           0.014925373     0.0000000\n",
              "bord_disp_dist       0.000000000     0.0000000\n",
              "ethnic_div_dist      0.029850746     0.0000000\n",
              "cons_dem             0.000000000     0.0000000\n",
              "pop_inc              0.022388060     0.0000000\n",
              "inad_gov_dist        0.574626866     0.5882353\n",
              "pol_insta_dist       0.037313433     0.1764706\n",
              "poor_res_hum_dist    0.358208955     0.4117647\n",
              "poor_res_no_hum_dist 0.007462687     0.0000000\n",
              "marit_crime_dist     0.014925373     0.1176471\n",
              "ill_res_use_dist     0.022388060     0.0000000\n",
              "iuu_fish_dist        0.238805970     0.4117647\n",
              "piracy_dist          0.059701493     0.8235294"
            ]
          },
          "metadata": {},
          "output_type": "display_data"
        }
      ],
      "source": [
        "# total number of conflict by conflict types\n",
        "total <- data %>%\n",
        "    filter(!(piracy == 1 & total_conflict == 1)) %>%\n",
        "    select(all_of(conflict_type))\n",
        "\n",
        "\n",
        "# driver by confict types\n",
        "df_list <- map(conflict_type, ~ data %>%\n",
        "    filter(!(piracy == 1 & total_conflict == 1)) %>%\n",
        "    filter(.data[[.x]] == 1) %>%\n",
        "    select(all_of(dist_driver_type)) %>%\n",
        "    mutate_all(as.numeric) %>%\n",
        "    reframe(var = dist_driver_type, count = colSums(.)))\n",
        "\n",
        "\n",
        "df <- reduce(df_list, full_join, by = 'var')\n",
        "\n",
        "df <- as.data.frame(df)\n",
        "rownames(df) <- dist_driver_type\n",
        "df <- df %>% select(-var)\n",
        "colnames(df) <- conflict_type\n",
        "\n",
        "\n",
        "df <- sweep(df, 2, colSums(total), `/`)\n",
        "df"
      ]
    },
    {
      "cell_type": "code",
      "execution_count": null,
      "metadata": {
        "colab": {
          "base_uri": "https://localhost:8080/",
          "height": 34
        },
        "id": "QLNIAJbitxcv",
        "outputId": "52a5a9cb-500b-4260-c482-4056acbf664e",
        "vscode": {
          "languageId": "r"
        }
      },
      "outputs": [
        {
          "data": {
            "text/html": [
              "<strong>png:</strong> 2"
            ],
            "text/latex": [
              "\\textbf{png:} 2"
            ],
            "text/markdown": [
              "**png:** 2"
            ],
            "text/plain": [
              "png \n",
              "  2 "
            ]
          },
          "metadata": {},
          "output_type": "display_data"
        }
      ],
      "source": [
        "# drivers of interest\n",
        "foo <- df[c('inad_gov_dist', 'iuu_fish_dist', 'poor_res_hum_dist', 'poverty'),]\n",
        "\n",
        "\n",
        "# add min and max\n",
        "foo <- rbind(rep(0, 6), foo)\n",
        "foo <- rbind(rep(1, 6), foo)\n",
        "\n",
        "foo <- foo * 100\n",
        "\n",
        "# color\n",
        "mycol = c('red', 'blue', 'orange', 'purple')\n",
        "\n",
        "create_beautiful_radarchart <- function(data, color = \"#00AFBB\",\n",
        "                                        vlabels = colnames(data), vlcex = 0.7,\n",
        "                                        caxislabels = NULL, title = NULL, ...){\n",
        "  radarchart(\n",
        "    data, axistype = 1,\n",
        "    # Customize the polygon\n",
        "    pcol = color, plwd = 2, plty = 1,\n",
        "    # Customize the grid\n",
        "    cglcol = \"grey\", cglty = 1, cglwd = 0.8,\n",
        "    # Customize the axis\n",
        "    axislabcol = \"grey\",\n",
        "    # Variable labels\n",
        "    vlcex = vlcex, vlabels = vlabels,\n",
        "    caxislabels = caxislabels, title = title, ...\n",
        "  )\n",
        "}\n",
        "\n",
        "\n",
        "pdf(\"dist_driver_radar_chart.pdf\", width = 8, height = 8)\n",
        "\n",
        "# Reduce plot margin using par()\n",
        "op <- par(mar = c(1, 2, 2, 2))\n",
        "# Create the radar charts\n",
        "create_beautiful_radarchart(\n",
        "  data = foo,\n",
        "  color = mycol\n",
        ")\n",
        "# Add an horizontal legend\n",
        "legend(\n",
        "  x = \"bottom\", legend = rownames(foo[-c(1,2),]), horiz = TRUE,\n",
        "  bty = \"n\", pch = 20 , col = mycol,\n",
        "  text.col = \"black\", cex = 1, pt.cex = 1.5\n",
        "  )\n",
        "\n",
        "par(op)\n",
        "\n",
        "dev.off()"
      ]
    },
    {
      "cell_type": "markdown",
      "metadata": {
        "id": "8w_DdE_6C7LJ"
      },
      "source": [
        "Table S5 - Distal drivers to the main proximate drivers"
      ]
    },
    {
      "cell_type": "code",
      "execution_count": null,
      "metadata": {
        "colab": {
          "base_uri": "https://localhost:8080/",
          "height": 593
        },
        "id": "bdbwc93NDZmC",
        "outputId": "343e0ed8-77f5-4144-a82d-03dbd82466c9",
        "vscode": {
          "languageId": "r"
        }
      },
      "outputs": [
        {
          "data": {
            "text/html": [
              "<table class=\"dataframe\">\n",
              "<caption>A data.frame: 16 × 5</caption>\n",
              "<thead>\n",
              "\t<tr><th></th><th scope=col>iuu_fish_prox</th><th scope=col>benef_dist_driv</th><th scope=col>piracy_prox</th><th scope=col>lack_reg_prox</th><th scope=col>res_cond_hum_prox</th></tr>\n",
              "\t<tr><th></th><th scope=col>&lt;dbl&gt;</th><th scope=col>&lt;dbl&gt;</th><th scope=col>&lt;dbl&gt;</th><th scope=col>&lt;dbl&gt;</th><th scope=col>&lt;dbl&gt;</th></tr>\n",
              "</thead>\n",
              "<tbody>\n",
              "\t<tr><th scope=row>poverty</th><td> 5.9</td><td>19.4</td><td> 0.0</td><td>17</td><td>11.9</td></tr>\n",
              "\t<tr><th scope=row>soc_eco_ineq</th><td> 0.0</td><td> 3.0</td><td> 0.0</td><td> 0</td><td> 0.0</td></tr>\n",
              "\t<tr><th scope=row>food_insec_dist</th><td> 1.0</td><td> 6.5</td><td> 0.0</td><td> 2</td><td> 3.6</td></tr>\n",
              "\t<tr><th scope=row>clim_chang</th><td> 1.0</td><td> 1.5</td><td> 0.0</td><td> 1</td><td> 6.0</td></tr>\n",
              "\t<tr><th scope=row>bord_disp_dist</th><td> 1.3</td><td> 4.5</td><td> 0.0</td><td> 0</td><td> 0.0</td></tr>\n",
              "\t<tr><th scope=row>ethnic_div_dist</th><td> 1.0</td><td> 2.5</td><td> 0.0</td><td> 3</td><td> 0.0</td></tr>\n",
              "\t<tr><th scope=row>cons_dem</th><td> 0.0</td><td> 0.0</td><td> 0.0</td><td> 0</td><td> 2.4</td></tr>\n",
              "\t<tr><th scope=row>pop_inc</th><td> 0.0</td><td> 1.0</td><td> 0.0</td><td> 0</td><td> 2.4</td></tr>\n",
              "\t<tr><th scope=row>inad_gov_dist</th><td>17.8</td><td>46.3</td><td>14.3</td><td>28</td><td>29.8</td></tr>\n",
              "\t<tr><th scope=row>pol_insta_dist</th><td> 0.3</td><td> 1.5</td><td> 0.0</td><td> 0</td><td> 0.0</td></tr>\n",
              "\t<tr><th scope=row>poor_res_hum_dist</th><td>15.8</td><td>32.8</td><td> 0.0</td><td>21</td><td>46.4</td></tr>\n",
              "\t<tr><th scope=row>poor_res_no_hum_dist</th><td> 0.7</td><td> 0.0</td><td> 0.0</td><td> 2</td><td> 3.6</td></tr>\n",
              "\t<tr><th scope=row>marit_crime_dist</th><td> 1.0</td><td> 1.0</td><td> 0.0</td><td> 0</td><td> 2.4</td></tr>\n",
              "\t<tr><th scope=row>ill_res_use_dist</th><td> 0.7</td><td> 1.0</td><td> 0.0</td><td> 1</td><td> 4.8</td></tr>\n",
              "\t<tr><th scope=row>iuu_fish_dist</th><td>62.0</td><td>19.9</td><td>14.3</td><td> 8</td><td> 3.6</td></tr>\n",
              "\t<tr><th scope=row>piracy_dist</th><td> 0.7</td><td> 2.0</td><td>71.4</td><td> 0</td><td> 1.2</td></tr>\n",
              "</tbody>\n",
              "</table>\n"
            ],
            "text/latex": [
              "A data.frame: 16 × 5\n",
              "\\begin{tabular}{r|lllll}\n",
              "  & iuu\\_fish\\_prox & benef\\_dist\\_driv & piracy\\_prox & lack\\_reg\\_prox & res\\_cond\\_hum\\_prox\\\\\n",
              "  & <dbl> & <dbl> & <dbl> & <dbl> & <dbl>\\\\\n",
              "\\hline\n",
              "\tpoverty &  5.9 & 19.4 &  0.0 & 17 & 11.9\\\\\n",
              "\tsoc\\_eco\\_ineq &  0.0 &  3.0 &  0.0 &  0 &  0.0\\\\\n",
              "\tfood\\_insec\\_dist &  1.0 &  6.5 &  0.0 &  2 &  3.6\\\\\n",
              "\tclim\\_chang &  1.0 &  1.5 &  0.0 &  1 &  6.0\\\\\n",
              "\tbord\\_disp\\_dist &  1.3 &  4.5 &  0.0 &  0 &  0.0\\\\\n",
              "\tethnic\\_div\\_dist &  1.0 &  2.5 &  0.0 &  3 &  0.0\\\\\n",
              "\tcons\\_dem &  0.0 &  0.0 &  0.0 &  0 &  2.4\\\\\n",
              "\tpop\\_inc &  0.0 &  1.0 &  0.0 &  0 &  2.4\\\\\n",
              "\tinad\\_gov\\_dist & 17.8 & 46.3 & 14.3 & 28 & 29.8\\\\\n",
              "\tpol\\_insta\\_dist &  0.3 &  1.5 &  0.0 &  0 &  0.0\\\\\n",
              "\tpoor\\_res\\_hum\\_dist & 15.8 & 32.8 &  0.0 & 21 & 46.4\\\\\n",
              "\tpoor\\_res\\_no\\_hum\\_dist &  0.7 &  0.0 &  0.0 &  2 &  3.6\\\\\n",
              "\tmarit\\_crime\\_dist &  1.0 &  1.0 &  0.0 &  0 &  2.4\\\\\n",
              "\till\\_res\\_use\\_dist &  0.7 &  1.0 &  0.0 &  1 &  4.8\\\\\n",
              "\tiuu\\_fish\\_dist & 62.0 & 19.9 & 14.3 &  8 &  3.6\\\\\n",
              "\tpiracy\\_dist &  0.7 &  2.0 & 71.4 &  0 &  1.2\\\\\n",
              "\\end{tabular}\n"
            ],
            "text/markdown": [
              "\n",
              "A data.frame: 16 × 5\n",
              "\n",
              "| <!--/--> | iuu_fish_prox &lt;dbl&gt; | benef_dist_driv &lt;dbl&gt; | piracy_prox &lt;dbl&gt; | lack_reg_prox &lt;dbl&gt; | res_cond_hum_prox &lt;dbl&gt; |\n",
              "|---|---|---|---|---|---|\n",
              "| poverty |  5.9 | 19.4 |  0.0 | 17 | 11.9 |\n",
              "| soc_eco_ineq |  0.0 |  3.0 |  0.0 |  0 |  0.0 |\n",
              "| food_insec_dist |  1.0 |  6.5 |  0.0 |  2 |  3.6 |\n",
              "| clim_chang |  1.0 |  1.5 |  0.0 |  1 |  6.0 |\n",
              "| bord_disp_dist |  1.3 |  4.5 |  0.0 |  0 |  0.0 |\n",
              "| ethnic_div_dist |  1.0 |  2.5 |  0.0 |  3 |  0.0 |\n",
              "| cons_dem |  0.0 |  0.0 |  0.0 |  0 |  2.4 |\n",
              "| pop_inc |  0.0 |  1.0 |  0.0 |  0 |  2.4 |\n",
              "| inad_gov_dist | 17.8 | 46.3 | 14.3 | 28 | 29.8 |\n",
              "| pol_insta_dist |  0.3 |  1.5 |  0.0 |  0 |  0.0 |\n",
              "| poor_res_hum_dist | 15.8 | 32.8 |  0.0 | 21 | 46.4 |\n",
              "| poor_res_no_hum_dist |  0.7 |  0.0 |  0.0 |  2 |  3.6 |\n",
              "| marit_crime_dist |  1.0 |  1.0 |  0.0 |  0 |  2.4 |\n",
              "| ill_res_use_dist |  0.7 |  1.0 |  0.0 |  1 |  4.8 |\n",
              "| iuu_fish_dist | 62.0 | 19.9 | 14.3 |  8 |  3.6 |\n",
              "| piracy_dist |  0.7 |  2.0 | 71.4 |  0 |  1.2 |\n",
              "\n"
            ],
            "text/plain": [
              "                     iuu_fish_prox benef_dist_driv piracy_prox lack_reg_prox\n",
              "poverty               5.9          19.4             0.0        17           \n",
              "soc_eco_ineq          0.0           3.0             0.0         0           \n",
              "food_insec_dist       1.0           6.5             0.0         2           \n",
              "clim_chang            1.0           1.5             0.0         1           \n",
              "bord_disp_dist        1.3           4.5             0.0         0           \n",
              "ethnic_div_dist       1.0           2.5             0.0         3           \n",
              "cons_dem              0.0           0.0             0.0         0           \n",
              "pop_inc               0.0           1.0             0.0         0           \n",
              "inad_gov_dist        17.8          46.3            14.3        28           \n",
              "pol_insta_dist        0.3           1.5             0.0         0           \n",
              "poor_res_hum_dist    15.8          32.8             0.0        21           \n",
              "poor_res_no_hum_dist  0.7           0.0             0.0         2           \n",
              "marit_crime_dist      1.0           1.0             0.0         0           \n",
              "ill_res_use_dist      0.7           1.0             0.0         1           \n",
              "iuu_fish_dist        62.0          19.9            14.3         8           \n",
              "piracy_dist           0.7           2.0            71.4         0           \n",
              "                     res_cond_hum_prox\n",
              "poverty              11.9             \n",
              "soc_eco_ineq          0.0             \n",
              "food_insec_dist       3.6             \n",
              "clim_chang            6.0             \n",
              "bord_disp_dist        0.0             \n",
              "ethnic_div_dist       0.0             \n",
              "cons_dem              2.4             \n",
              "pop_inc               2.4             \n",
              "inad_gov_dist        29.8             \n",
              "pol_insta_dist        0.0             \n",
              "poor_res_hum_dist    46.4             \n",
              "poor_res_no_hum_dist  3.6             \n",
              "marit_crime_dist      2.4             \n",
              "ill_res_use_dist      4.8             \n",
              "iuu_fish_dist         3.6             \n",
              "piracy_dist           1.2             "
            ]
          },
          "metadata": {},
          "output_type": "display_data"
        }
      ],
      "source": [
        "prox_driver_type_main <- c('iuu_fish_prox', 'benef_dist_driv', 'piracy_prox', 'lack_reg_prox', 'res_cond_hum_prox')\n",
        "\n",
        "total <- data %>%\n",
        "    filter(!(piracy == 1 & total_conflict == 1)) %>%\n",
        "    select(all_of(prox_driver_type_main))\n",
        "\n",
        "df_list <- map(prox_driver_type_main, ~ data %>%\n",
        "    filter(!(piracy == 1 & total_conflict == 1)) %>%\n",
        "    filter(.data[[.x]] == 1) %>%\n",
        "    select(all_of(dist_driver_type)) %>%\n",
        "    mutate_all(as.numeric) %>%\n",
        "    reframe(var = dist_driver_type, count = colSums(.)))\n",
        "\n",
        "\n",
        "df <- reduce(df_list, full_join, by = 'var')\n",
        "\n",
        "df <- as.data.frame(df)\n",
        "rownames(df) <- dist_driver_type\n",
        "df <- df %>% select(-var)\n",
        "colnames(df) <- prox_driver_type_main\n",
        "\n",
        "\n",
        "df <- sweep(df, 2, colSums(total), `/`)\n",
        "df <- round(df * 100, 1)\n",
        "df"
      ]
    },
    {
      "cell_type": "markdown",
      "metadata": {
        "id": "OVlXYL226fBk"
      },
      "source": [
        "IUU fishing as proximate driver vs. distal drivers"
      ]
    },
    {
      "cell_type": "code",
      "execution_count": null,
      "metadata": {
        "colab": {
          "base_uri": "https://localhost:8080/",
          "height": 593
        },
        "id": "HW03-m2lvgA8",
        "outputId": "5243290f-9eae-4cc9-834b-3bf15d5e94f4",
        "vscode": {
          "languageId": "r"
        }
      },
      "outputs": [
        {
          "data": {
            "text/html": [
              "<table class=\"dataframe\">\n",
              "<caption>A tibble: 16 × 3</caption>\n",
              "<thead>\n",
              "\t<tr><th scope=col>var</th><th scope=col>count</th><th scope=col>prop</th></tr>\n",
              "\t<tr><th scope=col>&lt;chr&gt;</th><th scope=col>&lt;dbl&gt;</th><th scope=col>&lt;dbl&gt;</th></tr>\n",
              "</thead>\n",
              "<tbody>\n",
              "\t<tr><td>iuu_fish_dist       </td><td>188</td><td>0.62046205</td></tr>\n",
              "\t<tr><td>inad_gov_dist       </td><td> 54</td><td>0.17821782</td></tr>\n",
              "\t<tr><td>poor_res_hum_dist   </td><td> 48</td><td>0.15841584</td></tr>\n",
              "\t<tr><td>poverty             </td><td> 18</td><td>0.05940594</td></tr>\n",
              "\t<tr><td>bord_disp_dist      </td><td>  4</td><td>0.01320132</td></tr>\n",
              "\t<tr><td>food_insec_dist     </td><td>  3</td><td>0.00990099</td></tr>\n",
              "\t<tr><td>clim_chang          </td><td>  3</td><td>0.00990099</td></tr>\n",
              "\t<tr><td>ethnic_div_dist     </td><td>  3</td><td>0.00990099</td></tr>\n",
              "\t<tr><td>marit_crime_dist    </td><td>  3</td><td>0.00990099</td></tr>\n",
              "\t<tr><td>poor_res_no_hum_dist</td><td>  2</td><td>0.00660066</td></tr>\n",
              "\t<tr><td>ill_res_use_dist    </td><td>  2</td><td>0.00660066</td></tr>\n",
              "\t<tr><td>piracy_dist         </td><td>  2</td><td>0.00660066</td></tr>\n",
              "\t<tr><td>pol_insta_dist      </td><td>  1</td><td>0.00330033</td></tr>\n",
              "\t<tr><td>soc_eco_ineq        </td><td>  0</td><td>0.00000000</td></tr>\n",
              "\t<tr><td>cons_dem            </td><td>  0</td><td>0.00000000</td></tr>\n",
              "\t<tr><td>pop_inc             </td><td>  0</td><td>0.00000000</td></tr>\n",
              "</tbody>\n",
              "</table>\n"
            ],
            "text/latex": [
              "A tibble: 16 × 3\n",
              "\\begin{tabular}{lll}\n",
              " var & count & prop\\\\\n",
              " <chr> & <dbl> & <dbl>\\\\\n",
              "\\hline\n",
              "\t iuu\\_fish\\_dist        & 188 & 0.62046205\\\\\n",
              "\t inad\\_gov\\_dist        &  54 & 0.17821782\\\\\n",
              "\t poor\\_res\\_hum\\_dist    &  48 & 0.15841584\\\\\n",
              "\t poverty              &  18 & 0.05940594\\\\\n",
              "\t bord\\_disp\\_dist       &   4 & 0.01320132\\\\\n",
              "\t food\\_insec\\_dist      &   3 & 0.00990099\\\\\n",
              "\t clim\\_chang           &   3 & 0.00990099\\\\\n",
              "\t ethnic\\_div\\_dist      &   3 & 0.00990099\\\\\n",
              "\t marit\\_crime\\_dist     &   3 & 0.00990099\\\\\n",
              "\t poor\\_res\\_no\\_hum\\_dist &   2 & 0.00660066\\\\\n",
              "\t ill\\_res\\_use\\_dist     &   2 & 0.00660066\\\\\n",
              "\t piracy\\_dist          &   2 & 0.00660066\\\\\n",
              "\t pol\\_insta\\_dist       &   1 & 0.00330033\\\\\n",
              "\t soc\\_eco\\_ineq         &   0 & 0.00000000\\\\\n",
              "\t cons\\_dem             &   0 & 0.00000000\\\\\n",
              "\t pop\\_inc              &   0 & 0.00000000\\\\\n",
              "\\end{tabular}\n"
            ],
            "text/markdown": [
              "\n",
              "A tibble: 16 × 3\n",
              "\n",
              "| var &lt;chr&gt; | count &lt;dbl&gt; | prop &lt;dbl&gt; |\n",
              "|---|---|---|\n",
              "| iuu_fish_dist        | 188 | 0.62046205 |\n",
              "| inad_gov_dist        |  54 | 0.17821782 |\n",
              "| poor_res_hum_dist    |  48 | 0.15841584 |\n",
              "| poverty              |  18 | 0.05940594 |\n",
              "| bord_disp_dist       |   4 | 0.01320132 |\n",
              "| food_insec_dist      |   3 | 0.00990099 |\n",
              "| clim_chang           |   3 | 0.00990099 |\n",
              "| ethnic_div_dist      |   3 | 0.00990099 |\n",
              "| marit_crime_dist     |   3 | 0.00990099 |\n",
              "| poor_res_no_hum_dist |   2 | 0.00660066 |\n",
              "| ill_res_use_dist     |   2 | 0.00660066 |\n",
              "| piracy_dist          |   2 | 0.00660066 |\n",
              "| pol_insta_dist       |   1 | 0.00330033 |\n",
              "| soc_eco_ineq         |   0 | 0.00000000 |\n",
              "| cons_dem             |   0 | 0.00000000 |\n",
              "| pop_inc              |   0 | 0.00000000 |\n",
              "\n"
            ],
            "text/plain": [
              "   var                  count prop      \n",
              "1  iuu_fish_dist        188   0.62046205\n",
              "2  inad_gov_dist         54   0.17821782\n",
              "3  poor_res_hum_dist     48   0.15841584\n",
              "4  poverty               18   0.05940594\n",
              "5  bord_disp_dist         4   0.01320132\n",
              "6  food_insec_dist        3   0.00990099\n",
              "7  clim_chang             3   0.00990099\n",
              "8  ethnic_div_dist        3   0.00990099\n",
              "9  marit_crime_dist       3   0.00990099\n",
              "10 poor_res_no_hum_dist   2   0.00660066\n",
              "11 ill_res_use_dist       2   0.00660066\n",
              "12 piracy_dist            2   0.00660066\n",
              "13 pol_insta_dist         1   0.00330033\n",
              "14 soc_eco_ineq           0   0.00000000\n",
              "15 cons_dem               0   0.00000000\n",
              "16 pop_inc                0   0.00000000"
            ]
          },
          "metadata": {},
          "output_type": "display_data"
        }
      ],
      "source": [
        "data %>%\n",
        "    filter(!(piracy == 1 & total_conflict == 1)) %>%\n",
        "    filter(iuu_fish_prox == 1) %>%\n",
        "    select(all_of(dist_driver_type)) %>%\n",
        "    reframe(var = dist_driver_type, count = colSums(.), prop = colSums(.)/nrow(.)) %>%\n",
        "    arrange(desc(count))"
      ]
    },
    {
      "cell_type": "markdown",
      "metadata": {
        "id": "uRcOhe5M9AFC"
      },
      "source": [
        "Conflict type vs. prox drivers"
      ]
    },
    {
      "cell_type": "code",
      "execution_count": null,
      "metadata": {
        "colab": {
          "base_uri": "https://localhost:8080/",
          "height": 531
        },
        "id": "HBaenKDt9K1P",
        "outputId": "14435b28-1dc3-4253-e64f-e7609bc83063",
        "vscode": {
          "languageId": "r"
        }
      },
      "outputs": [
        {
          "data": {
            "text/html": [
              "<table class=\"dataframe\">\n",
              "<caption>A tibble: 14 × 4</caption>\n",
              "<thead>\n",
              "\t<tr><th scope=col>var</th><th scope=col>count</th><th scope=col>total</th><th scope=col>prop</th></tr>\n",
              "\t<tr><th scope=col>&lt;chr&gt;</th><th scope=col>&lt;dbl&gt;</th><th scope=col>&lt;int&gt;</th><th scope=col>&lt;dbl&gt;</th></tr>\n",
              "</thead>\n",
              "<tbody>\n",
              "\t<tr><td>benef_dist_driv     </td><td>115</td><td>134</td><td>0.858208955</td></tr>\n",
              "\t<tr><td>lack_reg_prox       </td><td> 23</td><td>134</td><td>0.171641791</td></tr>\n",
              "\t<tr><td>plan_dev            </td><td> 18</td><td>134</td><td>0.134328358</td></tr>\n",
              "\t<tr><td>iuu_fish_prox       </td><td> 15</td><td>134</td><td>0.111940299</td></tr>\n",
              "\t<tr><td>inad_gov_prox       </td><td>  9</td><td>134</td><td>0.067164179</td></tr>\n",
              "\t<tr><td>res_cond_hum_prox   </td><td>  7</td><td>134</td><td>0.052238806</td></tr>\n",
              "\t<tr><td>ill_res_use_prox    </td><td>  3</td><td>134</td><td>0.022388060</td></tr>\n",
              "\t<tr><td>acut_food_short     </td><td>  2</td><td>134</td><td>0.014925373</td></tr>\n",
              "\t<tr><td>trad_v_new          </td><td>  1</td><td>134</td><td>0.007462687</td></tr>\n",
              "\t<tr><td>res_cond_nonhum_prox</td><td>  1</td><td>134</td><td>0.007462687</td></tr>\n",
              "\t<tr><td>nat_dis             </td><td>  0</td><td>134</td><td>0.000000000</td></tr>\n",
              "\t<tr><td>bord_disp_prox      </td><td>  0</td><td>134</td><td>0.000000000</td></tr>\n",
              "\t<tr><td>pol_insta_prox      </td><td>  0</td><td>134</td><td>0.000000000</td></tr>\n",
              "\t<tr><td>piracy_prox         </td><td>  0</td><td>134</td><td>0.000000000</td></tr>\n",
              "</tbody>\n",
              "</table>\n"
            ],
            "text/latex": [
              "A tibble: 14 × 4\n",
              "\\begin{tabular}{llll}\n",
              " var & count & total & prop\\\\\n",
              " <chr> & <dbl> & <int> & <dbl>\\\\\n",
              "\\hline\n",
              "\t benef\\_dist\\_driv      & 115 & 134 & 0.858208955\\\\\n",
              "\t lack\\_reg\\_prox        &  23 & 134 & 0.171641791\\\\\n",
              "\t plan\\_dev             &  18 & 134 & 0.134328358\\\\\n",
              "\t iuu\\_fish\\_prox        &  15 & 134 & 0.111940299\\\\\n",
              "\t inad\\_gov\\_prox        &   9 & 134 & 0.067164179\\\\\n",
              "\t res\\_cond\\_hum\\_prox    &   7 & 134 & 0.052238806\\\\\n",
              "\t ill\\_res\\_use\\_prox     &   3 & 134 & 0.022388060\\\\\n",
              "\t acut\\_food\\_short      &   2 & 134 & 0.014925373\\\\\n",
              "\t trad\\_v\\_new           &   1 & 134 & 0.007462687\\\\\n",
              "\t res\\_cond\\_nonhum\\_prox &   1 & 134 & 0.007462687\\\\\n",
              "\t nat\\_dis              &   0 & 134 & 0.000000000\\\\\n",
              "\t bord\\_disp\\_prox       &   0 & 134 & 0.000000000\\\\\n",
              "\t pol\\_insta\\_prox       &   0 & 134 & 0.000000000\\\\\n",
              "\t piracy\\_prox          &   0 & 134 & 0.000000000\\\\\n",
              "\\end{tabular}\n"
            ],
            "text/markdown": [
              "\n",
              "A tibble: 14 × 4\n",
              "\n",
              "| var &lt;chr&gt; | count &lt;dbl&gt; | total &lt;int&gt; | prop &lt;dbl&gt; |\n",
              "|---|---|---|---|\n",
              "| benef_dist_driv      | 115 | 134 | 0.858208955 |\n",
              "| lack_reg_prox        |  23 | 134 | 0.171641791 |\n",
              "| plan_dev             |  18 | 134 | 0.134328358 |\n",
              "| iuu_fish_prox        |  15 | 134 | 0.111940299 |\n",
              "| inad_gov_prox        |   9 | 134 | 0.067164179 |\n",
              "| res_cond_hum_prox    |   7 | 134 | 0.052238806 |\n",
              "| ill_res_use_prox     |   3 | 134 | 0.022388060 |\n",
              "| acut_food_short      |   2 | 134 | 0.014925373 |\n",
              "| trad_v_new           |   1 | 134 | 0.007462687 |\n",
              "| res_cond_nonhum_prox |   1 | 134 | 0.007462687 |\n",
              "| nat_dis              |   0 | 134 | 0.000000000 |\n",
              "| bord_disp_prox       |   0 | 134 | 0.000000000 |\n",
              "| pol_insta_prox       |   0 | 134 | 0.000000000 |\n",
              "| piracy_prox          |   0 | 134 | 0.000000000 |\n",
              "\n"
            ],
            "text/plain": [
              "   var                  count total prop       \n",
              "1  benef_dist_driv      115   134   0.858208955\n",
              "2  lack_reg_prox         23   134   0.171641791\n",
              "3  plan_dev              18   134   0.134328358\n",
              "4  iuu_fish_prox         15   134   0.111940299\n",
              "5  inad_gov_prox          9   134   0.067164179\n",
              "6  res_cond_hum_prox      7   134   0.052238806\n",
              "7  ill_res_use_prox       3   134   0.022388060\n",
              "8  acut_food_short        2   134   0.014925373\n",
              "9  trad_v_new             1   134   0.007462687\n",
              "10 res_cond_nonhum_prox   1   134   0.007462687\n",
              "11 nat_dis                0   134   0.000000000\n",
              "12 bord_disp_prox         0   134   0.000000000\n",
              "13 pol_insta_prox         0   134   0.000000000\n",
              "14 piracy_prox            0   134   0.000000000"
            ]
          },
          "metadata": {},
          "output_type": "display_data"
        }
      ],
      "source": [
        "data %>%\n",
        "    filter(!(piracy == 1 & total_conflict == 1)) %>%\n",
        "    filter(benef_dist_type == 1) %>%   # change\n",
        "    select(all_of(prox_driver_type)) %>%\n",
        "    reframe(var = prox_driver_type, count = colSums(.), total = nrow(.)) %>%\n",
        "    mutate(prop = count/total) %>%\n",
        "    arrange(desc(count))"
      ]
    },
    {
      "cell_type": "markdown",
      "metadata": {
        "id": "i0sQjDGZRJcw"
      },
      "source": [
        "Benefits distribution, conflict vs. driver"
      ]
    },
    {
      "cell_type": "code",
      "execution_count": null,
      "metadata": {
        "colab": {
          "base_uri": "https://localhost:8080/",
          "height": 797
        },
        "id": "XjZ43UN6ROjA",
        "outputId": "5fa6a538-9fcb-424b-990e-0defe2cb801f",
        "vscode": {
          "languageId": "r"
        }
      },
      "outputs": [
        {
          "data": {
            "text/html": [
              "<table class=\"dataframe\">\n",
              "<caption>A tibble: 14 × 4</caption>\n",
              "<thead>\n",
              "\t<tr><th scope=col>var</th><th scope=col>count</th><th scope=col>total</th><th scope=col>prop</th></tr>\n",
              "\t<tr><th scope=col>&lt;chr&gt;</th><th scope=col>&lt;dbl&gt;</th><th scope=col>&lt;int&gt;</th><th scope=col>&lt;dbl&gt;</th></tr>\n",
              "</thead>\n",
              "<tbody>\n",
              "\t<tr><td>benef_dist_driv     </td><td>115</td><td>134</td><td>0.858208955</td></tr>\n",
              "\t<tr><td>lack_reg_prox       </td><td> 23</td><td>134</td><td>0.171641791</td></tr>\n",
              "\t<tr><td>plan_dev            </td><td> 18</td><td>134</td><td>0.134328358</td></tr>\n",
              "\t<tr><td>iuu_fish_prox       </td><td> 15</td><td>134</td><td>0.111940299</td></tr>\n",
              "\t<tr><td>inad_gov_prox       </td><td>  9</td><td>134</td><td>0.067164179</td></tr>\n",
              "\t<tr><td>res_cond_hum_prox   </td><td>  7</td><td>134</td><td>0.052238806</td></tr>\n",
              "\t<tr><td>ill_res_use_prox    </td><td>  3</td><td>134</td><td>0.022388060</td></tr>\n",
              "\t<tr><td>acut_food_short     </td><td>  2</td><td>134</td><td>0.014925373</td></tr>\n",
              "\t<tr><td>trad_v_new          </td><td>  1</td><td>134</td><td>0.007462687</td></tr>\n",
              "\t<tr><td>res_cond_nonhum_prox</td><td>  1</td><td>134</td><td>0.007462687</td></tr>\n",
              "\t<tr><td>nat_dis             </td><td>  0</td><td>134</td><td>0.000000000</td></tr>\n",
              "\t<tr><td>bord_disp_prox      </td><td>  0</td><td>134</td><td>0.000000000</td></tr>\n",
              "\t<tr><td>pol_insta_prox      </td><td>  0</td><td>134</td><td>0.000000000</td></tr>\n",
              "\t<tr><td>piracy_prox         </td><td>  0</td><td>134</td><td>0.000000000</td></tr>\n",
              "</tbody>\n",
              "</table>\n"
            ],
            "text/latex": [
              "A tibble: 14 × 4\n",
              "\\begin{tabular}{llll}\n",
              " var & count & total & prop\\\\\n",
              " <chr> & <dbl> & <int> & <dbl>\\\\\n",
              "\\hline\n",
              "\t benef\\_dist\\_driv      & 115 & 134 & 0.858208955\\\\\n",
              "\t lack\\_reg\\_prox        &  23 & 134 & 0.171641791\\\\\n",
              "\t plan\\_dev             &  18 & 134 & 0.134328358\\\\\n",
              "\t iuu\\_fish\\_prox        &  15 & 134 & 0.111940299\\\\\n",
              "\t inad\\_gov\\_prox        &   9 & 134 & 0.067164179\\\\\n",
              "\t res\\_cond\\_hum\\_prox    &   7 & 134 & 0.052238806\\\\\n",
              "\t ill\\_res\\_use\\_prox     &   3 & 134 & 0.022388060\\\\\n",
              "\t acut\\_food\\_short      &   2 & 134 & 0.014925373\\\\\n",
              "\t trad\\_v\\_new           &   1 & 134 & 0.007462687\\\\\n",
              "\t res\\_cond\\_nonhum\\_prox &   1 & 134 & 0.007462687\\\\\n",
              "\t nat\\_dis              &   0 & 134 & 0.000000000\\\\\n",
              "\t bord\\_disp\\_prox       &   0 & 134 & 0.000000000\\\\\n",
              "\t pol\\_insta\\_prox       &   0 & 134 & 0.000000000\\\\\n",
              "\t piracy\\_prox          &   0 & 134 & 0.000000000\\\\\n",
              "\\end{tabular}\n"
            ],
            "text/markdown": [
              "\n",
              "A tibble: 14 × 4\n",
              "\n",
              "| var &lt;chr&gt; | count &lt;dbl&gt; | total &lt;int&gt; | prop &lt;dbl&gt; |\n",
              "|---|---|---|---|\n",
              "| benef_dist_driv      | 115 | 134 | 0.858208955 |\n",
              "| lack_reg_prox        |  23 | 134 | 0.171641791 |\n",
              "| plan_dev             |  18 | 134 | 0.134328358 |\n",
              "| iuu_fish_prox        |  15 | 134 | 0.111940299 |\n",
              "| inad_gov_prox        |   9 | 134 | 0.067164179 |\n",
              "| res_cond_hum_prox    |   7 | 134 | 0.052238806 |\n",
              "| ill_res_use_prox     |   3 | 134 | 0.022388060 |\n",
              "| acut_food_short      |   2 | 134 | 0.014925373 |\n",
              "| trad_v_new           |   1 | 134 | 0.007462687 |\n",
              "| res_cond_nonhum_prox |   1 | 134 | 0.007462687 |\n",
              "| nat_dis              |   0 | 134 | 0.000000000 |\n",
              "| bord_disp_prox       |   0 | 134 | 0.000000000 |\n",
              "| pol_insta_prox       |   0 | 134 | 0.000000000 |\n",
              "| piracy_prox          |   0 | 134 | 0.000000000 |\n",
              "\n"
            ],
            "text/plain": [
              "   var                  count total prop       \n",
              "1  benef_dist_driv      115   134   0.858208955\n",
              "2  lack_reg_prox         23   134   0.171641791\n",
              "3  plan_dev              18   134   0.134328358\n",
              "4  iuu_fish_prox         15   134   0.111940299\n",
              "5  inad_gov_prox          9   134   0.067164179\n",
              "6  res_cond_hum_prox      7   134   0.052238806\n",
              "7  ill_res_use_prox       3   134   0.022388060\n",
              "8  acut_food_short        2   134   0.014925373\n",
              "9  trad_v_new             1   134   0.007462687\n",
              "10 res_cond_nonhum_prox   1   134   0.007462687\n",
              "11 nat_dis                0   134   0.000000000\n",
              "12 bord_disp_prox         0   134   0.000000000\n",
              "13 pol_insta_prox         0   134   0.000000000\n",
              "14 piracy_prox            0   134   0.000000000"
            ]
          },
          "metadata": {},
          "output_type": "display_data"
        },
        {
          "data": {
            "text/html": [
              "<table class=\"dataframe\">\n",
              "<caption>A tibble: 6 × 4</caption>\n",
              "<thead>\n",
              "\t<tr><th scope=col>var</th><th scope=col>count</th><th scope=col>total</th><th scope=col>prop</th></tr>\n",
              "\t<tr><th scope=col>&lt;chr&gt;</th><th scope=col>&lt;dbl&gt;</th><th scope=col>&lt;int&gt;</th><th scope=col>&lt;dbl&gt;</th></tr>\n",
              "</thead>\n",
              "<tbody>\n",
              "\t<tr><td>benef_dist_type</td><td>115</td><td>201</td><td>0.57213930</td></tr>\n",
              "\t<tr><td>access_space   </td><td>107</td><td>201</td><td>0.53233831</td></tr>\n",
              "\t<tr><td>access_res     </td><td>107</td><td>201</td><td>0.53233831</td></tr>\n",
              "\t<tr><td>use_res        </td><td> 47</td><td>201</td><td>0.23383085</td></tr>\n",
              "\t<tr><td>use_space      </td><td> 31</td><td>201</td><td>0.15422886</td></tr>\n",
              "\t<tr><td>piracy         </td><td>  3</td><td>201</td><td>0.01492537</td></tr>\n",
              "</tbody>\n",
              "</table>\n"
            ],
            "text/latex": [
              "A tibble: 6 × 4\n",
              "\\begin{tabular}{llll}\n",
              " var & count & total & prop\\\\\n",
              " <chr> & <dbl> & <int> & <dbl>\\\\\n",
              "\\hline\n",
              "\t benef\\_dist\\_type & 115 & 201 & 0.57213930\\\\\n",
              "\t access\\_space    & 107 & 201 & 0.53233831\\\\\n",
              "\t access\\_res      & 107 & 201 & 0.53233831\\\\\n",
              "\t use\\_res         &  47 & 201 & 0.23383085\\\\\n",
              "\t use\\_space       &  31 & 201 & 0.15422886\\\\\n",
              "\t piracy          &   3 & 201 & 0.01492537\\\\\n",
              "\\end{tabular}\n"
            ],
            "text/markdown": [
              "\n",
              "A tibble: 6 × 4\n",
              "\n",
              "| var &lt;chr&gt; | count &lt;dbl&gt; | total &lt;int&gt; | prop &lt;dbl&gt; |\n",
              "|---|---|---|---|\n",
              "| benef_dist_type | 115 | 201 | 0.57213930 |\n",
              "| access_space    | 107 | 201 | 0.53233831 |\n",
              "| access_res      | 107 | 201 | 0.53233831 |\n",
              "| use_res         |  47 | 201 | 0.23383085 |\n",
              "| use_space       |  31 | 201 | 0.15422886 |\n",
              "| piracy          |   3 | 201 | 0.01492537 |\n",
              "\n"
            ],
            "text/plain": [
              "  var             count total prop      \n",
              "1 benef_dist_type 115   201   0.57213930\n",
              "2 access_space    107   201   0.53233831\n",
              "3 access_res      107   201   0.53233831\n",
              "4 use_res          47   201   0.23383085\n",
              "5 use_space        31   201   0.15422886\n",
              "6 piracy            3   201   0.01492537"
            ]
          },
          "metadata": {},
          "output_type": "display_data"
        }
      ],
      "source": [
        "# driver assosiated to benefits distribution conflict\n",
        "data %>%\n",
        "    filter(!(piracy==1 & total_conflict==1)) %>%\n",
        "    filter(benef_dist_type==1) %>%\n",
        "    select(all_of(prox_driver_type)) %>%\n",
        "    reframe(var = prox_driver_type, count = colSums(.), total = nrow(.)) %>%\n",
        "    mutate(prop = count/total) %>%\n",
        "    arrange(desc(count))\n",
        "\n",
        "\n",
        "# conflict assosiated to benefits distribution driver\n",
        "data %>%\n",
        "    filter(!(piracy==1 & total_conflict==1)) %>%\n",
        "    filter(benef_dist_driv==1) %>%\n",
        "    select(all_of(conflict_type)) %>%\n",
        "    reframe(var = conflict_type, count = colSums(.), total = nrow(.)) %>%\n",
        "    mutate(prop = count/total) %>%\n",
        "    arrange(desc(count))"
      ]
    },
    {
      "cell_type": "markdown",
      "metadata": {
        "id": "EPuoh1OsSsix"
      },
      "source": [
        "IUU fishing, illegality vs. driver\n"
      ]
    },
    {
      "cell_type": "code",
      "execution_count": null,
      "metadata": {
        "colab": {
          "base_uri": "https://localhost:8080/",
          "height": 828
        },
        "id": "LJaUAOcNStWX",
        "outputId": "b96a85f6-ad1d-4a51-d8e0-a76373a7bf25",
        "vscode": {
          "languageId": "r"
        }
      },
      "outputs": [
        {
          "data": {
            "text/html": [
              "<table class=\"dataframe\">\n",
              "<caption>A tibble: 14 × 4</caption>\n",
              "<thead>\n",
              "\t<tr><th scope=col>var</th><th scope=col>count</th><th scope=col>total</th><th scope=col>prop</th></tr>\n",
              "\t<tr><th scope=col>&lt;chr&gt;</th><th scope=col>&lt;dbl&gt;</th><th scope=col>&lt;int&gt;</th><th scope=col>&lt;dbl&gt;</th></tr>\n",
              "</thead>\n",
              "<tbody>\n",
              "\t<tr><td>iuu_fish_prox       </td><td>288</td><td>367</td><td>0.784741144</td></tr>\n",
              "\t<tr><td>benef_dist_driv     </td><td> 32</td><td>367</td><td>0.087193460</td></tr>\n",
              "\t<tr><td>lack_reg_prox       </td><td> 12</td><td>367</td><td>0.032697548</td></tr>\n",
              "\t<tr><td>inad_gov_prox       </td><td>  5</td><td>367</td><td>0.013623978</td></tr>\n",
              "\t<tr><td>res_cond_hum_prox   </td><td>  5</td><td>367</td><td>0.013623978</td></tr>\n",
              "\t<tr><td>bord_disp_prox      </td><td>  4</td><td>367</td><td>0.010899183</td></tr>\n",
              "\t<tr><td>acut_food_short     </td><td>  2</td><td>367</td><td>0.005449591</td></tr>\n",
              "\t<tr><td>ill_res_use_prox    </td><td>  2</td><td>367</td><td>0.005449591</td></tr>\n",
              "\t<tr><td>plan_dev            </td><td>  2</td><td>367</td><td>0.005449591</td></tr>\n",
              "\t<tr><td>piracy_prox         </td><td>  1</td><td>367</td><td>0.002724796</td></tr>\n",
              "\t<tr><td>nat_dis             </td><td>  0</td><td>367</td><td>0.000000000</td></tr>\n",
              "\t<tr><td>trad_v_new          </td><td>  0</td><td>367</td><td>0.000000000</td></tr>\n",
              "\t<tr><td>pol_insta_prox      </td><td>  0</td><td>367</td><td>0.000000000</td></tr>\n",
              "\t<tr><td>res_cond_nonhum_prox</td><td>  0</td><td>367</td><td>0.000000000</td></tr>\n",
              "</tbody>\n",
              "</table>\n"
            ],
            "text/latex": [
              "A tibble: 14 × 4\n",
              "\\begin{tabular}{llll}\n",
              " var & count & total & prop\\\\\n",
              " <chr> & <dbl> & <int> & <dbl>\\\\\n",
              "\\hline\n",
              "\t iuu\\_fish\\_prox        & 288 & 367 & 0.784741144\\\\\n",
              "\t benef\\_dist\\_driv      &  32 & 367 & 0.087193460\\\\\n",
              "\t lack\\_reg\\_prox        &  12 & 367 & 0.032697548\\\\\n",
              "\t inad\\_gov\\_prox        &   5 & 367 & 0.013623978\\\\\n",
              "\t res\\_cond\\_hum\\_prox    &   5 & 367 & 0.013623978\\\\\n",
              "\t bord\\_disp\\_prox       &   4 & 367 & 0.010899183\\\\\n",
              "\t acut\\_food\\_short      &   2 & 367 & 0.005449591\\\\\n",
              "\t ill\\_res\\_use\\_prox     &   2 & 367 & 0.005449591\\\\\n",
              "\t plan\\_dev             &   2 & 367 & 0.005449591\\\\\n",
              "\t piracy\\_prox          &   1 & 367 & 0.002724796\\\\\n",
              "\t nat\\_dis              &   0 & 367 & 0.000000000\\\\\n",
              "\t trad\\_v\\_new           &   0 & 367 & 0.000000000\\\\\n",
              "\t pol\\_insta\\_prox       &   0 & 367 & 0.000000000\\\\\n",
              "\t res\\_cond\\_nonhum\\_prox &   0 & 367 & 0.000000000\\\\\n",
              "\\end{tabular}\n"
            ],
            "text/markdown": [
              "\n",
              "A tibble: 14 × 4\n",
              "\n",
              "| var &lt;chr&gt; | count &lt;dbl&gt; | total &lt;int&gt; | prop &lt;dbl&gt; |\n",
              "|---|---|---|---|\n",
              "| iuu_fish_prox        | 288 | 367 | 0.784741144 |\n",
              "| benef_dist_driv      |  32 | 367 | 0.087193460 |\n",
              "| lack_reg_prox        |  12 | 367 | 0.032697548 |\n",
              "| inad_gov_prox        |   5 | 367 | 0.013623978 |\n",
              "| res_cond_hum_prox    |   5 | 367 | 0.013623978 |\n",
              "| bord_disp_prox       |   4 | 367 | 0.010899183 |\n",
              "| acut_food_short      |   2 | 367 | 0.005449591 |\n",
              "| ill_res_use_prox     |   2 | 367 | 0.005449591 |\n",
              "| plan_dev             |   2 | 367 | 0.005449591 |\n",
              "| piracy_prox          |   1 | 367 | 0.002724796 |\n",
              "| nat_dis              |   0 | 367 | 0.000000000 |\n",
              "| trad_v_new           |   0 | 367 | 0.000000000 |\n",
              "| pol_insta_prox       |   0 | 367 | 0.000000000 |\n",
              "| res_cond_nonhum_prox |   0 | 367 | 0.000000000 |\n",
              "\n"
            ],
            "text/plain": [
              "   var                  count total prop       \n",
              "1  iuu_fish_prox        288   367   0.784741144\n",
              "2  benef_dist_driv       32   367   0.087193460\n",
              "3  lack_reg_prox         12   367   0.032697548\n",
              "4  inad_gov_prox          5   367   0.013623978\n",
              "5  res_cond_hum_prox      5   367   0.013623978\n",
              "6  bord_disp_prox         4   367   0.010899183\n",
              "7  acut_food_short        2   367   0.005449591\n",
              "8  ill_res_use_prox       2   367   0.005449591\n",
              "9  plan_dev               2   367   0.005449591\n",
              "10 piracy_prox            1   367   0.002724796\n",
              "11 nat_dis                0   367   0.000000000\n",
              "12 trad_v_new             0   367   0.000000000\n",
              "13 pol_insta_prox         0   367   0.000000000\n",
              "14 res_cond_nonhum_prox   0   367   0.000000000"
            ]
          },
          "metadata": {},
          "output_type": "display_data"
        },
        {
          "data": {
            "text/html": [
              "<table class=\"dataframe\">\n",
              "<caption>A tibble: 7 × 4</caption>\n",
              "<thead>\n",
              "\t<tr><th scope=col>var</th><th scope=col>count</th><th scope=col>total</th><th scope=col>prop</th></tr>\n",
              "\t<tr><th scope=col>&lt;chr&gt;</th><th scope=col>&lt;dbl&gt;</th><th scope=col>&lt;int&gt;</th><th scope=col>&lt;dbl&gt;</th></tr>\n",
              "</thead>\n",
              "<tbody>\n",
              "\t<tr><td>iuu_fish     </td><td>288</td><td>303</td><td>0.95049505</td></tr>\n",
              "\t<tr><td>ill_res_use  </td><td>  7</td><td>303</td><td>0.02310231</td></tr>\n",
              "\t<tr><td>gear_destr   </td><td>  7</td><td>303</td><td>0.02310231</td></tr>\n",
              "\t<tr><td>ill_spa_acc  </td><td>  5</td><td>303</td><td>0.01650165</td></tr>\n",
              "\t<tr><td>ill_spa_use  </td><td>  5</td><td>303</td><td>0.01650165</td></tr>\n",
              "\t<tr><td>infrast_destr</td><td>  4</td><td>303</td><td>0.01320132</td></tr>\n",
              "\t<tr><td>ill_res_acc  </td><td>  0</td><td>303</td><td>0.00000000</td></tr>\n",
              "</tbody>\n",
              "</table>\n"
            ],
            "text/latex": [
              "A tibble: 7 × 4\n",
              "\\begin{tabular}{llll}\n",
              " var & count & total & prop\\\\\n",
              " <chr> & <dbl> & <int> & <dbl>\\\\\n",
              "\\hline\n",
              "\t iuu\\_fish      & 288 & 303 & 0.95049505\\\\\n",
              "\t ill\\_res\\_use   &   7 & 303 & 0.02310231\\\\\n",
              "\t gear\\_destr    &   7 & 303 & 0.02310231\\\\\n",
              "\t ill\\_spa\\_acc   &   5 & 303 & 0.01650165\\\\\n",
              "\t ill\\_spa\\_use   &   5 & 303 & 0.01650165\\\\\n",
              "\t infrast\\_destr &   4 & 303 & 0.01320132\\\\\n",
              "\t ill\\_res\\_acc   &   0 & 303 & 0.00000000\\\\\n",
              "\\end{tabular}\n"
            ],
            "text/markdown": [
              "\n",
              "A tibble: 7 × 4\n",
              "\n",
              "| var &lt;chr&gt; | count &lt;dbl&gt; | total &lt;int&gt; | prop &lt;dbl&gt; |\n",
              "|---|---|---|---|\n",
              "| iuu_fish      | 288 | 303 | 0.95049505 |\n",
              "| ill_res_use   |   7 | 303 | 0.02310231 |\n",
              "| gear_destr    |   7 | 303 | 0.02310231 |\n",
              "| ill_spa_acc   |   5 | 303 | 0.01650165 |\n",
              "| ill_spa_use   |   5 | 303 | 0.01650165 |\n",
              "| infrast_destr |   4 | 303 | 0.01320132 |\n",
              "| ill_res_acc   |   0 | 303 | 0.00000000 |\n",
              "\n"
            ],
            "text/plain": [
              "  var           count total prop      \n",
              "1 iuu_fish      288   303   0.95049505\n",
              "2 ill_res_use     7   303   0.02310231\n",
              "3 gear_destr      7   303   0.02310231\n",
              "4 ill_spa_acc     5   303   0.01650165\n",
              "5 ill_spa_use     5   303   0.01650165\n",
              "6 infrast_destr   4   303   0.01320132\n",
              "7 ill_res_acc     0   303   0.00000000"
            ]
          },
          "metadata": {},
          "output_type": "display_data"
        }
      ],
      "source": [
        "# driver assosiated to IUU fishing as illegal activity\n",
        "data %>%\n",
        "    filter(!(piracy==1 & total_conflict==1)) %>%\n",
        "    mutate_at('iuu_fish', ~ifelse(is.na(.) | . != 1, 0, .)) %>%\n",
        "    filter(iuu_fish==1) %>%\n",
        "    select(all_of(prox_driver_type)) %>%\n",
        "    reframe(var = prox_driver_type, count = colSums(.), total = nrow(.)) %>%\n",
        "    mutate(prop = count/total) %>%\n",
        "    arrange(desc(count))\n",
        "\n",
        "\n",
        "# illegal activities assosiated to IUU fishing as proximate driver\n",
        "data %>%\n",
        "    filter(!(piracy==1 & total_conflict==1)) %>%\n",
        "    filter(iuu_fish_prox==1) %>%\n",
        "    select(all_of(illegal_type)) %>%\n",
        "    mutate_all(~ifelse(is.na(.) | . != 1, 0, .)) %>%\n",
        "    reframe(var = illegal_type, count = colSums(.), total = nrow(.)) %>%\n",
        "    mutate(prop = count/total) %>%\n",
        "    arrange(desc(count))"
      ]
    },
    {
      "cell_type": "markdown",
      "metadata": {
        "id": "dPfXzNAM9vEP"
      },
      "source": [
        "Association between benefit distribution conflict vs. benefit distribution driver\n",
        "\n"
      ]
    },
    {
      "cell_type": "code",
      "execution_count": null,
      "metadata": {
        "colab": {
          "base_uri": "https://localhost:8080/",
          "height": 68
        },
        "id": "vj46R_kc9q--",
        "outputId": "7ff798ba-e40c-479f-e5e5-dbce2fb77a9d",
        "vscode": {
          "languageId": "r"
        }
      },
      "outputs": [
        {
          "data": {
            "text/html": [
              "0.522727272727273"
            ],
            "text/latex": [
              "0.522727272727273"
            ],
            "text/markdown": [
              "0.522727272727273"
            ],
            "text/plain": [
              "[1] 0.5227273"
            ]
          },
          "metadata": {},
          "output_type": "display_data"
        },
        {
          "data": {
            "text/html": [
              "0.000999000999000999"
            ],
            "text/latex": [
              "0.000999000999000999"
            ],
            "text/markdown": [
              "0.000999000999000999"
            ],
            "text/plain": [
              "[1] 0.000999001"
            ]
          },
          "metadata": {},
          "output_type": "display_data"
        },
        {
          "data": {
            "text/html": [
              "1"
            ],
            "text/latex": [
              "1"
            ],
            "text/markdown": [
              "1"
            ],
            "text/plain": [
              "[1] 1"
            ]
          },
          "metadata": {},
          "output_type": "display_data"
        }
      ],
      "source": [
        "foo <- data %>%\n",
        "  filter(!(piracy==1 & total_conflict==1))\n",
        "\n",
        "obs <- jaccard(foo, 'benef_dist_type', 'benef_dist_driv')\n",
        "\n",
        "set.seed(1212)\n",
        "perm <- c()\n",
        "for(i in 1:1000){\n",
        "    bar <- foo\n",
        "    bar$benef_dist_driv <- sample(bar$benef_dist_driv)\n",
        "    perm[i] <- jaccard(bar, 'benef_dist_type', 'benef_dist_driv')\n",
        "}\n",
        "\n",
        "p <- (min(length(perm[perm > obs]), length(perm[perm < obs])) + 1) / (length(perm) + 1)\n",
        "\n",
        "obs\n",
        "p\n",
        "sign(obs - mean(perm))"
      ]
    },
    {
      "cell_type": "markdown",
      "metadata": {
        "id": "G7azEdB56Yv-"
      },
      "source": [
        "# Actor"
      ]
    },
    {
      "cell_type": "code",
      "execution_count": null,
      "metadata": {
        "colab": {
          "base_uri": "https://localhost:8080/",
          "height": 624
        },
        "id": "TvzbBKiS3Ehq",
        "outputId": "a095409d-d8bf-4460-a79a-0a04b116b3a8",
        "vscode": {
          "languageId": "r"
        }
      },
      "outputs": [
        {
          "data": {
            "text/html": [
              "<table class=\"dataframe\">\n",
              "<caption>A tibble: 17 × 4</caption>\n",
              "<thead>\n",
              "\t<tr><th scope=col>var</th><th scope=col>count</th><th scope=col>total</th><th scope=col>percent</th></tr>\n",
              "\t<tr><th scope=col>&lt;chr&gt;</th><th scope=col>&lt;dbl&gt;</th><th scope=col>&lt;int&gt;</th><th scope=col>&lt;dbl&gt;</th></tr>\n",
              "</thead>\n",
              "<tbody>\n",
              "\t<tr><td>intl_govt      </td><td>671</td><td>962</td><td>69.750520</td></tr>\n",
              "\t<tr><td>subs_fisher    </td><td>463</td><td>962</td><td>48.128898</td></tr>\n",
              "\t<tr><td>ind_fishers    </td><td>395</td><td>962</td><td>41.060291</td></tr>\n",
              "\t<tr><td>state_enf      </td><td>359</td><td>962</td><td>37.318087</td></tr>\n",
              "\t<tr><td>worker_union   </td><td>161</td><td>962</td><td>16.735967</td></tr>\n",
              "\t<tr><td>loc_govt       </td><td>131</td><td>962</td><td>13.617464</td></tr>\n",
              "\t<tr><td>subs_living_res</td><td>126</td><td>962</td><td>13.097713</td></tr>\n",
              "\t<tr><td>intl_multi_bod </td><td>108</td><td>962</td><td>11.226611</td></tr>\n",
              "\t<tr><td>natl_ngo       </td><td>106</td><td>962</td><td>11.018711</td></tr>\n",
              "\t<tr><td>ind_non_liv    </td><td> 90</td><td>962</td><td> 9.355509</td></tr>\n",
              "\t<tr><td>intl_ngo       </td><td> 88</td><td>962</td><td> 9.147609</td></tr>\n",
              "\t<tr><td>fish_trad      </td><td> 70</td><td>962</td><td> 7.276507</td></tr>\n",
              "\t<tr><td>comm_org       </td><td> 61</td><td>962</td><td> 6.340956</td></tr>\n",
              "\t<tr><td>local_ngo      </td><td> 36</td><td>962</td><td> 3.742204</td></tr>\n",
              "\t<tr><td>develop        </td><td> 25</td><td>962</td><td> 2.598753</td></tr>\n",
              "\t<tr><td>pirates        </td><td> 18</td><td>962</td><td> 1.871102</td></tr>\n",
              "\t<tr><td>ind_living_res </td><td> 10</td><td>962</td><td> 1.039501</td></tr>\n",
              "</tbody>\n",
              "</table>\n"
            ],
            "text/latex": [
              "A tibble: 17 × 4\n",
              "\\begin{tabular}{llll}\n",
              " var & count & total & percent\\\\\n",
              " <chr> & <dbl> & <int> & <dbl>\\\\\n",
              "\\hline\n",
              "\t intl\\_govt       & 671 & 962 & 69.750520\\\\\n",
              "\t subs\\_fisher     & 463 & 962 & 48.128898\\\\\n",
              "\t ind\\_fishers     & 395 & 962 & 41.060291\\\\\n",
              "\t state\\_enf       & 359 & 962 & 37.318087\\\\\n",
              "\t worker\\_union    & 161 & 962 & 16.735967\\\\\n",
              "\t loc\\_govt        & 131 & 962 & 13.617464\\\\\n",
              "\t subs\\_living\\_res & 126 & 962 & 13.097713\\\\\n",
              "\t intl\\_multi\\_bod  & 108 & 962 & 11.226611\\\\\n",
              "\t natl\\_ngo        & 106 & 962 & 11.018711\\\\\n",
              "\t ind\\_non\\_liv     &  90 & 962 &  9.355509\\\\\n",
              "\t intl\\_ngo        &  88 & 962 &  9.147609\\\\\n",
              "\t fish\\_trad       &  70 & 962 &  7.276507\\\\\n",
              "\t comm\\_org        &  61 & 962 &  6.340956\\\\\n",
              "\t local\\_ngo       &  36 & 962 &  3.742204\\\\\n",
              "\t develop         &  25 & 962 &  2.598753\\\\\n",
              "\t pirates         &  18 & 962 &  1.871102\\\\\n",
              "\t ind\\_living\\_res  &  10 & 962 &  1.039501\\\\\n",
              "\\end{tabular}\n"
            ],
            "text/markdown": [
              "\n",
              "A tibble: 17 × 4\n",
              "\n",
              "| var &lt;chr&gt; | count &lt;dbl&gt; | total &lt;int&gt; | percent &lt;dbl&gt; |\n",
              "|---|---|---|---|\n",
              "| intl_govt       | 671 | 962 | 69.750520 |\n",
              "| subs_fisher     | 463 | 962 | 48.128898 |\n",
              "| ind_fishers     | 395 | 962 | 41.060291 |\n",
              "| state_enf       | 359 | 962 | 37.318087 |\n",
              "| worker_union    | 161 | 962 | 16.735967 |\n",
              "| loc_govt        | 131 | 962 | 13.617464 |\n",
              "| subs_living_res | 126 | 962 | 13.097713 |\n",
              "| intl_multi_bod  | 108 | 962 | 11.226611 |\n",
              "| natl_ngo        | 106 | 962 | 11.018711 |\n",
              "| ind_non_liv     |  90 | 962 |  9.355509 |\n",
              "| intl_ngo        |  88 | 962 |  9.147609 |\n",
              "| fish_trad       |  70 | 962 |  7.276507 |\n",
              "| comm_org        |  61 | 962 |  6.340956 |\n",
              "| local_ngo       |  36 | 962 |  3.742204 |\n",
              "| develop         |  25 | 962 |  2.598753 |\n",
              "| pirates         |  18 | 962 |  1.871102 |\n",
              "| ind_living_res  |  10 | 962 |  1.039501 |\n",
              "\n"
            ],
            "text/plain": [
              "   var             count total percent  \n",
              "1  intl_govt       671   962   69.750520\n",
              "2  subs_fisher     463   962   48.128898\n",
              "3  ind_fishers     395   962   41.060291\n",
              "4  state_enf       359   962   37.318087\n",
              "5  worker_union    161   962   16.735967\n",
              "6  loc_govt        131   962   13.617464\n",
              "7  subs_living_res 126   962   13.097713\n",
              "8  intl_multi_bod  108   962   11.226611\n",
              "9  natl_ngo        106   962   11.018711\n",
              "10 ind_non_liv      90   962    9.355509\n",
              "11 intl_ngo         88   962    9.147609\n",
              "12 fish_trad        70   962    7.276507\n",
              "13 comm_org         61   962    6.340956\n",
              "14 local_ngo        36   962    3.742204\n",
              "15 develop          25   962    2.598753\n",
              "16 pirates          18   962    1.871102\n",
              "17 ind_living_res   10   962    1.039501"
            ]
          },
          "metadata": {},
          "output_type": "display_data"
        }
      ],
      "source": [
        "foo <- data %>%\n",
        "    filter(!(piracy == 1 & total_conflict == 1)) %>%\n",
        "    select(all_of(actor_type_original)) %>%\n",
        "    reframe(var = actor_type_original, count = colSums(.), total = nrow(.)) %>%\n",
        "    mutate(percent = count/total * 100) %>%\n",
        "    arrange(desc(count))\n",
        "foo"
      ]
    },
    {
      "cell_type": "markdown",
      "metadata": {
        "id": "syPQHLbKyxfA"
      },
      "source": [
        "bar chart"
      ]
    },
    {
      "cell_type": "code",
      "execution_count": null,
      "metadata": {
        "id": "PqlIPL0pKhCB",
        "vscode": {
          "languageId": "r"
        }
      },
      "outputs": [],
      "source": [
        "p <- ggplot(foo, aes(x = reorder(var, percent), y = percent)) +\n",
        "  geom_bar(stat = \"identity\", color = \"black\") +\n",
        "  coord_flip() +\n",
        "  labs(y = \"Involvement (%)\", x = NULL) +\n",
        "  theme_minimal()\n",
        "\n",
        "ggsave(\"actor.pdf\", p, width = 8, height = 6, units = \"in\")"
      ]
    },
    {
      "cell_type": "markdown",
      "metadata": {
        "id": "g7f1-NHkYWcK"
      },
      "source": [
        "spider chart"
      ]
    },
    {
      "cell_type": "code",
      "execution_count": null,
      "metadata": {
        "colab": {
          "base_uri": "https://localhost:8080/",
          "height": 624
        },
        "id": "xQhlk_7Ck7ds",
        "outputId": "679b5ae9-7263-4332-fccf-74ad9b928303",
        "vscode": {
          "languageId": "r"
        }
      },
      "outputs": [
        {
          "data": {
            "text/html": [
              "<table class=\"dataframe\">\n",
              "<caption>A data.frame: 17 × 6</caption>\n",
              "<thead>\n",
              "\t<tr><th></th><th scope=col>access_space</th><th scope=col>use_space</th><th scope=col>access_res</th><th scope=col>use_res</th><th scope=col>benef_dist_type</th><th scope=col>piracy</th></tr>\n",
              "\t<tr><th></th><th scope=col>&lt;dbl&gt;</th><th scope=col>&lt;dbl&gt;</th><th scope=col>&lt;dbl&gt;</th><th scope=col>&lt;dbl&gt;</th><th scope=col>&lt;dbl&gt;</th><th scope=col>&lt;dbl&gt;</th></tr>\n",
              "</thead>\n",
              "<tbody>\n",
              "\t<tr><th scope=row>subs_fisher</th><td>0.543859649</td><td>0.30051813</td><td>0.560283688</td><td>0.510822511</td><td>0.746268657</td><td>0.52941176</td></tr>\n",
              "\t<tr><th scope=row>ind_fishers</th><td>0.506578947</td><td>0.16580311</td><td>0.536643026</td><td>0.619047619</td><td>0.507462687</td><td>0.64705882</td></tr>\n",
              "\t<tr><th scope=row>fish_trad</th><td>0.035087719</td><td>0.03626943</td><td>0.106382979</td><td>0.095238095</td><td>0.201492537</td><td>0.11764706</td></tr>\n",
              "\t<tr><th scope=row>subs_living_res</th><td>0.078947368</td><td>0.37305699</td><td>0.073286052</td><td>0.082251082</td><td>0.074626866</td><td>0.05882353</td></tr>\n",
              "\t<tr><th scope=row>develop</th><td>0.030701754</td><td>0.10880829</td><td>0.002364066</td><td>0.008658009</td><td>0.029850746</td><td>0.00000000</td></tr>\n",
              "\t<tr><th scope=row>comm_org</th><td>0.043859649</td><td>0.23316062</td><td>0.026004728</td><td>0.043290043</td><td>0.044776119</td><td>0.00000000</td></tr>\n",
              "\t<tr><th scope=row>worker_union</th><td>0.179824561</td><td>0.11398964</td><td>0.196217494</td><td>0.186147186</td><td>0.388059701</td><td>0.23529412</td></tr>\n",
              "\t<tr><th scope=row>pirates</th><td>0.017543860</td><td>0.00000000</td><td>0.021276596</td><td>0.021645022</td><td>0.044776119</td><td>0.82352941</td></tr>\n",
              "\t<tr><th scope=row>state_enf</th><td>0.460526316</td><td>0.13471503</td><td>0.392434988</td><td>0.294372294</td><td>0.111940299</td><td>0.52941176</td></tr>\n",
              "\t<tr><th scope=row>intl_multi_bod</th><td>0.118421053</td><td>0.05181347</td><td>0.120567376</td><td>0.147186147</td><td>0.104477612</td><td>0.00000000</td></tr>\n",
              "\t<tr><th scope=row>intl_ngo</th><td>0.085526316</td><td>0.09326425</td><td>0.101654846</td><td>0.155844156</td><td>0.097014925</td><td>0.00000000</td></tr>\n",
              "\t<tr><th scope=row>local_ngo</th><td>0.026315789</td><td>0.10362694</td><td>0.021276596</td><td>0.021645022</td><td>0.007462687</td><td>0.00000000</td></tr>\n",
              "\t<tr><th scope=row>natl_ngo</th><td>0.052631579</td><td>0.22279793</td><td>0.115839243</td><td>0.086580087</td><td>0.074626866</td><td>0.05882353</td></tr>\n",
              "\t<tr><th scope=row>intl_govt</th><td>0.717105263</td><td>0.77202073</td><td>0.659574468</td><td>0.735930736</td><td>0.835820896</td><td>0.70588235</td></tr>\n",
              "\t<tr><th scope=row>loc_govt</th><td>0.133771930</td><td>0.19170984</td><td>0.137115839</td><td>0.164502165</td><td>0.126865672</td><td>0.17647059</td></tr>\n",
              "\t<tr><th scope=row>ind_non_liv</th><td>0.054824561</td><td>0.32642487</td><td>0.011820331</td><td>0.017316017</td><td>0.111940299</td><td>0.11764706</td></tr>\n",
              "\t<tr><th scope=row>ind_living_res</th><td>0.006578947</td><td>0.01554404</td><td>0.004728132</td><td>0.017316017</td><td>0.014925373</td><td>0.00000000</td></tr>\n",
              "</tbody>\n",
              "</table>\n"
            ],
            "text/latex": [
              "A data.frame: 17 × 6\n",
              "\\begin{tabular}{r|llllll}\n",
              "  & access\\_space & use\\_space & access\\_res & use\\_res & benef\\_dist\\_type & piracy\\\\\n",
              "  & <dbl> & <dbl> & <dbl> & <dbl> & <dbl> & <dbl>\\\\\n",
              "\\hline\n",
              "\tsubs\\_fisher & 0.543859649 & 0.30051813 & 0.560283688 & 0.510822511 & 0.746268657 & 0.52941176\\\\\n",
              "\tind\\_fishers & 0.506578947 & 0.16580311 & 0.536643026 & 0.619047619 & 0.507462687 & 0.64705882\\\\\n",
              "\tfish\\_trad & 0.035087719 & 0.03626943 & 0.106382979 & 0.095238095 & 0.201492537 & 0.11764706\\\\\n",
              "\tsubs\\_living\\_res & 0.078947368 & 0.37305699 & 0.073286052 & 0.082251082 & 0.074626866 & 0.05882353\\\\\n",
              "\tdevelop & 0.030701754 & 0.10880829 & 0.002364066 & 0.008658009 & 0.029850746 & 0.00000000\\\\\n",
              "\tcomm\\_org & 0.043859649 & 0.23316062 & 0.026004728 & 0.043290043 & 0.044776119 & 0.00000000\\\\\n",
              "\tworker\\_union & 0.179824561 & 0.11398964 & 0.196217494 & 0.186147186 & 0.388059701 & 0.23529412\\\\\n",
              "\tpirates & 0.017543860 & 0.00000000 & 0.021276596 & 0.021645022 & 0.044776119 & 0.82352941\\\\\n",
              "\tstate\\_enf & 0.460526316 & 0.13471503 & 0.392434988 & 0.294372294 & 0.111940299 & 0.52941176\\\\\n",
              "\tintl\\_multi\\_bod & 0.118421053 & 0.05181347 & 0.120567376 & 0.147186147 & 0.104477612 & 0.00000000\\\\\n",
              "\tintl\\_ngo & 0.085526316 & 0.09326425 & 0.101654846 & 0.155844156 & 0.097014925 & 0.00000000\\\\\n",
              "\tlocal\\_ngo & 0.026315789 & 0.10362694 & 0.021276596 & 0.021645022 & 0.007462687 & 0.00000000\\\\\n",
              "\tnatl\\_ngo & 0.052631579 & 0.22279793 & 0.115839243 & 0.086580087 & 0.074626866 & 0.05882353\\\\\n",
              "\tintl\\_govt & 0.717105263 & 0.77202073 & 0.659574468 & 0.735930736 & 0.835820896 & 0.70588235\\\\\n",
              "\tloc\\_govt & 0.133771930 & 0.19170984 & 0.137115839 & 0.164502165 & 0.126865672 & 0.17647059\\\\\n",
              "\tind\\_non\\_liv & 0.054824561 & 0.32642487 & 0.011820331 & 0.017316017 & 0.111940299 & 0.11764706\\\\\n",
              "\tind\\_living\\_res & 0.006578947 & 0.01554404 & 0.004728132 & 0.017316017 & 0.014925373 & 0.00000000\\\\\n",
              "\\end{tabular}\n"
            ],
            "text/markdown": [
              "\n",
              "A data.frame: 17 × 6\n",
              "\n",
              "| <!--/--> | access_space &lt;dbl&gt; | use_space &lt;dbl&gt; | access_res &lt;dbl&gt; | use_res &lt;dbl&gt; | benef_dist_type &lt;dbl&gt; | piracy &lt;dbl&gt; |\n",
              "|---|---|---|---|---|---|---|\n",
              "| subs_fisher | 0.543859649 | 0.30051813 | 0.560283688 | 0.510822511 | 0.746268657 | 0.52941176 |\n",
              "| ind_fishers | 0.506578947 | 0.16580311 | 0.536643026 | 0.619047619 | 0.507462687 | 0.64705882 |\n",
              "| fish_trad | 0.035087719 | 0.03626943 | 0.106382979 | 0.095238095 | 0.201492537 | 0.11764706 |\n",
              "| subs_living_res | 0.078947368 | 0.37305699 | 0.073286052 | 0.082251082 | 0.074626866 | 0.05882353 |\n",
              "| develop | 0.030701754 | 0.10880829 | 0.002364066 | 0.008658009 | 0.029850746 | 0.00000000 |\n",
              "| comm_org | 0.043859649 | 0.23316062 | 0.026004728 | 0.043290043 | 0.044776119 | 0.00000000 |\n",
              "| worker_union | 0.179824561 | 0.11398964 | 0.196217494 | 0.186147186 | 0.388059701 | 0.23529412 |\n",
              "| pirates | 0.017543860 | 0.00000000 | 0.021276596 | 0.021645022 | 0.044776119 | 0.82352941 |\n",
              "| state_enf | 0.460526316 | 0.13471503 | 0.392434988 | 0.294372294 | 0.111940299 | 0.52941176 |\n",
              "| intl_multi_bod | 0.118421053 | 0.05181347 | 0.120567376 | 0.147186147 | 0.104477612 | 0.00000000 |\n",
              "| intl_ngo | 0.085526316 | 0.09326425 | 0.101654846 | 0.155844156 | 0.097014925 | 0.00000000 |\n",
              "| local_ngo | 0.026315789 | 0.10362694 | 0.021276596 | 0.021645022 | 0.007462687 | 0.00000000 |\n",
              "| natl_ngo | 0.052631579 | 0.22279793 | 0.115839243 | 0.086580087 | 0.074626866 | 0.05882353 |\n",
              "| intl_govt | 0.717105263 | 0.77202073 | 0.659574468 | 0.735930736 | 0.835820896 | 0.70588235 |\n",
              "| loc_govt | 0.133771930 | 0.19170984 | 0.137115839 | 0.164502165 | 0.126865672 | 0.17647059 |\n",
              "| ind_non_liv | 0.054824561 | 0.32642487 | 0.011820331 | 0.017316017 | 0.111940299 | 0.11764706 |\n",
              "| ind_living_res | 0.006578947 | 0.01554404 | 0.004728132 | 0.017316017 | 0.014925373 | 0.00000000 |\n",
              "\n"
            ],
            "text/plain": [
              "                access_space use_space  access_res  use_res     benef_dist_type\n",
              "subs_fisher     0.543859649  0.30051813 0.560283688 0.510822511 0.746268657    \n",
              "ind_fishers     0.506578947  0.16580311 0.536643026 0.619047619 0.507462687    \n",
              "fish_trad       0.035087719  0.03626943 0.106382979 0.095238095 0.201492537    \n",
              "subs_living_res 0.078947368  0.37305699 0.073286052 0.082251082 0.074626866    \n",
              "develop         0.030701754  0.10880829 0.002364066 0.008658009 0.029850746    \n",
              "comm_org        0.043859649  0.23316062 0.026004728 0.043290043 0.044776119    \n",
              "worker_union    0.179824561  0.11398964 0.196217494 0.186147186 0.388059701    \n",
              "pirates         0.017543860  0.00000000 0.021276596 0.021645022 0.044776119    \n",
              "state_enf       0.460526316  0.13471503 0.392434988 0.294372294 0.111940299    \n",
              "intl_multi_bod  0.118421053  0.05181347 0.120567376 0.147186147 0.104477612    \n",
              "intl_ngo        0.085526316  0.09326425 0.101654846 0.155844156 0.097014925    \n",
              "local_ngo       0.026315789  0.10362694 0.021276596 0.021645022 0.007462687    \n",
              "natl_ngo        0.052631579  0.22279793 0.115839243 0.086580087 0.074626866    \n",
              "intl_govt       0.717105263  0.77202073 0.659574468 0.735930736 0.835820896    \n",
              "loc_govt        0.133771930  0.19170984 0.137115839 0.164502165 0.126865672    \n",
              "ind_non_liv     0.054824561  0.32642487 0.011820331 0.017316017 0.111940299    \n",
              "ind_living_res  0.006578947  0.01554404 0.004728132 0.017316017 0.014925373    \n",
              "                piracy    \n",
              "subs_fisher     0.52941176\n",
              "ind_fishers     0.64705882\n",
              "fish_trad       0.11764706\n",
              "subs_living_res 0.05882353\n",
              "develop         0.00000000\n",
              "comm_org        0.00000000\n",
              "worker_union    0.23529412\n",
              "pirates         0.82352941\n",
              "state_enf       0.52941176\n",
              "intl_multi_bod  0.00000000\n",
              "intl_ngo        0.00000000\n",
              "local_ngo       0.00000000\n",
              "natl_ngo        0.05882353\n",
              "intl_govt       0.70588235\n",
              "loc_govt        0.17647059\n",
              "ind_non_liv     0.11764706\n",
              "ind_living_res  0.00000000"
            ]
          },
          "metadata": {},
          "output_type": "display_data"
        }
      ],
      "source": [
        "# total number of conflict by conflict types\n",
        "total <- data %>%\n",
        "    filter(!(piracy == 1 & total_conflict == 1)) %>%\n",
        "    select(all_of(conflict_type))\n",
        "\n",
        "\n",
        "# actor by confict types\n",
        "df_list <- map(conflict_type, ~ data %>%\n",
        "    filter(!(piracy == 1 & total_conflict == 1)) %>%\n",
        "    filter(.data[[.x]] == 1) %>%\n",
        "    select(all_of(actor_type_original)) %>%\n",
        "    mutate_all(as.numeric) %>%\n",
        "    reframe(var = actor_type_original, count = colSums(.)))\n",
        "\n",
        "\n",
        "df <- reduce(df_list, full_join, by = 'var')\n",
        "\n",
        "df <- as.data.frame(df)\n",
        "rownames(df) <- actor_type_original\n",
        "df <- df %>% select(-var)\n",
        "colnames(df) <- conflict_type\n",
        "\n",
        "\n",
        "df <- sweep(df, 2, colSums(total), `/`)\n",
        "df"
      ]
    },
    {
      "cell_type": "code",
      "execution_count": null,
      "metadata": {
        "colab": {
          "base_uri": "https://localhost:8080/",
          "height": 34
        },
        "id": "AtIkLF_0ZNk5",
        "outputId": "71b4bf29-9d7f-4460-aeeb-d310da7ddfba",
        "vscode": {
          "languageId": "r"
        }
      },
      "outputs": [
        {
          "data": {
            "text/html": [
              "<strong>png:</strong> 2"
            ],
            "text/latex": [
              "\\textbf{png:} 2"
            ],
            "text/markdown": [
              "**png:** 2"
            ],
            "text/plain": [
              "png \n",
              "  2 "
            ]
          },
          "metadata": {},
          "output_type": "display_data"
        }
      ],
      "source": [
        "# actors of interest\n",
        "foo <- df[c('intl_govt', 'subs_fisher', 'ind_fishers', 'state_enf'),]\n",
        "\n",
        "\n",
        "# add min and max\n",
        "foo <- rbind(rep(0, 6), foo)\n",
        "foo <- rbind(rep(1, 6), foo)\n",
        "\n",
        "foo <- foo * 100\n",
        "\n",
        "# color\n",
        "mycol = c('red', 'blue', 'orange', 'purple')\n",
        "\n",
        "create_beautiful_radarchart <- function(data, color = \"#00AFBB\",\n",
        "                                        vlabels = colnames(data), vlcex = 0.7,\n",
        "                                        caxislabels = NULL, title = NULL, ...){\n",
        "  radarchart(\n",
        "    data, axistype = 1,\n",
        "    # Customize the polygon\n",
        "    pcol = color, plwd = 2, plty = 1,\n",
        "    # Customize the grid\n",
        "    cglcol = \"grey\", cglty = 1, cglwd = 0.8,\n",
        "    # Customize the axis\n",
        "    axislabcol = \"grey\",\n",
        "    # Variable labels\n",
        "    vlcex = vlcex, vlabels = vlabels,\n",
        "    caxislabels = caxislabels, title = title, ...\n",
        "  )\n",
        "}\n",
        "\n",
        "\n",
        "pdf(\"actor_radar_chart.pdf\", width = 8, height = 8)\n",
        "\n",
        "# Reduce plot margin using par()\n",
        "op <- par(mar = c(1, 2, 2, 2))\n",
        "# Create the radar charts\n",
        "create_beautiful_radarchart(\n",
        "  data = foo,\n",
        "  color = mycol\n",
        ")\n",
        "# Add an horizontal legend\n",
        "legend(\n",
        "  x = \"bottom\", legend = rownames(foo[-c(1,2),]), horiz = TRUE,\n",
        "  bty = \"n\", pch = 20 , col = mycol,\n",
        "  text.col = \"black\", cex = 1, pt.cex = 1.5\n",
        "  )\n",
        "\n",
        "par(op)\n",
        "\n",
        "dev.off()"
      ]
    },
    {
      "cell_type": "markdown",
      "metadata": {
        "id": "woTq_s9dRWuI"
      },
      "source": [
        "# Scale"
      ]
    },
    {
      "cell_type": "code",
      "execution_count": null,
      "metadata": {
        "colab": {
          "base_uri": "https://localhost:8080/",
          "height": 221
        },
        "id": "epMaNzwHqLNg",
        "outputId": "513f2684-fc24-4500-9a15-e1f8af890e64",
        "vscode": {
          "languageId": "r"
        }
      },
      "outputs": [
        {
          "data": {
            "text/html": [
              "<table class=\"dataframe\">\n",
              "<caption>A tibble: 4 × 4</caption>\n",
              "<thead>\n",
              "\t<tr><th scope=col>var</th><th scope=col>count</th><th scope=col>total</th><th scope=col>prop</th></tr>\n",
              "\t<tr><th scope=col>&lt;chr&gt;</th><th scope=col>&lt;dbl&gt;</th><th scope=col>&lt;int&gt;</th><th scope=col>&lt;dbl&gt;</th></tr>\n",
              "</thead>\n",
              "<tbody>\n",
              "\t<tr><td>scale_nat </td><td>592</td><td>962</td><td>0.6153846</td></tr>\n",
              "\t<tr><td>scale_intl</td><td>528</td><td>962</td><td>0.5488565</td></tr>\n",
              "\t<tr><td>scale_loc </td><td>305</td><td>962</td><td>0.3170478</td></tr>\n",
              "\t<tr><td>scale_sect</td><td>107</td><td>962</td><td>0.1112266</td></tr>\n",
              "</tbody>\n",
              "</table>\n"
            ],
            "text/latex": [
              "A tibble: 4 × 4\n",
              "\\begin{tabular}{llll}\n",
              " var & count & total & prop\\\\\n",
              " <chr> & <dbl> & <int> & <dbl>\\\\\n",
              "\\hline\n",
              "\t scale\\_nat  & 592 & 962 & 0.6153846\\\\\n",
              "\t scale\\_intl & 528 & 962 & 0.5488565\\\\\n",
              "\t scale\\_loc  & 305 & 962 & 0.3170478\\\\\n",
              "\t scale\\_sect & 107 & 962 & 0.1112266\\\\\n",
              "\\end{tabular}\n"
            ],
            "text/markdown": [
              "\n",
              "A tibble: 4 × 4\n",
              "\n",
              "| var &lt;chr&gt; | count &lt;dbl&gt; | total &lt;int&gt; | prop &lt;dbl&gt; |\n",
              "|---|---|---|---|\n",
              "| scale_nat  | 592 | 962 | 0.6153846 |\n",
              "| scale_intl | 528 | 962 | 0.5488565 |\n",
              "| scale_loc  | 305 | 962 | 0.3170478 |\n",
              "| scale_sect | 107 | 962 | 0.1112266 |\n",
              "\n"
            ],
            "text/plain": [
              "  var        count total prop     \n",
              "1 scale_nat  592   962   0.6153846\n",
              "2 scale_intl 528   962   0.5488565\n",
              "3 scale_loc  305   962   0.3170478\n",
              "4 scale_sect 107   962   0.1112266"
            ]
          },
          "metadata": {},
          "output_type": "display_data"
        }
      ],
      "source": [
        "scale_type <- c('scale_loc', 'scale_sect', 'scale_nat', 'scale_intl')\n",
        "\n",
        "data %>%\n",
        "    filter(!(piracy == 1 & total_conflict == 1)) %>%\n",
        "    select(all_of(scale_type)) %>%\n",
        "    mutate_all(~ifelse(is.na(.x) | .x != 1, 0, .x)) %>%\n",
        "    reframe(var = scale_type, count = colSums(.), total = nrow(.)) %>%\n",
        "    mutate(prop = count/total) %>%\n",
        "    arrange(desc(count))"
      ]
    },
    {
      "cell_type": "markdown",
      "metadata": {
        "id": "udSreOKDS21m"
      },
      "source": [
        "# Stakeholder"
      ]
    },
    {
      "cell_type": "code",
      "execution_count": null,
      "metadata": {
        "colab": {
          "base_uri": "https://localhost:8080/",
          "height": 221
        },
        "id": "A0thM5bOS4B_",
        "outputId": "b6f66eb8-bd7b-4fcb-9dd3-c4a1a062f316",
        "vscode": {
          "languageId": "r"
        }
      },
      "outputs": [
        {
          "data": {
            "text/html": [
              "<table class=\"dataframe\">\n",
              "<caption>A tibble: 4 × 4</caption>\n",
              "<thead>\n",
              "\t<tr><th scope=col>var</th><th scope=col>count</th><th scope=col>total</th><th scope=col>prop</th></tr>\n",
              "\t<tr><th scope=col>&lt;chr&gt;</th><th scope=col>&lt;dbl&gt;</th><th scope=col>&lt;int&gt;</th><th scope=col>&lt;dbl&gt;</th></tr>\n",
              "</thead>\n",
              "<tbody>\n",
              "\t<tr><td>btw_users_gov</td><td>764</td><td>962</td><td>0.7941788</td></tr>\n",
              "\t<tr><td>btw_gov      </td><td>201</td><td>962</td><td>0.2089397</td></tr>\n",
              "\t<tr><td>same_sec     </td><td>100</td><td>962</td><td>0.1039501</td></tr>\n",
              "\t<tr><td>diff_sec     </td><td> 99</td><td>962</td><td>0.1029106</td></tr>\n",
              "</tbody>\n",
              "</table>\n"
            ],
            "text/latex": [
              "A tibble: 4 × 4\n",
              "\\begin{tabular}{llll}\n",
              " var & count & total & prop\\\\\n",
              " <chr> & <dbl> & <int> & <dbl>\\\\\n",
              "\\hline\n",
              "\t btw\\_users\\_gov & 764 & 962 & 0.7941788\\\\\n",
              "\t btw\\_gov       & 201 & 962 & 0.2089397\\\\\n",
              "\t same\\_sec      & 100 & 962 & 0.1039501\\\\\n",
              "\t diff\\_sec      &  99 & 962 & 0.1029106\\\\\n",
              "\\end{tabular}\n"
            ],
            "text/markdown": [
              "\n",
              "A tibble: 4 × 4\n",
              "\n",
              "| var &lt;chr&gt; | count &lt;dbl&gt; | total &lt;int&gt; | prop &lt;dbl&gt; |\n",
              "|---|---|---|---|\n",
              "| btw_users_gov | 764 | 962 | 0.7941788 |\n",
              "| btw_gov       | 201 | 962 | 0.2089397 |\n",
              "| same_sec      | 100 | 962 | 0.1039501 |\n",
              "| diff_sec      |  99 | 962 | 0.1029106 |\n",
              "\n"
            ],
            "text/plain": [
              "  var           count total prop     \n",
              "1 btw_users_gov 764   962   0.7941788\n",
              "2 btw_gov       201   962   0.2089397\n",
              "3 same_sec      100   962   0.1039501\n",
              "4 diff_sec       99   962   0.1029106"
            ]
          },
          "metadata": {},
          "output_type": "display_data"
        }
      ],
      "source": [
        "stakeholder_type <- c('same_sec', 'diff_sec', 'btw_users_gov', 'btw_gov')\n",
        "\n",
        "data %>%\n",
        "    filter(!(piracy == 1 & total_conflict == 1)) %>%\n",
        "    select(all_of(stakeholder_type)) %>%\n",
        "    mutate_all(~ifelse(is.na(.x) | .x != 1, 0, .x)) %>%\n",
        "    reframe(var = stakeholder_type, count = colSums(.), total=nrow(.)) %>%\n",
        "    mutate(prop = count/total) %>%\n",
        "    arrange(desc(count))"
      ]
    },
    {
      "cell_type": "markdown",
      "metadata": {
        "id": "5gJ0bZOnV_iA"
      },
      "source": [
        "# Resolution"
      ]
    },
    {
      "cell_type": "code",
      "execution_count": null,
      "metadata": {
        "colab": {
          "base_uri": "https://localhost:8080/",
          "height": 190
        },
        "id": "yMSC3wWgWA4b",
        "outputId": "2e4fe4e4-67e6-4ba4-e7c3-0bef851433b1",
        "vscode": {
          "languageId": "r"
        }
      },
      "outputs": [
        {
          "data": {
            "text/html": [
              "<table class=\"dataframe\">\n",
              "<caption>A tibble: 3 × 4</caption>\n",
              "<thead>\n",
              "\t<tr><th scope=col>var</th><th scope=col>count</th><th scope=col>total</th><th scope=col>prop</th></tr>\n",
              "\t<tr><th scope=col>&lt;chr&gt;</th><th scope=col>&lt;dbl&gt;</th><th scope=col>&lt;int&gt;</th><th scope=col>&lt;dbl&gt;</th></tr>\n",
              "</thead>\n",
              "<tbody>\n",
              "\t<tr><td>ev_unres    </td><td>647</td><td>962</td><td>0.67255717</td></tr>\n",
              "\t<tr><td>ev_res      </td><td>294</td><td>962</td><td>0.30561331</td></tr>\n",
              "\t<tr><td>ev_stalemate</td><td> 37</td><td>962</td><td>0.03846154</td></tr>\n",
              "</tbody>\n",
              "</table>\n"
            ],
            "text/latex": [
              "A tibble: 3 × 4\n",
              "\\begin{tabular}{llll}\n",
              " var & count & total & prop\\\\\n",
              " <chr> & <dbl> & <int> & <dbl>\\\\\n",
              "\\hline\n",
              "\t ev\\_unres     & 647 & 962 & 0.67255717\\\\\n",
              "\t ev\\_res       & 294 & 962 & 0.30561331\\\\\n",
              "\t ev\\_stalemate &  37 & 962 & 0.03846154\\\\\n",
              "\\end{tabular}\n"
            ],
            "text/markdown": [
              "\n",
              "A tibble: 3 × 4\n",
              "\n",
              "| var &lt;chr&gt; | count &lt;dbl&gt; | total &lt;int&gt; | prop &lt;dbl&gt; |\n",
              "|---|---|---|---|\n",
              "| ev_unres     | 647 | 962 | 0.67255717 |\n",
              "| ev_res       | 294 | 962 | 0.30561331 |\n",
              "| ev_stalemate |  37 | 962 | 0.03846154 |\n",
              "\n"
            ],
            "text/plain": [
              "  var          count total prop      \n",
              "1 ev_unres     647   962   0.67255717\n",
              "2 ev_res       294   962   0.30561331\n",
              "3 ev_stalemate  37   962   0.03846154"
            ]
          },
          "metadata": {},
          "output_type": "display_data"
        }
      ],
      "source": [
        "data %>%\n",
        "    filter(!(piracy==1 & total_conflict==1)) %>%\n",
        "    select(all_of(resolution_type)) %>%\n",
        "    mutate_all(as.numeric) %>%\n",
        "    reframe(var = resolution_type, count = colSums(.), total=nrow(.)) %>%\n",
        "    mutate(prop = count/total) %>%\n",
        "    arrange(desc(count))"
      ]
    },
    {
      "cell_type": "markdown",
      "metadata": {
        "id": "6OEm5WmGZVP5"
      },
      "source": [
        "Resolution by conflict types"
      ]
    },
    {
      "cell_type": "code",
      "execution_count": null,
      "metadata": {
        "colab": {
          "base_uri": "https://localhost:8080/",
          "height": 190
        },
        "id": "ozt_9w1iZXFl",
        "outputId": "076407ba-6abb-41d5-bef3-c57bcbc2d55d",
        "vscode": {
          "languageId": "r"
        }
      },
      "outputs": [
        {
          "data": {
            "text/html": [
              "<table class=\"dataframe\">\n",
              "<caption>A data.frame: 3 × 6</caption>\n",
              "<thead>\n",
              "\t<tr><th></th><th scope=col>access_space</th><th scope=col>use_space</th><th scope=col>access_res</th><th scope=col>use_res</th><th scope=col>benef_dist_type</th><th scope=col>piracy</th></tr>\n",
              "\t<tr><th></th><th scope=col>&lt;dbl&gt;</th><th scope=col>&lt;dbl&gt;</th><th scope=col>&lt;dbl&gt;</th><th scope=col>&lt;dbl&gt;</th><th scope=col>&lt;dbl&gt;</th><th scope=col>&lt;dbl&gt;</th></tr>\n",
              "</thead>\n",
              "<tbody>\n",
              "\t<tr><th scope=row>ev_stalemate</th><td>0.03655914</td><td>0.06060606</td><td>0.02347418</td><td>0.00862069</td><td>0.007407407</td><td>0.0000000</td></tr>\n",
              "\t<tr><th scope=row>ev_res</th><td>0.37419355</td><td>0.10606061</td><td>0.33098592</td><td>0.31465517</td><td>0.044444444</td><td>0.1176471</td></tr>\n",
              "\t<tr><th scope=row>ev_unres</th><td>0.58924731</td><td>0.83333333</td><td>0.64553991</td><td>0.67672414</td><td>0.948148148</td><td>0.8823529</td></tr>\n",
              "</tbody>\n",
              "</table>\n"
            ],
            "text/latex": [
              "A data.frame: 3 × 6\n",
              "\\begin{tabular}{r|llllll}\n",
              "  & access\\_space & use\\_space & access\\_res & use\\_res & benef\\_dist\\_type & piracy\\\\\n",
              "  & <dbl> & <dbl> & <dbl> & <dbl> & <dbl> & <dbl>\\\\\n",
              "\\hline\n",
              "\tev\\_stalemate & 0.03655914 & 0.06060606 & 0.02347418 & 0.00862069 & 0.007407407 & 0.0000000\\\\\n",
              "\tev\\_res & 0.37419355 & 0.10606061 & 0.33098592 & 0.31465517 & 0.044444444 & 0.1176471\\\\\n",
              "\tev\\_unres & 0.58924731 & 0.83333333 & 0.64553991 & 0.67672414 & 0.948148148 & 0.8823529\\\\\n",
              "\\end{tabular}\n"
            ],
            "text/markdown": [
              "\n",
              "A data.frame: 3 × 6\n",
              "\n",
              "| <!--/--> | access_space &lt;dbl&gt; | use_space &lt;dbl&gt; | access_res &lt;dbl&gt; | use_res &lt;dbl&gt; | benef_dist_type &lt;dbl&gt; | piracy &lt;dbl&gt; |\n",
              "|---|---|---|---|---|---|---|\n",
              "| ev_stalemate | 0.03655914 | 0.06060606 | 0.02347418 | 0.00862069 | 0.007407407 | 0.0000000 |\n",
              "| ev_res | 0.37419355 | 0.10606061 | 0.33098592 | 0.31465517 | 0.044444444 | 0.1176471 |\n",
              "| ev_unres | 0.58924731 | 0.83333333 | 0.64553991 | 0.67672414 | 0.948148148 | 0.8823529 |\n",
              "\n"
            ],
            "text/plain": [
              "             access_space use_space  access_res use_res    benef_dist_type\n",
              "ev_stalemate 0.03655914   0.06060606 0.02347418 0.00862069 0.007407407    \n",
              "ev_res       0.37419355   0.10606061 0.33098592 0.31465517 0.044444444    \n",
              "ev_unres     0.58924731   0.83333333 0.64553991 0.67672414 0.948148148    \n",
              "             piracy   \n",
              "ev_stalemate 0.0000000\n",
              "ev_res       0.1176471\n",
              "ev_unres     0.8823529"
            ]
          },
          "metadata": {},
          "output_type": "display_data"
        }
      ],
      "source": [
        "df_list <- map(conflict_type, ~ data %>%\n",
        "    filter(!(piracy == 1 & total_conflict == 1)) %>%\n",
        "    filter(.data[[.x]] == 1) %>%\n",
        "    select(all_of(resolution_type)) %>%\n",
        "    mutate_all(as.numeric) %>%\n",
        "    reframe(var = resolution_type, count = colSums(.)))\n",
        "\n",
        "df <- reduce(df_list, full_join, by = 'var')\n",
        "\n",
        "df <- as.data.frame(df)\n",
        "rownames(df) <- df$var\n",
        "df <- df %>% select(-var)\n",
        "colnames(df) <- conflict_type\n",
        "df <- sweep(df, 2, colSums(df), `/`)\n",
        "df"
      ]
    },
    {
      "cell_type": "markdown",
      "metadata": {
        "id": "5APKGRBTy8W3"
      },
      "source": [
        "bar chart for resolution"
      ]
    },
    {
      "cell_type": "code",
      "execution_count": null,
      "metadata": {
        "colab": {
          "base_uri": "https://localhost:8080/",
          "height": 437
        },
        "id": "sgQd4X6C6PA-",
        "outputId": "752df579-8ead-4f76-b56c-9dc9885c7641",
        "vscode": {
          "languageId": "r"
        }
      },
      "outputs": [
        {
          "data": {
            "image/png": "[encoded data removed]",
            "text/plain": [
              "plot without title"
            ]
          },
          "metadata": {
            "image/png": {
              "height": 420,
              "width": 420
            }
          },
          "output_type": "display_data"
        }
      ],
      "source": [
        "foo <- df\n",
        "foo$var <- rownames(foo)\n",
        "\n",
        "# convert to long\n",
        "bar <- melt(foo, id.vars='var',\n",
        "    measure.vars=conflict_type, variable.name=\"type\", value.name=\"prop\")\n",
        "\n",
        "# reorder\n",
        "bar$var <- factor(bar$var, levels = rev(c('ev_res', 'ev_unres', 'ev_stalemate')))\n",
        "\n",
        "x <- bar[bar$var=='ev_res',]\n",
        "bar$type <- factor(bar$type, levels = x$type[order(x$prop)])\n",
        "\n",
        "# Stacked + percent\n",
        "ggplot(bar, aes(fill=var, y=prop, x=type)) +\n",
        "    geom_bar(position=\"fill\", stat=\"identity\") +\n",
        "    coord_flip()\n",
        "\n",
        "ggsave('resolution_conflict.pdf', height = 3, width = 5)"
      ]
    },
    {
      "cell_type": "markdown",
      "metadata": {
        "id": "9k4P_4z8GpZO"
      },
      "source": [
        "Stats"
      ]
    },
    {
      "cell_type": "code",
      "execution_count": null,
      "metadata": {
        "colab": {
          "base_uri": "https://localhost:8080/",
          "height": 68
        },
        "id": "Nu-wcGkbGrEH",
        "outputId": "acfa8a0d-aded-4ee5-e1d3-8b7b6b2e276c",
        "vscode": {
          "languageId": "r"
        }
      },
      "outputs": [
        {
          "data": {
            "text/html": [
              "<strong>X-squared:</strong> 89.9388259562003"
            ],
            "text/latex": [
              "\\textbf{X-squared:} 89.9388259562003"
            ],
            "text/markdown": [
              "**X-squared:** 89.9388259562003"
            ],
            "text/plain": [
              "X-squared \n",
              " 89.93883 "
            ]
          },
          "metadata": {},
          "output_type": "display_data"
        },
        {
          "data": {
            "text/html": [
              "<strong>df:</strong> 5"
            ],
            "text/latex": [
              "\\textbf{df:} 5"
            ],
            "text/markdown": [
              "**df:** 5"
            ],
            "text/plain": [
              "df \n",
              " 5 "
            ]
          },
          "metadata": {},
          "output_type": "display_data"
        },
        {
          "data": {
            "text/html": [
              "6.9211115483317e-18"
            ],
            "text/latex": [
              "6.9211115483317e-18"
            ],
            "text/markdown": [
              "6.9211115483317e-18"
            ],
            "text/plain": [
              "[1] 6.921112e-18"
            ]
          },
          "metadata": {},
          "output_type": "display_data"
        }
      ],
      "source": [
        "# conflict type\n",
        "df_list <- map(conflict_type, ~ data %>%\n",
        "    filter(!(piracy == 1 & total_conflict == 1)) %>%\n",
        "    filter(.data[[.x]] == 1) %>%\n",
        "    select(all_of(resolution_type)) %>%\n",
        "    mutate_all(as.numeric) %>%\n",
        "    reframe(var = resolution_type, count = colSums(.)))\n",
        "\n",
        "df <- reduce(df_list, full_join, by = 'var')\n",
        "\n",
        "df <- as.data.frame(df)\n",
        "rownames(df) <- df$var\n",
        "df <- df %>% select(-var)\n",
        "colnames(df) <- conflict_type\n",
        "\n",
        "\n",
        "# comnine solved and stalemate\n",
        "foo <- as.data.frame(t(df))\n",
        "foo$unresolved <- foo$ev_unres\n",
        "foo$resolved <- foo$ev_stalemate + foo$ev_res\n",
        "foo <- foo[c('resolved', 'unresolved')]\n",
        "\n",
        "test <- chisq.test(foo)\n",
        "test$statistic\n",
        "test$parameter\n",
        "test$p.value"
      ]
    },
    {
      "cell_type": "code",
      "execution_count": null,
      "metadata": {
        "colab": {
          "base_uri": "https://localhost:8080/",
          "height": 68
        },
        "id": "zvmk6zFyJMFX",
        "outputId": "dc0dc6ba-a2a7-4f12-b418-3e7518b1e31e",
        "vscode": {
          "languageId": "r"
        }
      },
      "outputs": [
        {
          "data": {
            "text/html": [
              "<strong>X-squared:</strong> 155.329948254174"
            ],
            "text/latex": [
              "\\textbf{X-squared:} 155.329948254174"
            ],
            "text/markdown": [
              "**X-squared:** 155.329948254174"
            ],
            "text/plain": [
              "X-squared \n",
              " 155.3299 "
            ]
          },
          "metadata": {},
          "output_type": "display_data"
        },
        {
          "data": {
            "text/html": [
              "<strong>df:</strong> 3"
            ],
            "text/latex": [
              "\\textbf{df:} 3"
            ],
            "text/markdown": [
              "**df:** 3"
            ],
            "text/plain": [
              "df \n",
              " 3 "
            ]
          },
          "metadata": {},
          "output_type": "display_data"
        },
        {
          "data": {
            "text/html": [
              "1.8658099114881e-33"
            ],
            "text/latex": [
              "1.8658099114881e-33"
            ],
            "text/markdown": [
              "1.8658099114881e-33"
            ],
            "text/plain": [
              "[1] 1.86581e-33"
            ]
          },
          "metadata": {},
          "output_type": "display_data"
        }
      ],
      "source": [
        "# major actors\n",
        "actor_type_selected <- c('subs_fisher', 'ind_fishers', 'intl_govt', 'state_enf')\n",
        "\n",
        "df_list <- map(actor_type_selected, ~ data %>%\n",
        "    filter(!(piracy == 1 & total_conflict == 1)) %>%\n",
        "    filter(.data[[.x]] == 1) %>%\n",
        "    select(all_of(resolution_type)) %>%\n",
        "    mutate_all(as.numeric) %>%\n",
        "    reframe(var = resolution_type, count = colSums(.)))\n",
        "\n",
        "df <- reduce(df_list, full_join, by = 'var')\n",
        "\n",
        "df <- as.data.frame(df)\n",
        "rownames(df) <- df$var\n",
        "df <- df %>% select(-var)\n",
        "colnames(df) <- actor_type_selected\n",
        "\n",
        "\n",
        "# comnine solved and stalemate\n",
        "foo <- as.data.frame(t(df))\n",
        "foo$unresolved <- foo$ev_unres\n",
        "foo$resolved <- foo$ev_stalemate + foo$ev_res\n",
        "foo <- foo[c('resolved', 'unresolved')]\n",
        "\n",
        "test <- chisq.test(foo)\n",
        "test$statistic\n",
        "test$parameter\n",
        "test$p.value"
      ]
    },
    {
      "cell_type": "markdown",
      "metadata": {
        "id": "m39C6oB9CFSn"
      },
      "source": [
        "Resolution by actors"
      ]
    },
    {
      "cell_type": "code",
      "execution_count": null,
      "metadata": {
        "colab": {
          "base_uri": "https://localhost:8080/",
          "height": 190
        },
        "id": "yETXZkBHCIE7",
        "outputId": "17d84ad0-834a-44ff-958d-144fe78cd195",
        "vscode": {
          "languageId": "r"
        }
      },
      "outputs": [
        {
          "data": {
            "text/html": [
              "<table class=\"dataframe\">\n",
              "<caption>A data.frame: 3 × 4</caption>\n",
              "<thead>\n",
              "\t<tr><th></th><th scope=col>subs_fisher</th><th scope=col>ind_fishers</th><th scope=col>intl_govt</th><th scope=col>state_enf</th></tr>\n",
              "\t<tr><th></th><th scope=col>&lt;dbl&gt;</th><th scope=col>&lt;dbl&gt;</th><th scope=col>&lt;dbl&gt;</th><th scope=col>&lt;dbl&gt;</th></tr>\n",
              "</thead>\n",
              "<tbody>\n",
              "\t<tr><th scope=row>ev_stalemate</th><td>0.03632479</td><td>0.01259446</td><td>0.03519062</td><td>0.04371585</td></tr>\n",
              "\t<tr><th scope=row>ev_res</th><td>0.26068376</td><td>0.38035264</td><td>0.23313783</td><td>0.59562842</td></tr>\n",
              "\t<tr><th scope=row>ev_unres</th><td>0.70299145</td><td>0.60705290</td><td>0.73167155</td><td>0.36065574</td></tr>\n",
              "</tbody>\n",
              "</table>\n"
            ],
            "text/latex": [
              "A data.frame: 3 × 4\n",
              "\\begin{tabular}{r|llll}\n",
              "  & subs\\_fisher & ind\\_fishers & intl\\_govt & state\\_enf\\\\\n",
              "  & <dbl> & <dbl> & <dbl> & <dbl>\\\\\n",
              "\\hline\n",
              "\tev\\_stalemate & 0.03632479 & 0.01259446 & 0.03519062 & 0.04371585\\\\\n",
              "\tev\\_res & 0.26068376 & 0.38035264 & 0.23313783 & 0.59562842\\\\\n",
              "\tev\\_unres & 0.70299145 & 0.60705290 & 0.73167155 & 0.36065574\\\\\n",
              "\\end{tabular}\n"
            ],
            "text/markdown": [
              "\n",
              "A data.frame: 3 × 4\n",
              "\n",
              "| <!--/--> | subs_fisher &lt;dbl&gt; | ind_fishers &lt;dbl&gt; | intl_govt &lt;dbl&gt; | state_enf &lt;dbl&gt; |\n",
              "|---|---|---|---|---|\n",
              "| ev_stalemate | 0.03632479 | 0.01259446 | 0.03519062 | 0.04371585 |\n",
              "| ev_res | 0.26068376 | 0.38035264 | 0.23313783 | 0.59562842 |\n",
              "| ev_unres | 0.70299145 | 0.60705290 | 0.73167155 | 0.36065574 |\n",
              "\n"
            ],
            "text/plain": [
              "             subs_fisher ind_fishers intl_govt  state_enf \n",
              "ev_stalemate 0.03632479  0.01259446  0.03519062 0.04371585\n",
              "ev_res       0.26068376  0.38035264  0.23313783 0.59562842\n",
              "ev_unres     0.70299145  0.60705290  0.73167155 0.36065574"
            ]
          },
          "metadata": {},
          "output_type": "display_data"
        }
      ],
      "source": [
        "df_list <- map(actor_type_selected, ~ data %>%\n",
        "    filter(!(piracy == 1 & total_conflict == 1)) %>%\n",
        "    filter(.data[[.x]] == 1) %>%\n",
        "    select(all_of(resolution_type)) %>%\n",
        "    mutate_all(as.numeric) %>%\n",
        "    reframe(var = resolution_type, count = colSums(.)))\n",
        "\n",
        "df <- reduce(df_list, full_join, by = 'var')\n",
        "\n",
        "df <- as.data.frame(df)\n",
        "rownames(df) <- df$var\n",
        "df <- df %>% select(-var)\n",
        "colnames(df) <- actor_type_selected\n",
        "df <- sweep(df, 2, colSums(df), `/`)\n",
        "df"
      ]
    },
    {
      "cell_type": "markdown",
      "metadata": {
        "id": "CtZVawGeCJmm"
      },
      "source": [
        "bar chart"
      ]
    },
    {
      "cell_type": "code",
      "execution_count": null,
      "metadata": {
        "colab": {
          "base_uri": "https://localhost:8080/",
          "height": 437
        },
        "id": "P5_Z1YZ_CG0w",
        "outputId": "c9a89449-6812-4c89-e479-64901f4e9eda",
        "vscode": {
          "languageId": "r"
        }
      },
      "outputs": [
        {
          "data": {
            "image/png": "[encoded data removed]",
            "text/plain": [
              "plot without title"
            ]
          },
          "metadata": {
            "image/png": {
              "height": 420,
              "width": 420
            }
          },
          "output_type": "display_data"
        }
      ],
      "source": [
        "foo <- df\n",
        "foo$var <- rownames(foo)\n",
        "\n",
        "# convert to long\n",
        "bar <- melt(foo, id.vars='var',\n",
        "    measure.vars=actor_type_selected , variable.name=\"type\", value.name=\"prop\")\n",
        "\n",
        "# reorder\n",
        "bar$var <- factor(bar$var, levels = rev(c('ev_res', 'ev_unres', 'ev_stalemate')))\n",
        "\n",
        "x <- bar[bar$var=='ev_res',]\n",
        "bar$type <- factor(bar$type, levels = x$type[order(x$prop)])\n",
        "\n",
        "# Stacked + percent\n",
        "ggplot(bar, aes(fill=var, y=prop, x=type)) +\n",
        "    geom_bar(position=\"fill\", stat=\"identity\") +\n",
        "    coord_flip()\n",
        "\n",
        "ggsave('resolution_actor.pdf', height = 2, width = 5)"
      ]
    },
    {
      "cell_type": "markdown",
      "metadata": {
        "id": "edbLLiHau6El"
      },
      "source": [
        "# Path to resolution"
      ]
    },
    {
      "cell_type": "code",
      "execution_count": null,
      "metadata": {
        "colab": {
          "base_uri": "https://localhost:8080/",
          "height": 34
        },
        "id": "-9YkDWOC7PaT",
        "outputId": "bfa8609f-e477-43cc-fec5-83f11e47df41",
        "vscode": {
          "languageId": "r"
        }
      },
      "outputs": [
        {
          "data": {
            "text/html": [
              "0.928571428571429"
            ],
            "text/latex": [
              "0.928571428571429"
            ],
            "text/markdown": [
              "0.928571428571429"
            ],
            "text/plain": [
              "[1] 0.9285714"
            ]
          },
          "metadata": {},
          "output_type": "display_data"
        }
      ],
      "source": [
        "path_to_resolution_type <- c('ev_res_conf_med', 'ev_res_inc_gov', 'ev_leg_court_res', 'ransom')\n",
        "\n",
        "foo <- data %>%\n",
        "    filter(!(piracy==1 & total_conflict==1)) %>%\n",
        "    filter(ev_res==1) %>%\n",
        "    select(all_of(path_to_resolution_type)) %>%\n",
        "    mutate_all(~ifelse(.x > 0, 1, 0)) %>%\n",
        "    mutate(x = rowSums(.))\n",
        "\n",
        "nrow(foo[foo$x > 0, ])/nrow(foo)"
      ]
    },
    {
      "cell_type": "code",
      "execution_count": null,
      "metadata": {
        "colab": {
          "base_uri": "https://localhost:8080/",
          "height": 221
        },
        "id": "JMkTvEtp1ZJe",
        "outputId": "b2ef0365-6ede-4a2e-834d-3171c40d1374",
        "vscode": {
          "languageId": "r"
        }
      },
      "outputs": [
        {
          "data": {
            "text/html": [
              "<table class=\"dataframe\">\n",
              "<caption>A tibble: 4 × 4</caption>\n",
              "<thead>\n",
              "\t<tr><th scope=col>var</th><th scope=col>count</th><th scope=col>total</th><th scope=col>prop</th></tr>\n",
              "\t<tr><th scope=col>&lt;chr&gt;</th><th scope=col>&lt;dbl&gt;</th><th scope=col>&lt;int&gt;</th><th scope=col>&lt;dbl&gt;</th></tr>\n",
              "</thead>\n",
              "<tbody>\n",
              "\t<tr><td>ev_res_conf_med </td><td> 23</td><td>294</td><td>0.07823129</td></tr>\n",
              "\t<tr><td>ev_res_inc_gov  </td><td>219</td><td>294</td><td>0.74489796</td></tr>\n",
              "\t<tr><td>ev_leg_court_res</td><td> 60</td><td>294</td><td>0.20408163</td></tr>\n",
              "\t<tr><td>ransom          </td><td>  0</td><td>294</td><td>0.00000000</td></tr>\n",
              "</tbody>\n",
              "</table>\n"
            ],
            "text/latex": [
              "A tibble: 4 × 4\n",
              "\\begin{tabular}{llll}\n",
              " var & count & total & prop\\\\\n",
              " <chr> & <dbl> & <int> & <dbl>\\\\\n",
              "\\hline\n",
              "\t ev\\_res\\_conf\\_med  &  23 & 294 & 0.07823129\\\\\n",
              "\t ev\\_res\\_inc\\_gov   & 219 & 294 & 0.74489796\\\\\n",
              "\t ev\\_leg\\_court\\_res &  60 & 294 & 0.20408163\\\\\n",
              "\t ransom           &   0 & 294 & 0.00000000\\\\\n",
              "\\end{tabular}\n"
            ],
            "text/markdown": [
              "\n",
              "A tibble: 4 × 4\n",
              "\n",
              "| var &lt;chr&gt; | count &lt;dbl&gt; | total &lt;int&gt; | prop &lt;dbl&gt; |\n",
              "|---|---|---|---|\n",
              "| ev_res_conf_med  |  23 | 294 | 0.07823129 |\n",
              "| ev_res_inc_gov   | 219 | 294 | 0.74489796 |\n",
              "| ev_leg_court_res |  60 | 294 | 0.20408163 |\n",
              "| ransom           |   0 | 294 | 0.00000000 |\n",
              "\n"
            ],
            "text/plain": [
              "  var              count total prop      \n",
              "1 ev_res_conf_med   23   294   0.07823129\n",
              "2 ev_res_inc_gov   219   294   0.74489796\n",
              "3 ev_leg_court_res  60   294   0.20408163\n",
              "4 ransom             0   294   0.00000000"
            ]
          },
          "metadata": {},
          "output_type": "display_data"
        }
      ],
      "source": [
        "data %>%\n",
        "    filter(!(piracy==1 & total_conflict==1)) %>%\n",
        "    filter(ev_res==1) %>%\n",
        "    select(all_of(path_to_resolution_type)) %>%\n",
        "    mutate_all(~ifelse(.x > 0, 1, 0)) %>%\n",
        "    reframe(var = path_to_resolution_type, count = colSums(.), total = nrow(.)) %>%\n",
        "    mutate(prop = count/total)\n"
      ]
    },
    {
      "cell_type": "markdown",
      "metadata": {
        "id": "wZvxdVji50Ba"
      },
      "source": [
        "Only the factor"
      ]
    },
    {
      "cell_type": "code",
      "execution_count": null,
      "metadata": {
        "colab": {
          "base_uri": "https://localhost:8080/",
          "height": 34
        },
        "id": "Koz56OIN52sw",
        "outputId": "50c44cb1-e138-41be-c70d-5efe2c627581",
        "vscode": {
          "languageId": "r"
        }
      },
      "outputs": [
        {
          "data": {
            "text/html": [
              "0.894977168949772"
            ],
            "text/latex": [
              "0.894977168949772"
            ],
            "text/markdown": [
              "0.894977168949772"
            ],
            "text/plain": [
              "[1] 0.8949772"
            ]
          },
          "metadata": {},
          "output_type": "display_data"
        }
      ],
      "source": [
        "foo <- data %>%\n",
        "    filter(!(piracy==1 & total_conflict==1)) %>%\n",
        "    filter(ev_res==1) %>%\n",
        "    select(all_of(path_to_resolution_type)) %>%\n",
        "    mutate_all(~ifelse(.x > 0, 1, 0)) %>%\n",
        "    mutate(x = rowSums(.))\n",
        "\n",
        "only_factor <- foo[foo$ev_res_inc_gov == 1 & foo$x == 1,]\n",
        "part_factor <- foo[foo$ev_res_inc_gov == 1 & foo$x > 0,]\n",
        "\n",
        "nrow(only_factor)/nrow(part_factor)"
      ]
    },
    {
      "cell_type": "code",
      "execution_count": null,
      "metadata": {
        "colab": {
          "base_uri": "https://localhost:8080/",
          "height": 34
        },
        "id": "hLJxNWW36YX2",
        "outputId": "769b3ac9-b035-4904-92b4-c09eca515ad8",
        "vscode": {
          "languageId": "r"
        }
      },
      "outputs": [
        {
          "data": {
            "text/html": [
              "0.583333333333333"
            ],
            "text/latex": [
              "0.583333333333333"
            ],
            "text/markdown": [
              "0.583333333333333"
            ],
            "text/plain": [
              "[1] 0.5833333"
            ]
          },
          "metadata": {},
          "output_type": "display_data"
        }
      ],
      "source": [
        "foo <- data %>%\n",
        "    filter(!(piracy==1 & total_conflict==1)) %>%\n",
        "    filter(ev_res==1) %>%\n",
        "    select(all_of(path_to_resolution_type)) %>%\n",
        "    mutate_all(~ifelse(.x > 0, 1, 0)) %>%\n",
        "    mutate(x = rowSums(.))\n",
        "\n",
        "only_factor <- foo[foo$ev_leg_court_res == 1 & foo$x == 1,]\n",
        "part_factor <- foo[foo$ev_leg_court_res == 1 & foo$x > 0,]\n",
        "\n",
        "nrow(only_factor)/nrow(part_factor)"
      ]
    },
    {
      "cell_type": "markdown",
      "metadata": {
        "id": "ftLvE891qHaY"
      },
      "source": [
        "Other"
      ]
    },
    {
      "cell_type": "code",
      "execution_count": null,
      "metadata": {
        "colab": {
          "base_uri": "https://localhost:8080/",
          "height": 34
        },
        "id": "uqFBnvlgqInR",
        "outputId": "034bd8c6-c316-49df-f4ff-958a0cb2ff50",
        "vscode": {
          "languageId": "r"
        }
      },
      "outputs": [
        {
          "data": {
            "text/html": [
              "0.858208955223881"
            ],
            "text/latex": [
              "0.858208955223881"
            ],
            "text/markdown": [
              "0.858208955223881"
            ],
            "text/plain": [
              "[1] 0.858209"
            ]
          },
          "metadata": {},
          "output_type": "display_data"
        }
      ],
      "source": [
        "# Benefit distribution as a conflict type & a driver\n",
        "foo <- data %>%\n",
        "    filter(!(piracy==1 & total_conflict==1)) %>%\n",
        "    select(benef_dist_type, benef_dist_driv)\n",
        "\n",
        "\n",
        "nrow(foo[foo$benef_dist_type == 1 & foo$benef_dist_driv == 1,])/nrow(foo[foo$benef_dist_type == 1,])"
      ]
    },
    {
      "cell_type": "code",
      "execution_count": null,
      "metadata": {
        "colab": {
          "base_uri": "https://localhost:8080/",
          "height": 34
        },
        "id": "EwtSbg9mrUoX",
        "outputId": "e00b9498-caf9-4d0f-9165-413d4c76f19b",
        "vscode": {
          "languageId": "r"
        }
      },
      "outputs": [
        {
          "data": {
            "text/html": [
              "0.666666666666667"
            ],
            "text/latex": [
              "0.666666666666667"
            ],
            "text/markdown": [
              "0.666666666666667"
            ],
            "text/plain": [
              "[1] 0.6666667"
            ]
          },
          "metadata": {},
          "output_type": "display_data"
        }
      ],
      "source": [
        "# small-scale fisher as actor & benefit distribution as a driver\n",
        "foo <- data %>%\n",
        "    filter(!(piracy==1 & total_conflict==1)) %>%\n",
        "    select(subs_fisher, benef_dist_driv)\n",
        "\n",
        "nrow(foo[foo$subs_fisher == 1 & foo$benef_dist_driv == 1,])/nrow(foo[foo$benef_dist_driv == 1,])"
      ]
    },
    {
      "cell_type": "code",
      "execution_count": null,
      "metadata": {
        "colab": {
          "base_uri": "https://localhost:8080/",
          "height": 34
        },
        "id": "lQ_1xr4Vsb-D",
        "outputId": "c502ad8a-5a71-41bd-95a1-281a418100a0",
        "vscode": {
          "languageId": "r"
        }
      },
      "outputs": [
        {
          "data": {
            "text/html": [
              "0.746268656716418"
            ],
            "text/latex": [
              "0.746268656716418"
            ],
            "text/markdown": [
              "0.746268656716418"
            ],
            "text/plain": [
              "[1] 0.7462687"
            ]
          },
          "metadata": {},
          "output_type": "display_data"
        }
      ],
      "source": [
        "# small-scale fisher as actor & benefit distribution as a driver\n",
        "foo <- data %>%\n",
        "    filter(!(piracy==1 & total_conflict==1)) %>%\n",
        "    select(subs_fisher, benef_dist_type)\n",
        "\n",
        "nrow(foo[foo$subs_fisher == 1 & foo$benef_dist_type == 1,])/nrow(foo[foo$benef_dist_type == 1,])"
      ]
    },
    {
      "cell_type": "code",
      "execution_count": null,
      "metadata": {
        "colab": {
          "base_uri": "https://localhost:8080/",
          "height": 624
        },
        "id": "uC9cqrk1tdmF",
        "outputId": "b1b64b7f-b345-4ba1-8f70-565090ad799b",
        "vscode": {
          "languageId": "r"
        }
      },
      "outputs": [
        {
          "data": {
            "text/html": [
              "<table class=\"dataframe\">\n",
              "<caption>A tibble: 17 × 4</caption>\n",
              "<thead>\n",
              "\t<tr><th scope=col>actor</th><th scope=col>count</th><th scope=col>total</th><th scope=col>prop</th></tr>\n",
              "\t<tr><th scope=col>&lt;chr&gt;</th><th scope=col>&lt;dbl&gt;</th><th scope=col>&lt;int&gt;</th><th scope=col>&lt;dbl&gt;</th></tr>\n",
              "</thead>\n",
              "<tbody>\n",
              "\t<tr><td>state_enf      </td><td>183</td><td>219</td><td>0.83561644</td></tr>\n",
              "\t<tr><td>ind_fishers    </td><td>134</td><td>219</td><td>0.61187215</td></tr>\n",
              "\t<tr><td>intl_govt      </td><td>108</td><td>219</td><td>0.49315068</td></tr>\n",
              "\t<tr><td>subs_fisher    </td><td> 80</td><td>219</td><td>0.36529680</td></tr>\n",
              "\t<tr><td>intl_ngo       </td><td> 19</td><td>219</td><td>0.08675799</td></tr>\n",
              "\t<tr><td>loc_govt       </td><td> 19</td><td>219</td><td>0.08675799</td></tr>\n",
              "\t<tr><td>intl_multi_bod </td><td> 18</td><td>219</td><td>0.08219178</td></tr>\n",
              "\t<tr><td>natl_ngo       </td><td> 13</td><td>219</td><td>0.05936073</td></tr>\n",
              "\t<tr><td>fish_trad      </td><td> 11</td><td>219</td><td>0.05022831</td></tr>\n",
              "\t<tr><td>subs_living_res</td><td> 11</td><td>219</td><td>0.05022831</td></tr>\n",
              "\t<tr><td>ind_non_liv    </td><td>  5</td><td>219</td><td>0.02283105</td></tr>\n",
              "\t<tr><td>worker_union   </td><td>  3</td><td>219</td><td>0.01369863</td></tr>\n",
              "\t<tr><td>pirates        </td><td>  3</td><td>219</td><td>0.01369863</td></tr>\n",
              "\t<tr><td>local_ngo      </td><td>  3</td><td>219</td><td>0.01369863</td></tr>\n",
              "\t<tr><td>comm_org       </td><td>  2</td><td>219</td><td>0.00913242</td></tr>\n",
              "\t<tr><td>develop        </td><td>  1</td><td>219</td><td>0.00456621</td></tr>\n",
              "\t<tr><td>ind_living_res </td><td>  0</td><td>219</td><td>0.00000000</td></tr>\n",
              "</tbody>\n",
              "</table>\n"
            ],
            "text/latex": [
              "A tibble: 17 × 4\n",
              "\\begin{tabular}{llll}\n",
              " actor & count & total & prop\\\\\n",
              " <chr> & <dbl> & <int> & <dbl>\\\\\n",
              "\\hline\n",
              "\t state\\_enf       & 183 & 219 & 0.83561644\\\\\n",
              "\t ind\\_fishers     & 134 & 219 & 0.61187215\\\\\n",
              "\t intl\\_govt       & 108 & 219 & 0.49315068\\\\\n",
              "\t subs\\_fisher     &  80 & 219 & 0.36529680\\\\\n",
              "\t intl\\_ngo        &  19 & 219 & 0.08675799\\\\\n",
              "\t loc\\_govt        &  19 & 219 & 0.08675799\\\\\n",
              "\t intl\\_multi\\_bod  &  18 & 219 & 0.08219178\\\\\n",
              "\t natl\\_ngo        &  13 & 219 & 0.05936073\\\\\n",
              "\t fish\\_trad       &  11 & 219 & 0.05022831\\\\\n",
              "\t subs\\_living\\_res &  11 & 219 & 0.05022831\\\\\n",
              "\t ind\\_non\\_liv     &   5 & 219 & 0.02283105\\\\\n",
              "\t worker\\_union    &   3 & 219 & 0.01369863\\\\\n",
              "\t pirates         &   3 & 219 & 0.01369863\\\\\n",
              "\t local\\_ngo       &   3 & 219 & 0.01369863\\\\\n",
              "\t comm\\_org        &   2 & 219 & 0.00913242\\\\\n",
              "\t develop         &   1 & 219 & 0.00456621\\\\\n",
              "\t ind\\_living\\_res  &   0 & 219 & 0.00000000\\\\\n",
              "\\end{tabular}\n"
            ],
            "text/markdown": [
              "\n",
              "A tibble: 17 × 4\n",
              "\n",
              "| actor &lt;chr&gt; | count &lt;dbl&gt; | total &lt;int&gt; | prop &lt;dbl&gt; |\n",
              "|---|---|---|---|\n",
              "| state_enf       | 183 | 219 | 0.83561644 |\n",
              "| ind_fishers     | 134 | 219 | 0.61187215 |\n",
              "| intl_govt       | 108 | 219 | 0.49315068 |\n",
              "| subs_fisher     |  80 | 219 | 0.36529680 |\n",
              "| intl_ngo        |  19 | 219 | 0.08675799 |\n",
              "| loc_govt        |  19 | 219 | 0.08675799 |\n",
              "| intl_multi_bod  |  18 | 219 | 0.08219178 |\n",
              "| natl_ngo        |  13 | 219 | 0.05936073 |\n",
              "| fish_trad       |  11 | 219 | 0.05022831 |\n",
              "| subs_living_res |  11 | 219 | 0.05022831 |\n",
              "| ind_non_liv     |   5 | 219 | 0.02283105 |\n",
              "| worker_union    |   3 | 219 | 0.01369863 |\n",
              "| pirates         |   3 | 219 | 0.01369863 |\n",
              "| local_ngo       |   3 | 219 | 0.01369863 |\n",
              "| comm_org        |   2 | 219 | 0.00913242 |\n",
              "| develop         |   1 | 219 | 0.00456621 |\n",
              "| ind_living_res  |   0 | 219 | 0.00000000 |\n",
              "\n"
            ],
            "text/plain": [
              "   actor           count total prop      \n",
              "1  state_enf       183   219   0.83561644\n",
              "2  ind_fishers     134   219   0.61187215\n",
              "3  intl_govt       108   219   0.49315068\n",
              "4  subs_fisher      80   219   0.36529680\n",
              "5  intl_ngo         19   219   0.08675799\n",
              "6  loc_govt         19   219   0.08675799\n",
              "7  intl_multi_bod   18   219   0.08219178\n",
              "8  natl_ngo         13   219   0.05936073\n",
              "9  fish_trad        11   219   0.05022831\n",
              "10 subs_living_res  11   219   0.05022831\n",
              "11 ind_non_liv       5   219   0.02283105\n",
              "12 worker_union      3   219   0.01369863\n",
              "13 pirates           3   219   0.01369863\n",
              "14 local_ngo         3   219   0.01369863\n",
              "15 comm_org          2   219   0.00913242\n",
              "16 develop           1   219   0.00456621\n",
              "17 ind_living_res    0   219   0.00000000"
            ]
          },
          "metadata": {},
          "output_type": "display_data"
        }
      ],
      "source": [
        "# actors associated with increased governance or enforcement (ev_res_inc_gov) as path to resolution\n",
        "data %>%\n",
        "    filter(!(piracy==1 & total_conflict==1)) %>%\n",
        "    mutate_at(path_to_resolution_type, ~ifelse(.x > 0, 1, 0)) %>%\n",
        "    filter(ev_res_inc_gov == 1) %>%\n",
        "    select(all_of(actor_type_original)) %>%\n",
        "    reframe(actor = actor_type_original, count = colSums(.), total = nrow(.)) %>%\n",
        "    mutate(prop = count/total) %>%\n",
        "    arrange(desc(prop))"
      ]
    },
    {
      "cell_type": "code",
      "execution_count": null,
      "metadata": {
        "colab": {
          "base_uri": "https://localhost:8080/",
          "height": 221
        },
        "id": "0DfVhAdDwmtF",
        "outputId": "00a833ca-5a8b-4cb8-b967-9e6ffaab838d",
        "vscode": {
          "languageId": "r"
        }
      },
      "outputs": [
        {
          "data": {
            "text/html": [
              "<table class=\"dataframe\">\n",
              "<caption>A tibble: 4 × 4</caption>\n",
              "<thead>\n",
              "\t<tr><th scope=col>p2r</th><th scope=col>count</th><th scope=col>total</th><th scope=col>prop</th></tr>\n",
              "\t<tr><th scope=col>&lt;chr&gt;</th><th scope=col>&lt;dbl&gt;</th><th scope=col>&lt;int&gt;</th><th scope=col>&lt;dbl&gt;</th></tr>\n",
              "</thead>\n",
              "<tbody>\n",
              "\t<tr><td>ev_res_inc_gov  </td><td>80</td><td>122</td><td>0.6557377</td></tr>\n",
              "\t<tr><td>ev_leg_court_res</td><td>21</td><td>122</td><td>0.1721311</td></tr>\n",
              "\t<tr><td>ev_res_conf_med </td><td>18</td><td>122</td><td>0.1475410</td></tr>\n",
              "\t<tr><td>ransom          </td><td> 0</td><td>122</td><td>0.0000000</td></tr>\n",
              "</tbody>\n",
              "</table>\n"
            ],
            "text/latex": [
              "A tibble: 4 × 4\n",
              "\\begin{tabular}{llll}\n",
              " p2r & count & total & prop\\\\\n",
              " <chr> & <dbl> & <int> & <dbl>\\\\\n",
              "\\hline\n",
              "\t ev\\_res\\_inc\\_gov   & 80 & 122 & 0.6557377\\\\\n",
              "\t ev\\_leg\\_court\\_res & 21 & 122 & 0.1721311\\\\\n",
              "\t ev\\_res\\_conf\\_med  & 18 & 122 & 0.1475410\\\\\n",
              "\t ransom           &  0 & 122 & 0.0000000\\\\\n",
              "\\end{tabular}\n"
            ],
            "text/markdown": [
              "\n",
              "A tibble: 4 × 4\n",
              "\n",
              "| p2r &lt;chr&gt; | count &lt;dbl&gt; | total &lt;int&gt; | prop &lt;dbl&gt; |\n",
              "|---|---|---|---|\n",
              "| ev_res_inc_gov   | 80 | 122 | 0.6557377 |\n",
              "| ev_leg_court_res | 21 | 122 | 0.1721311 |\n",
              "| ev_res_conf_med  | 18 | 122 | 0.1475410 |\n",
              "| ransom           |  0 | 122 | 0.0000000 |\n",
              "\n"
            ],
            "text/plain": [
              "  p2r              count total prop     \n",
              "1 ev_res_inc_gov   80    122   0.6557377\n",
              "2 ev_leg_court_res 21    122   0.1721311\n",
              "3 ev_res_conf_med  18    122   0.1475410\n",
              "4 ransom            0    122   0.0000000"
            ]
          },
          "metadata": {},
          "output_type": "display_data"
        }
      ],
      "source": [
        "# path to resolution for small-scale fishers\n",
        "data %>%\n",
        "    filter(!(piracy==1 & total_conflict==1)) %>%\n",
        "    filter(subs_fisher == 1 & ev_res == 1) %>%\n",
        "    mutate_at(path_to_resolution_type, ~ifelse(.x > 0, 1, 0)) %>%\n",
        "    select(all_of(path_to_resolution_type)) %>%\n",
        "    reframe(p2r = path_to_resolution_type, count = colSums(.), total = nrow(.)) %>%\n",
        "    mutate(prop = count/total) %>%\n",
        "    arrange(desc(prop))"
      ]
    },
    {
      "cell_type": "code",
      "execution_count": null,
      "metadata": {
        "colab": {
          "base_uri": "https://localhost:8080/",
          "height": 221
        },
        "id": "W0RtHOQuyC5W",
        "outputId": "3891d936-4e45-442d-ba0d-650eb6260a20",
        "vscode": {
          "languageId": "r"
        }
      },
      "outputs": [
        {
          "data": {
            "text/html": [
              "<table class=\"dataframe\">\n",
              "<caption>A tibble: 4 × 4</caption>\n",
              "<thead>\n",
              "\t<tr><th scope=col>p2r</th><th scope=col>count</th><th scope=col>total</th><th scope=col>prop</th></tr>\n",
              "\t<tr><th scope=col>&lt;chr&gt;</th><th scope=col>&lt;dbl&gt;</th><th scope=col>&lt;int&gt;</th><th scope=col>&lt;dbl&gt;</th></tr>\n",
              "</thead>\n",
              "<tbody>\n",
              "\t<tr><td>ev_res_inc_gov  </td><td>134</td><td>151</td><td>0.8874172</td></tr>\n",
              "\t<tr><td>ev_leg_court_res</td><td> 24</td><td>151</td><td>0.1589404</td></tr>\n",
              "\t<tr><td>ev_res_conf_med </td><td>  6</td><td>151</td><td>0.0397351</td></tr>\n",
              "\t<tr><td>ransom          </td><td>  0</td><td>151</td><td>0.0000000</td></tr>\n",
              "</tbody>\n",
              "</table>\n"
            ],
            "text/latex": [
              "A tibble: 4 × 4\n",
              "\\begin{tabular}{llll}\n",
              " p2r & count & total & prop\\\\\n",
              " <chr> & <dbl> & <int> & <dbl>\\\\\n",
              "\\hline\n",
              "\t ev\\_res\\_inc\\_gov   & 134 & 151 & 0.8874172\\\\\n",
              "\t ev\\_leg\\_court\\_res &  24 & 151 & 0.1589404\\\\\n",
              "\t ev\\_res\\_conf\\_med  &   6 & 151 & 0.0397351\\\\\n",
              "\t ransom           &   0 & 151 & 0.0000000\\\\\n",
              "\\end{tabular}\n"
            ],
            "text/markdown": [
              "\n",
              "A tibble: 4 × 4\n",
              "\n",
              "| p2r &lt;chr&gt; | count &lt;dbl&gt; | total &lt;int&gt; | prop &lt;dbl&gt; |\n",
              "|---|---|---|---|\n",
              "| ev_res_inc_gov   | 134 | 151 | 0.8874172 |\n",
              "| ev_leg_court_res |  24 | 151 | 0.1589404 |\n",
              "| ev_res_conf_med  |   6 | 151 | 0.0397351 |\n",
              "| ransom           |   0 | 151 | 0.0000000 |\n",
              "\n"
            ],
            "text/plain": [
              "  p2r              count total prop     \n",
              "1 ev_res_inc_gov   134   151   0.8874172\n",
              "2 ev_leg_court_res  24   151   0.1589404\n",
              "3 ev_res_conf_med    6   151   0.0397351\n",
              "4 ransom             0   151   0.0000000"
            ]
          },
          "metadata": {},
          "output_type": "display_data"
        }
      ],
      "source": [
        "# path to resolution for industrial fishers\n",
        "data %>%\n",
        "    filter(!(piracy==1 & total_conflict==1)) %>%\n",
        "    filter(ind_fishers == 1 & ev_res == 1) %>%\n",
        "    mutate_at(path_to_resolution_type, ~ifelse(.x > 0, 1, 0)) %>%\n",
        "    select(all_of(path_to_resolution_type)) %>%\n",
        "    reframe(p2r = path_to_resolution_type, count = colSums(.), total = nrow(.)) %>%\n",
        "    mutate(prop = count/total) %>%\n",
        "    arrange(desc(prop))"
      ]
    }
  ],
  "metadata": {
    "colab": {
      "provenance": [],
      "authorship_tag": "ABX9TyMeUzbcwfEOmeba3cfAvZwb",
      "include_colab_link": true
    },
    "kernelspec": {
      "display_name": "R",
      "name": "ir"
    },
    "language_info": {
      "name": "R"
    }
  },
  "nbformat": 4,
  "nbformat_minor": 0
}