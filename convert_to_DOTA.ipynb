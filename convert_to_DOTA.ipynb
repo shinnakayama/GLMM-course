{
  "nbformat": 4,
  "nbformat_minor": 0,
  "metadata": {
    "colab": {
      "provenance": [],
      "authorship_tag": "ABX9TyPIum2BKmccIovScUemMsjW",
      "include_colab_link": true
    },
    "kernelspec": {
      "name": "python3",
      "display_name": "Python 3"
    },
    "language_info": {
      "name": "python"
    }
  },
  "cells": [
    {
      "cell_type": "markdown",
      "metadata": {
        "id": "view-in-github",
        "colab_type": "text"
      },
      "source": [
        "<a href=\"https://colab.research.google.com/github/shinnakayama/GLMM-course/blob/master/convert_to_DOTA.ipynb\" target=\"_parent\"><img src=\"https://colab.research.google.com/assets/colab-badge.svg\" alt=\"Open In Colab\"/></a>"
      ]
    },
    {
      "cell_type": "code",
      "execution_count": 43,
      "metadata": {
        "id": "dGeUpD2tOHYp"
      },
      "outputs": [],
      "source": [
        "import numpy as np\n",
        "import pandas as pd\n",
        "import json\n",
        "import os\n",
        "from PIL import Image, ImageDraw\n",
        "import math\n",
        "from google.cloud import storage"
      ]
    },
    {
      "cell_type": "markdown",
      "source": [
        "Auth Google Cloud"
      ],
      "metadata": {
        "id": "auNLFqtSZRoI"
      }
    },
    {
      "cell_type": "code",
      "source": [
        "!gcloud config set project planetport\n",
        "\n",
        "from google.colab import auth\n",
        "auth.authenticate_user()"
      ],
      "metadata": {
        "id": "Q1UlKhqsZQr_"
      },
      "execution_count": null,
      "outputs": []
    },
    {
      "cell_type": "markdown",
      "source": [
        "Download gcsfuse and mount Google Cloud Storage bucket"
      ],
      "metadata": {
        "id": "yLadH9qwgYfb"
      }
    },
    {
      "cell_type": "code",
      "source": [
        "!echo \"deb http://packages.cloud.google.com/apt gcsfuse-bionic main\" > /etc/apt/sources.list.d/gcsfuse.list\n",
        "!curl https://packages.cloud.google.com/apt/doc/apt-key.gpg | apt-key add -\n",
        "!apt -qq update\n",
        "!apt -qq install gcsfuse\n",
        "\n",
        "# create a folder to mount\n",
        "temp_folder_name = 'temp/'\n",
        "if not os.path.exists(temp_folder_name):\n",
        "    os.mkdir(temp_folder_name)\n",
        "\n",
        "# mount\n",
        "my_bucket = 'planet_imagery'\n",
        "!gcsfuse --implicit-dirs {my_bucket} {temp_folder_name}"
      ],
      "metadata": {
        "colab": {
          "base_uri": "https://localhost:8080/"
        },
        "id": "Sm7rtYhggTMM",
        "outputId": "2bb9790d-fbfe-4892-8fb7-0c0633349e2c"
      },
      "execution_count": 45,
      "outputs": [
        {
          "output_type": "stream",
          "name": "stdout",
          "text": [
            "gcsfuse is already the newest version (1.2.0).\n",
            "0 upgraded, 0 newly installed, 0 to remove and 32 not upgraded.\n",
            "{\"time\":\"06/10/2023 01:34:23.285636\",\"severity\":\"INFO\",\"msg\":\"Start gcsfuse/1.2.0 (Go version go1.21.0) for app \\\"\\\" using mount point: /content/temp\\n\"}\n"
          ]
        }
      ]
    },
    {
      "cell_type": "markdown",
      "source": [
        "Load data and add GSD"
      ],
      "metadata": {
        "id": "yhltYQ2Tgx-J"
      }
    },
    {
      "cell_type": "code",
      "source": [
        "prefix = 'tema_2022'\n",
        "\n",
        "# output of Label Studio\n",
        "labels = pd.read_csv('temp/' + prefix+ '/labels.csv')\n",
        "labels['image_id'] = ['_'.join(x.split('/')[-1][9:].split('_')[:3]) for x in labels['image']]\n",
        "\n",
        "\n",
        "# from \"chop_images.ipynb\"\n",
        "image_info = pd.read_csv('temp/' + prefix + '/image_info.csv')\n",
        "image_info['image_id'] = ['_'.join(x.split('_')[:3]) for x in image_info['image']]\n",
        "\n",
        "\n",
        "# add gsd to label\n",
        "labels = pd.merge(labels, image_info[['image_id', 'gsd']], how='left', on='image_id')"
      ],
      "metadata": {
        "id": "6JYlhx2hOVym"
      },
      "execution_count": 32,
      "outputs": []
    },
    {
      "cell_type": "markdown",
      "source": [
        "Save labels for each image as txt"
      ],
      "metadata": {
        "id": "l6FsQ5iij0mO"
      }
    },
    {
      "cell_type": "code",
      "source": [
        "if not os.path.exists('temp/' + prefix + '/label'):\n",
        "    os.makedirs('temp/' + prefix + '/label')\n",
        "\n",
        "for _, row in labels.iterrows():\n",
        "\n",
        "    foo = row.label\n",
        "\n",
        "    # skip images without any objects\n",
        "    if foo is np.nan:\n",
        "        continue\n",
        "\n",
        "    df = pd.DataFrame(json.loads(foo))\n",
        "\n",
        "    # convert to pixel and radian\n",
        "    df['x'] = df['x']/100 * df['original_width']\n",
        "    df['y'] = df['y']/100 * df['original_height']\n",
        "    df['width'] = df['width']/100 * df['original_width']\n",
        "    df['height'] = df['height']/100 * df['original_height']\n",
        "    df['rotation'] = [math.radians(x) for x in df['rotation']]\n",
        "\n",
        "    annotation = 'imagesource:PSScene\\ngsd:' + str(row['gsd']) + '\\n'\n",
        "\n",
        "    for _, inner_row in df.iterrows():\n",
        "        x1 = inner_row['x']\n",
        "        y1 = inner_row['y']\n",
        "        width = inner_row['width']\n",
        "        height = inner_row['height']\n",
        "        z_radian = inner_row['rotation']\n",
        "\n",
        "        # rotate\n",
        "        x2 = width * math.cos(z_radian) - 0 * math.sin(z_radian) + x1\n",
        "        y2 = width * math.sin(z_radian) + 0 * math.cos(z_radian) + y1\n",
        "\n",
        "        x3 = width * math.cos(z_radian) - height * math.sin(z_radian) + x1\n",
        "        y3 = width * math.sin(z_radian) + height * math.cos(z_radian) + y1\n",
        "\n",
        "        x4 = 0 * math.cos(z_radian) - height * math.sin(z_radian) + x1\n",
        "        y4 = 0 * math.sin(z_radian) + height * math.cos(z_radian) + y1\n",
        "\n",
        "        rotated_corners = [(x1, y1), (x2, y2), (x3, y3), (x4, y4)]\n",
        "\n",
        "        # label\n",
        "        label = inner_row['rectanglelabels'][0]\n",
        "        new_label = '_'.join(label.split('_')[:-1])  # remove 'easy/difficult'\n",
        "\n",
        "        # difficulty\n",
        "        difficulty = 0 if label.split('_')[-1] == 'easy' else 1\n",
        "\n",
        "        # add\n",
        "        annotation += ' '.join([f\"{x:.3f} {y:.3f}\" for x, y in rotated_corners])\n",
        "        annotation += ' ' + new_label + ' ' + str(difficulty) + '\\n'\n",
        "\n",
        "    # save\n",
        "    image_file = row.image.split('/')[-1][9:]\n",
        "    text_file = image_file.replace('jpg', 'txt')\n",
        "    file_path = 'temp/' + prefix + '/label/' + text_file\n",
        "    with open(file_path, 'w') as file:\n",
        "        file.write(annotation)"
      ],
      "metadata": {
        "id": "P9ke0m7cOzZr"
      },
      "execution_count": 47,
      "outputs": []
    }
  ]
}